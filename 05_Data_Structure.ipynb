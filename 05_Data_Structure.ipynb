{
 "cells": [
  {
   "cell_type": "markdown",
   "id": "f0d25e65",
   "metadata": {
    "id": "9K5OWsfWREO3"
   },
   "source": [
    "# Data Structure"
   ]
  },
  {
   "cell_type": "markdown",
   "id": "00b2f444",
   "metadata": {
    "id": "kN1G_vyxSWmW"
   },
   "source": [
    "Aka data container.\n",
    "Way of organising and storing data so that it can be accessed and manipulated easily and efficiently.\n",
    "- It is sequencial way of organising data."
   ]
  },
  {
   "cell_type": "code",
   "execution_count": 3,
   "id": "d3d2cf4f",
   "metadata": {
    "colab": {
     "base_uri": "https://localhost:8080/"
    },
    "id": "fFdopQ3dzXzm",
    "outputId": "feb8db5c-0cd5-4eff-a233-25deb7bbff9a"
   },
   "outputs": [
    {
     "data": {
      "text/plain": [
       "('A', 'P', 'P', 'L', 'E', 'S', 's')"
      ]
     },
     "execution_count": 3,
     "metadata": {},
     "output_type": "execute_result"
    }
   ],
   "source": [
    "m=\"APPLESs\"\n",
    "m[0],m[1],m[2],m[3],m[4],m[5],m[6]"
   ]
  },
  {
   "cell_type": "markdown",
   "id": "701a9876",
   "metadata": {
    "id": "W3iMWHevW0xB"
   },
   "source": [
    "Types of data structure:\n",
    "- String\n",
    "- List\n",
    "- Tuple\n",
    "- Set\n",
    "- Dictionary\n",
    "- Array\n"
   ]
  },
  {
   "cell_type": "markdown",
   "id": "2dcaaff8",
   "metadata": {
    "id": "MoCGSSeNYM3m"
   },
   "source": [
    "##List"
   ]
  },
  {
   "cell_type": "markdown",
   "id": "d4db218f",
   "metadata": {
    "id": "enCyJemiYQqf"
   },
   "source": [
    "- Can store anything.\n",
    "- Heterogenous\n",
    "- Ordered collection of elements\n",
    "- Mutable"
   ]
  },
  {
   "cell_type": "code",
   "execution_count": 2,
   "id": "f69dc036",
   "metadata": {
    "colab": {
     "base_uri": "https://localhost:8080/"
    },
    "id": "U7IjBkGUT3-N",
    "outputId": "cf44e496-b320-4d4e-9eea-3714a57d6855"
   },
   "outputs": [
    {
     "data": {
      "text/plain": [
       "[1, 2, 3, 4]"
      ]
     },
     "execution_count": 2,
     "metadata": {},
     "output_type": "execute_result"
    }
   ],
   "source": [
    "num=[1,2,3,4]\n",
    "num"
   ]
  },
  {
   "cell_type": "code",
   "execution_count": 3,
   "id": "08e3234e",
   "metadata": {
    "colab": {
     "base_uri": "https://localhost:8080/"
    },
    "id": "dCIE6YOZZh-k",
    "outputId": "e0999c8d-eb00-405d-84a4-d2ba734fe12f"
   },
   "outputs": [
    {
     "data": {
      "text/plain": [
       "list"
      ]
     },
     "execution_count": 3,
     "metadata": {},
     "output_type": "execute_result"
    }
   ],
   "source": [
    "type(num)"
   ]
  },
  {
   "cell_type": "code",
   "execution_count": 4,
   "id": "f0516cd8",
   "metadata": {
    "colab": {
     "base_uri": "https://localhost:8080/"
    },
    "id": "ZOFelHehZlWT",
    "outputId": "de7351c5-6292-45c4-cfd2-db57d389256c"
   },
   "outputs": [
    {
     "data": {
      "text/plain": [
       "(4, 3, 2, 1)"
      ]
     },
     "execution_count": 4,
     "metadata": {},
     "output_type": "execute_result"
    }
   ],
   "source": [
    "num[-1],num[-2],num[-3],num[-4]"
   ]
  },
  {
   "cell_type": "code",
   "execution_count": 5,
   "id": "46902a58",
   "metadata": {
    "colab": {
     "base_uri": "https://localhost:8080/"
    },
    "id": "D27-VHjPy42p",
    "outputId": "b7ef4c5c-eee0-4508-adee-e4b56ff86dea"
   },
   "outputs": [
    {
     "data": {
      "text/plain": [
       "(1, 2, 3, 4)"
      ]
     },
     "execution_count": 5,
     "metadata": {},
     "output_type": "execute_result"
    }
   ],
   "source": [
    "num[0],num[1],num[2],num[3]"
   ]
  },
  {
   "cell_type": "code",
   "execution_count": 6,
   "id": "dc34fbec",
   "metadata": {
    "colab": {
     "base_uri": "https://localhost:8080/"
    },
    "id": "I1PM98wXy-hn",
    "outputId": "d7f55034-57e4-44d1-ce34-fd27d902b544"
   },
   "outputs": [
    {
     "data": {
      "text/plain": [
       "['Apple', 'Banana', 'Watermelon', 25, 67.98, -67, (5+7j), True]"
      ]
     },
     "execution_count": 6,
     "metadata": {},
     "output_type": "execute_result"
    }
   ],
   "source": [
    "# Can stor all types of data << Heterogenous\n",
    "list1=[\"Apple\",\"Banana\",\"Watermelon\",25,67.98,-67,5+7j,True]\n",
    "list1"
   ]
  },
  {
   "cell_type": "code",
   "execution_count": 7,
   "id": "fe327dda",
   "metadata": {
    "colab": {
     "base_uri": "https://localhost:8080/"
    },
    "id": "rxcJKiH0zgUy",
    "outputId": "37a1c155-0019-4785-83a4-b343efd060ca"
   },
   "outputs": [
    {
     "data": {
      "text/plain": [
       "list"
      ]
     },
     "execution_count": 7,
     "metadata": {},
     "output_type": "execute_result"
    }
   ],
   "source": [
    "type(list1)"
   ]
  },
  {
   "cell_type": "markdown",
   "id": "a60c35ae",
   "metadata": {
    "id": "kAHZ-YpRzmOM"
   },
   "source": [
    "### Mutable"
   ]
  },
  {
   "cell_type": "markdown",
   "id": "619dcb51",
   "metadata": {
    "id": "_rj7AMZ3zoth"
   },
   "source": [
    "Can be modified or edited even after execution"
   ]
  },
  {
   "cell_type": "code",
   "execution_count": 8,
   "id": "ceaf1b31",
   "metadata": {
    "colab": {
     "base_uri": "https://localhost:8080/"
    },
    "id": "RbjZ17F0zkqX",
    "outputId": "e1c886d5-6da0-4c2c-d9f6-ed7e2d05f994"
   },
   "outputs": [
    {
     "data": {
      "text/plain": [
       "['Apple', 'Banana', 'Watermelon', 25, 67.98, -67, (5+7j), True]"
      ]
     },
     "execution_count": 8,
     "metadata": {},
     "output_type": "execute_result"
    }
   ],
   "source": [
    "list1"
   ]
  },
  {
   "cell_type": "code",
   "execution_count": 9,
   "id": "4f4ff14a",
   "metadata": {
    "colab": {
     "base_uri": "https://localhost:8080/",
     "height": 35
    },
    "id": "-P2h-7R2zv7g",
    "outputId": "07580ca1-18c7-459b-e3d5-4794cc14ef6b"
   },
   "outputs": [
    {
     "data": {
      "text/plain": [
       "'Apple'"
      ]
     },
     "execution_count": 9,
     "metadata": {},
     "output_type": "execute_result"
    }
   ],
   "source": [
    "list1[0]"
   ]
  },
  {
   "cell_type": "code",
   "execution_count": 10,
   "id": "254f6dcb",
   "metadata": {
    "id": "d0H_KectzyA6"
   },
   "outputs": [],
   "source": [
    "list1[0]=\"Grapes\""
   ]
  },
  {
   "cell_type": "code",
   "execution_count": 11,
   "id": "e941cf82",
   "metadata": {
    "colab": {
     "base_uri": "https://localhost:8080/"
    },
    "id": "9q-Qnes-z1dD",
    "outputId": "bc316c45-6bb9-4e3c-d831-73e3773ce802"
   },
   "outputs": [
    {
     "data": {
      "text/plain": [
       "['Grapes', 'Banana', 'Watermelon', 25, 67.98, -67, (5+7j), True]"
      ]
     },
     "execution_count": 11,
     "metadata": {},
     "output_type": "execute_result"
    }
   ],
   "source": [
    "list1 # 1st element i.e. Apple is replaced by Grapes."
   ]
  },
  {
   "cell_type": "markdown",
   "id": "dc06ac40",
   "metadata": {
    "id": "sDHC6fOg0KkS"
   },
   "source": [
    "### Adding elements to the list"
   ]
  },
  {
   "cell_type": "code",
   "execution_count": 12,
   "id": "581bc733",
   "metadata": {
    "colab": {
     "base_uri": "https://localhost:8080/"
    },
    "id": "x6c7F8Iez2YO",
    "outputId": "612f2fc5-01b2-4709-c584-e06362463e1a"
   },
   "outputs": [
    {
     "data": {
      "text/plain": [
       "['Grapes', 'Banana', 'Watermelon', 25, 67.98, -67, (5+7j), True]"
      ]
     },
     "execution_count": 12,
     "metadata": {},
     "output_type": "execute_result"
    }
   ],
   "source": [
    "list1"
   ]
  },
  {
   "cell_type": "code",
   "execution_count": 13,
   "id": "eab2e143",
   "metadata": {
    "colab": {
     "base_uri": "https://localhost:8080/"
    },
    "id": "LiZq7Tis0Pj3",
    "outputId": "fc8664cf-89db-49f3-83bf-b898cbfd0e0b"
   },
   "outputs": [
    {
     "data": {
      "text/plain": [
       "['Grapes', 'Banana', 'Watermelon', 25, 67.98, -67, (5+7j), True, 'Fruits']"
      ]
     },
     "execution_count": 13,
     "metadata": {},
     "output_type": "execute_result"
    }
   ],
   "source": [
    "# To add element we use list.append(\"item\")\n",
    "list1.append(\"Fruits\") #append object to the end of list\n",
    "list1"
   ]
  },
  {
   "cell_type": "code",
   "execution_count": 14,
   "id": "2bbb8c1b",
   "metadata": {
    "colab": {
     "base_uri": "https://localhost:8080/"
    },
    "id": "R-asdPk10kCu",
    "outputId": "d9fc012c-4c06-4bd9-9a4f-f52a9c2b2d9e"
   },
   "outputs": [
    {
     "data": {
      "text/plain": [
       "list"
      ]
     },
     "execution_count": 14,
     "metadata": {},
     "output_type": "execute_result"
    }
   ],
   "source": [
    "type(list1)"
   ]
  },
  {
   "cell_type": "code",
   "execution_count": 15,
   "id": "e5356be5",
   "metadata": {
    "colab": {
     "base_uri": "https://localhost:8080/"
    },
    "id": "RYADKe9e0zoC",
    "outputId": "312735c4-1183-4cc8-8618-caa9d1ce878e"
   },
   "outputs": [
    {
     "data": {
      "text/plain": [
       "['Grapes', 'Banana', 'Watermelon', 25, 67.98, -67, (5+7j), True, 'Fruits']"
      ]
     },
     "execution_count": 15,
     "metadata": {},
     "output_type": "execute_result"
    }
   ],
   "source": [
    "list1"
   ]
  },
  {
   "cell_type": "code",
   "execution_count": 16,
   "id": "492be52d",
   "metadata": {
    "colab": {
     "base_uri": "https://localhost:8080/"
    },
    "id": "dnK_LKH_51x2",
    "outputId": "0206296e-1298-46d3-e909-fe233a147f44"
   },
   "outputs": [
    {
     "data": {
      "text/plain": [
       "['Raabta', 'Perfect', 'Donali']"
      ]
     },
     "execution_count": 16,
     "metadata": {},
     "output_type": "execute_result"
    }
   ],
   "source": [
    "# Use case\n",
    "playlist=[]\n",
    "playlist.append(\"Raabta\")\n",
    "playlist.append(\"Perfect\")\n",
    "playlist.append(\"Donali\")\n",
    "playlist"
   ]
  },
  {
   "cell_type": "markdown",
   "id": "1fdb073d",
   "metadata": {
    "id": "Kcv-0ci709WF"
   },
   "source": [
    "### Removing element from list"
   ]
  },
  {
   "cell_type": "code",
   "execution_count": 17,
   "id": "c6ab59a1",
   "metadata": {
    "colab": {
     "base_uri": "https://localhost:8080/"
    },
    "id": "41oQCyK300rp",
    "outputId": "bbb50285-ea52-4646-a13b-6a3ff3b530a6"
   },
   "outputs": [
    {
     "data": {
      "text/plain": [
       "['Grapes', 'Banana', 'Watermelon', 25, 67.98, -67, (5+7j), True]"
      ]
     },
     "execution_count": 17,
     "metadata": {},
     "output_type": "execute_result"
    }
   ],
   "source": [
    "# To remove element we use list.remove(item)\n",
    "list1.remove(\"Fruits\")\n",
    "list1"
   ]
  },
  {
   "cell_type": "code",
   "execution_count": 18,
   "id": "5a6d6a45",
   "metadata": {
    "colab": {
     "base_uri": "https://localhost:8080/"
    },
    "id": "YxrV6Key1KlS",
    "outputId": "531c43e2-7dd8-4ccc-c18c-f821cb9ffb31"
   },
   "outputs": [
    {
     "data": {
      "text/plain": [
       "['Grapes', 'Banana', 'Watermelon', 25, 67.98, (5+7j), True]"
      ]
     },
     "execution_count": 18,
     "metadata": {},
     "output_type": "execute_result"
    }
   ],
   "source": [
    "list1.remove(-67)\n",
    "list1"
   ]
  },
  {
   "cell_type": "markdown",
   "id": "29904ea9",
   "metadata": {
    "id": "GbvfWpal3Eva"
   },
   "source": [
    "### Nested List"
   ]
  },
  {
   "cell_type": "markdown",
   "id": "15f017c6",
   "metadata": {
    "id": "4ueJblj_3Hrc"
   },
   "source": [
    "Lists inside other list"
   ]
  },
  {
   "cell_type": "code",
   "execution_count": 19,
   "id": "8768903f",
   "metadata": {
    "colab": {
     "base_uri": "https://localhost:8080/"
    },
    "id": "ACxMhCqu3ABf",
    "outputId": "9a27c97f-5455-4cff-da0e-4ef25988fb04"
   },
   "outputs": [
    {
     "data": {
      "text/plain": [
       "[[1, 2, 3], [4, 5, 6], [7, 8, 9]]"
      ]
     },
     "execution_count": 19,
     "metadata": {},
     "output_type": "execute_result"
    }
   ],
   "source": [
    "a=[[1,2,3],[4,5,6],[7,8,9]]\n",
    "a"
   ]
  },
  {
   "cell_type": "code",
   "execution_count": 20,
   "id": "580a5e89",
   "metadata": {
    "colab": {
     "base_uri": "https://localhost:8080/"
    },
    "id": "4Q4dBI3Y3T8m",
    "outputId": "16f56684-2e74-4b64-f93b-d97c4ae96dfb"
   },
   "outputs": [
    {
     "data": {
      "text/plain": [
       "list"
      ]
     },
     "execution_count": 20,
     "metadata": {},
     "output_type": "execute_result"
    }
   ],
   "source": [
    "type(a)"
   ]
  },
  {
   "cell_type": "code",
   "execution_count": 21,
   "id": "23ae111f",
   "metadata": {
    "colab": {
     "base_uri": "https://localhost:8080/"
    },
    "id": "66387_mr3V5T",
    "outputId": "151995b1-3c99-4515-c772-e8dcbd61cac3"
   },
   "outputs": [
    {
     "data": {
      "text/plain": [
       "(3, 5, 7)"
      ]
     },
     "execution_count": 21,
     "metadata": {},
     "output_type": "execute_result"
    }
   ],
   "source": [
    "# Indexing this kind of lists by list[m][n]\n",
    "a[0][2],a[1][1],a[2][0]"
   ]
  },
  {
   "cell_type": "code",
   "execution_count": 22,
   "id": "e3b4734e",
   "metadata": {
    "colab": {
     "base_uri": "https://localhost:8080/"
    },
    "id": "a0CgJFtB3ooA",
    "outputId": "d4ea868e-895b-40fb-e4d4-b8fee55dedce"
   },
   "outputs": [
    {
     "data": {
      "text/plain": [
       "2"
      ]
     },
     "execution_count": 22,
     "metadata": {},
     "output_type": "execute_result"
    }
   ],
   "source": [
    "a[0][1]"
   ]
  },
  {
   "cell_type": "markdown",
   "id": "327f1a61",
   "metadata": {
    "id": "HLaQUPRV39Oo"
   },
   "source": [
    "### Iteration in List"
   ]
  },
  {
   "cell_type": "code",
   "execution_count": 23,
   "id": "37d287b1",
   "metadata": {
    "colab": {
     "base_uri": "https://localhost:8080/"
    },
    "id": "ToE71UBj35K4",
    "outputId": "2d6ab685-fb57-4152-83bb-d1ed6feceaf1"
   },
   "outputs": [
    {
     "name": "stdout",
     "output_type": "stream",
     "text": [
      "[1, 2, 3]\n",
      "[4, 5, 6]\n",
      "[7, 8, 9]\n"
     ]
    }
   ],
   "source": [
    "for i in a:\n",
    "    print(i)"
   ]
  },
  {
   "cell_type": "markdown",
   "id": "d2411e61",
   "metadata": {
    "id": "3C5S77PS4ZdJ"
   },
   "source": [
    "### Slicing of List"
   ]
  },
  {
   "cell_type": "markdown",
   "id": "150833fe",
   "metadata": {
    "id": "OWO-Sump4lbN"
   },
   "source": [
    "Extracting a part or slice of a list.\n",
    "- list[start:end:step]\n",
    "- start : Index where slice starts (inclusive)\n",
    "- end : index where slice ends (Exclusive)\n",
    "- step : How many items to skip (Optional)\n"
   ]
  },
  {
   "cell_type": "code",
   "execution_count": 24,
   "id": "297a5ed2",
   "metadata": {
    "colab": {
     "base_uri": "https://localhost:8080/"
    },
    "id": "7Gjy-pIu4FuW",
    "outputId": "4a1936a5-ad26-46bd-a264-1ee21c54b910"
   },
   "outputs": [
    {
     "data": {
      "text/plain": [
       "[1, 2, 3, 4, 5, 6, 7]"
      ]
     },
     "execution_count": 24,
     "metadata": {},
     "output_type": "execute_result"
    }
   ],
   "source": [
    "my_num=[1,2,3,4,5,6,7]\n",
    "my_num"
   ]
  },
  {
   "cell_type": "code",
   "execution_count": 25,
   "id": "2fccc92f",
   "metadata": {
    "colab": {
     "base_uri": "https://localhost:8080/"
    },
    "id": "dRANya2Y5MKN",
    "outputId": "deecc2df-9b66-4ee8-d1fe-517bf519bff1"
   },
   "outputs": [
    {
     "data": {
      "text/plain": [
       "[1, 2, 3]"
      ]
     },
     "execution_count": 25,
     "metadata": {},
     "output_type": "execute_result"
    }
   ],
   "source": [
    "# to get first three character\n",
    "my_num[0:3]"
   ]
  },
  {
   "cell_type": "code",
   "execution_count": 26,
   "id": "0088fb2a",
   "metadata": {
    "colab": {
     "base_uri": "https://localhost:8080/"
    },
    "id": "_joqNU8E5VpM",
    "outputId": "2fcf60fc-8b7c-4eb5-8e0c-017ec5145467"
   },
   "outputs": [
    {
     "data": {
      "text/plain": [
       "[3, 4, 5, 6, 7]"
      ]
     },
     "execution_count": 26,
     "metadata": {},
     "output_type": "execute_result"
    }
   ],
   "source": [
    "# to get last 4 character\n",
    "my_num[-5:]"
   ]
  },
  {
   "cell_type": "markdown",
   "id": "3d83a333",
   "metadata": {
    "id": "KHnTgJNo6W7Z"
   },
   "source": [
    "### insert()"
   ]
  },
  {
   "cell_type": "markdown",
   "id": "471dcc86",
   "metadata": {
    "id": "vLHyVR4H6aGN"
   },
   "source": [
    "To insert object before sepcific index"
   ]
  },
  {
   "cell_type": "code",
   "execution_count": 27,
   "id": "6ed2a317",
   "metadata": {
    "colab": {
     "base_uri": "https://localhost:8080/"
    },
    "id": "hg_v0RXM5g8c",
    "outputId": "e009711d-662c-46c8-8278-cb0b6d5b013d"
   },
   "outputs": [
    {
     "data": {
      "text/plain": [
       "['SAM02', 'PRA78', 'ANU56', 'MAH34']"
      ]
     },
     "execution_count": 27,
     "metadata": {},
     "output_type": "execute_result"
    }
   ],
   "source": [
    "emp_id=[\"SAM02\",\"PRA78\",\"ANU56\",\"MAH34\"]\n",
    "emp_id"
   ]
  },
  {
   "cell_type": "code",
   "execution_count": 28,
   "id": "a62625ad",
   "metadata": {
    "colab": {
     "base_uri": "https://localhost:8080/"
    },
    "id": "Ql9lws1K67Rn",
    "outputId": "a16f8c2f-a802-4e97-85f3-6d0fdcd07db8"
   },
   "outputs": [
    {
     "data": {
      "text/plain": [
       "['SAM02', 'DIP21', 'PRA78', 'ANU56', 'MAH34']"
      ]
     },
     "execution_count": 28,
     "metadata": {},
     "output_type": "execute_result"
    }
   ],
   "source": [
    "emp_id.insert(1,\"DIP21\")\n",
    "emp_id"
   ]
  },
  {
   "cell_type": "code",
   "execution_count": 29,
   "id": "10da1623",
   "metadata": {
    "id": "z-ck4hRJ7GtI"
   },
   "outputs": [],
   "source": [
    "#Use case\n",
    "bus_seat=[\"A\",\"B\",\"C\",\"D\",\"F\",\"G\",\"J\"]"
   ]
  },
  {
   "cell_type": "code",
   "execution_count": 30,
   "id": "f425b95a",
   "metadata": {
    "colab": {
     "base_uri": "https://localhost:8080/"
    },
    "id": "vIyHZFV87b-B",
    "outputId": "5e78acc8-ae18-4155-de4f-fc8ae423546e"
   },
   "outputs": [
    {
     "data": {
      "text/plain": [
       "['A', 'B', 'C', 'D', 'E', 'F', 'G', 'J']"
      ]
     },
     "execution_count": 30,
     "metadata": {},
     "output_type": "execute_result"
    }
   ],
   "source": [
    "bus_seat.insert(4,\"E\")\n",
    "bus_seat"
   ]
  },
  {
   "cell_type": "code",
   "execution_count": 31,
   "id": "97bd3881",
   "metadata": {
    "colab": {
     "base_uri": "https://localhost:8080/"
    },
    "id": "jvY_bA-R79Nq",
    "outputId": "db8334aa-5b34-43ed-bc4e-4c032903da1b"
   },
   "outputs": [
    {
     "data": {
      "text/plain": [
       "['A', 'B', 'C', 'D', 'E', 'F', 'G', 'H', 'J']"
      ]
     },
     "execution_count": 31,
     "metadata": {},
     "output_type": "execute_result"
    }
   ],
   "source": [
    "bus_seat.insert(7,\"H\")\n",
    "bus_seat"
   ]
  },
  {
   "cell_type": "code",
   "execution_count": 32,
   "id": "c31917db",
   "metadata": {
    "colab": {
     "base_uri": "https://localhost:8080/"
    },
    "id": "sJx6hm9h8z0y",
    "outputId": "f869e8f9-92c5-4430-c2fb-44a8a1149da7"
   },
   "outputs": [
    {
     "data": {
      "text/plain": [
       "['A', 'B', 'C', 'D', 'E', 'F', 'G', 'H', 'I', 'J']"
      ]
     },
     "execution_count": 32,
     "metadata": {},
     "output_type": "execute_result"
    }
   ],
   "source": [
    "bus_seat.insert(8,\"I\")\n",
    "bus_seat"
   ]
  },
  {
   "cell_type": "markdown",
   "id": "3a2f6868",
   "metadata": {
    "id": "ecUas-MM9PHO"
   },
   "source": [
    "### extend()"
   ]
  },
  {
   "cell_type": "markdown",
   "id": "0a2132b3",
   "metadata": {
    "id": "wfoDiHlt9Ro1"
   },
   "source": [
    "Used to append elements from another list"
   ]
  },
  {
   "cell_type": "code",
   "execution_count": 33,
   "id": "b78b4c94",
   "metadata": {
    "id": "7tBNJrj09B_Q"
   },
   "outputs": [],
   "source": [
    "my_list=[\"Singing\",\"Travelling\",\"Dancing\",\"Cooking\"]\n",
    "your_list=[\"Coding\",\"Sleeping\",\"Yapping\"]"
   ]
  },
  {
   "cell_type": "code",
   "execution_count": 34,
   "id": "e29f75ec",
   "metadata": {
    "colab": {
     "base_uri": "https://localhost:8080/"
    },
    "id": "Q3eL0cPG9wQC",
    "outputId": "868bc6f6-a23d-42dc-936d-834313b9d7c2"
   },
   "outputs": [
    {
     "data": {
      "text/plain": [
       "['Singing',\n",
       " 'Travelling',\n",
       " 'Dancing',\n",
       " 'Cooking',\n",
       " 'Coding',\n",
       " 'Sleeping',\n",
       " 'Yapping']"
      ]
     },
     "execution_count": 34,
     "metadata": {},
     "output_type": "execute_result"
    }
   ],
   "source": [
    "my_list.extend(your_list)\n",
    "my_list"
   ]
  },
  {
   "cell_type": "code",
   "execution_count": 35,
   "id": "a10d92ce",
   "metadata": {
    "id": "mvuwBbn2-hIu"
   },
   "outputs": [],
   "source": [
    "my_list=[\"Singing\",\"Travelling\",\"Dancing\",\"Cooking\"]\n",
    "your_list=[\"Coding\",\"Sleeping\",\"Yapping\"]"
   ]
  },
  {
   "cell_type": "code",
   "execution_count": 36,
   "id": "9146be12",
   "metadata": {
    "colab": {
     "base_uri": "https://localhost:8080/"
    },
    "id": "N7ElPvM6-TOW",
    "outputId": "7dd1fde1-3040-4ba8-c469-f1564d396e06"
   },
   "outputs": [
    {
     "data": {
      "text/plain": [
       "['Coding',\n",
       " 'Sleeping',\n",
       " 'Yapping',\n",
       " 'Singing',\n",
       " 'Travelling',\n",
       " 'Dancing',\n",
       " 'Cooking']"
      ]
     },
     "execution_count": 36,
     "metadata": {},
     "output_type": "execute_result"
    }
   ],
   "source": [
    "your_list.extend(my_list)\n",
    "your_list"
   ]
  },
  {
   "cell_type": "markdown",
   "id": "50e08568",
   "metadata": {
    "id": "paasIxqE-tL7"
   },
   "source": [
    "### Concatenation of List"
   ]
  },
  {
   "cell_type": "markdown",
   "id": "671077e8",
   "metadata": {
    "id": "r7JSmd5I-4lX"
   },
   "source": [
    "Join two or more list"
   ]
  },
  {
   "cell_type": "code",
   "execution_count": 37,
   "id": "8f4dd9a6",
   "metadata": {
    "colab": {
     "base_uri": "https://localhost:8080/"
    },
    "id": "iPtlQC_C92TN",
    "outputId": "7d294bb3-184f-498e-a0cb-4063d2b5dc54"
   },
   "outputs": [
    {
     "data": {
      "text/plain": [
       "['Singing',\n",
       " 'Travelling',\n",
       " 'Dancing',\n",
       " 'Cooking',\n",
       " 'Coding',\n",
       " 'Sleeping',\n",
       " 'Yapping']"
      ]
     },
     "execution_count": 37,
     "metadata": {},
     "output_type": "execute_result"
    }
   ],
   "source": [
    "my_list=[\"Singing\",\"Travelling\",\"Dancing\",\"Cooking\"]\n",
    "your_list=[\"Coding\",\"Sleeping\",\"Yapping\"]\n",
    "my_list+your_list"
   ]
  },
  {
   "cell_type": "code",
   "execution_count": 38,
   "id": "146872e1",
   "metadata": {
    "colab": {
     "base_uri": "https://localhost:8080/"
    },
    "id": "0Xp2eZ4U-rnY",
    "outputId": "5119e53b-eec0-448b-d639-8267b0f6bfb5"
   },
   "outputs": [
    {
     "data": {
      "text/plain": [
       "['A', 'B', 'C', 'D', 'E', 'F']"
      ]
     },
     "execution_count": 38,
     "metadata": {},
     "output_type": "execute_result"
    }
   ],
   "source": [
    "a=[\"A\",\"B\"]\n",
    "b=[\"C\",\"D\"]\n",
    "c=[\"E\",\"F\"]\n",
    "a+b+c"
   ]
  },
  {
   "cell_type": "markdown",
   "id": "eafab735",
   "metadata": {
    "id": "wERx1N67_P1u"
   },
   "source": [
    "### Repetition Operator"
   ]
  },
  {
   "cell_type": "code",
   "execution_count": 39,
   "id": "e7fd5c01",
   "metadata": {
    "colab": {
     "base_uri": "https://localhost:8080/",
     "height": 35
    },
    "id": "hXtTJgdg_Gfo",
    "outputId": "2dfd8bb4-003a-41ff-c533-c01376be2da2"
   },
   "outputs": [
    {
     "data": {
      "text/plain": [
       "'* * * * * * * * * * * * * * * '"
      ]
     },
     "execution_count": 39,
     "metadata": {},
     "output_type": "execute_result"
    }
   ],
   "source": [
    "\"* \"*15"
   ]
  },
  {
   "cell_type": "code",
   "execution_count": 40,
   "id": "8856f084",
   "metadata": {
    "colab": {
     "base_uri": "https://localhost:8080/",
     "height": 35
    },
    "id": "V6qXFtpq_Wvl",
    "outputId": "7275fa1c-d683-4fb4-e9c3-66339b3ec431"
   },
   "outputs": [
    {
     "data": {
      "text/plain": [
       "'- _ - _ - _ - _ - _ - _ - _ - _ - _ - _ '"
      ]
     },
     "execution_count": 40,
     "metadata": {},
     "output_type": "execute_result"
    }
   ],
   "source": [
    "\"- _ \"*10"
   ]
  },
  {
   "cell_type": "code",
   "execution_count": 41,
   "id": "f2985d26",
   "metadata": {
    "colab": {
     "base_uri": "https://localhost:8080/"
    },
    "id": "16ot4Re8ABGW",
    "outputId": "5691138c-af22-454c-94c7-c5f2e1140338"
   },
   "outputs": [
    {
     "data": {
      "text/plain": [
       "[0, 0, 0, 0, 0, 0, 0, 0, 0, 0]"
      ]
     },
     "execution_count": 41,
     "metadata": {},
     "output_type": "execute_result"
    }
   ],
   "source": [
    "[0]*10"
   ]
  },
  {
   "cell_type": "code",
   "execution_count": 42,
   "id": "6073a62d",
   "metadata": {
    "colab": {
     "base_uri": "https://localhost:8080/"
    },
    "id": "ATq62Y_4AGML",
    "outputId": "91061749-2452-4c5c-9ee8-01e22659435c"
   },
   "outputs": [
    {
     "data": {
      "text/plain": [
       "[1, 2, 3, 1, 2, 3, 1, 2, 3]"
      ]
     },
     "execution_count": 42,
     "metadata": {},
     "output_type": "execute_result"
    }
   ],
   "source": [
    "[1,2,3]*3"
   ]
  },
  {
   "cell_type": "code",
   "execution_count": 43,
   "id": "e775619f",
   "metadata": {
    "colab": {
     "base_uri": "https://localhost:8080/"
    },
    "id": "M6UxXiaUAJzZ",
    "outputId": "d8d6f78d-2648-4363-bc89-8cad5a6398c4"
   },
   "outputs": [
    {
     "data": {
      "text/plain": [
       "[0, 1, 2, 3, 4, 5, 6, 7, 8, 9]"
      ]
     },
     "execution_count": 43,
     "metadata": {},
     "output_type": "execute_result"
    }
   ],
   "source": [
    "list(range(10))"
   ]
  },
  {
   "cell_type": "code",
   "execution_count": 44,
   "id": "e42542ca",
   "metadata": {
    "colab": {
     "base_uri": "https://localhost:8080/"
    },
    "id": "Y3HdfWmUASm9",
    "outputId": "1f200728-60cd-4b65-971a-93873c71e64d"
   },
   "outputs": [
    {
     "data": {
      "text/plain": [
       "[0,\n",
       " 1,\n",
       " 2,\n",
       " 3,\n",
       " 4,\n",
       " 5,\n",
       " 6,\n",
       " 7,\n",
       " 8,\n",
       " 9,\n",
       " 0,\n",
       " 1,\n",
       " 2,\n",
       " 3,\n",
       " 4,\n",
       " 5,\n",
       " 6,\n",
       " 7,\n",
       " 8,\n",
       " 9,\n",
       " 0,\n",
       " 1,\n",
       " 2,\n",
       " 3,\n",
       " 4,\n",
       " 5,\n",
       " 6,\n",
       " 7,\n",
       " 8,\n",
       " 9]"
      ]
     },
     "execution_count": 44,
     "metadata": {},
     "output_type": "execute_result"
    }
   ],
   "source": [
    "list(range(10))*3"
   ]
  },
  {
   "cell_type": "code",
   "execution_count": 45,
   "id": "182cc08f",
   "metadata": {
    "colab": {
     "base_uri": "https://localhost:8080/"
    },
    "id": "od96_B6ZAZzC",
    "outputId": "cb8005fd-7c08-4cb2-da48-78dfc738ffdb"
   },
   "outputs": [
    {
     "name": "stdout",
     "output_type": "stream",
     "text": [
      "Hi \n",
      "Hi \n",
      "Hi \n",
      "\n"
     ]
    }
   ],
   "source": [
    "msg=\"Hi \\n\"\n",
    "print(msg*3)"
   ]
  },
  {
   "cell_type": "markdown",
   "id": "85e047bd",
   "metadata": {
    "id": "8YLh0vfVBXPO"
   },
   "source": [
    "### Membership Operator in List"
   ]
  },
  {
   "cell_type": "code",
   "execution_count": 46,
   "id": "aff89373",
   "metadata": {
    "id": "L_TD7rwuAopT"
   },
   "outputs": [],
   "source": [
    "movies=[\"Avengers\",\"DDLJ\",\"Fault\"]"
   ]
  },
  {
   "cell_type": "code",
   "execution_count": 47,
   "id": "79096391",
   "metadata": {
    "colab": {
     "base_uri": "https://localhost:8080/"
    },
    "id": "bioprqmOB2E1",
    "outputId": "b0c1e5cd-b10e-41a0-b75c-2be670f5639b"
   },
   "outputs": [
    {
     "data": {
      "text/plain": [
       "True"
      ]
     },
     "execution_count": 47,
     "metadata": {},
     "output_type": "execute_result"
    }
   ],
   "source": [
    "\"DDLJ\" in movies"
   ]
  },
  {
   "cell_type": "code",
   "execution_count": 48,
   "id": "de03cdf9",
   "metadata": {
    "colab": {
     "base_uri": "https://localhost:8080/"
    },
    "id": "ulnIMYn9B6D8",
    "outputId": "0c7a9769-fa31-4e02-d5c3-06cb4cd6cc9d"
   },
   "outputs": [
    {
     "data": {
      "text/plain": [
       "True"
      ]
     },
     "execution_count": 48,
     "metadata": {},
     "output_type": "execute_result"
    }
   ],
   "source": [
    "\"Intersteller\" not in movies"
   ]
  },
  {
   "cell_type": "code",
   "execution_count": 49,
   "id": "224c9e21",
   "metadata": {
    "colab": {
     "base_uri": "https://localhost:8080/"
    },
    "id": "xLmEh_geCBxW",
    "outputId": "5c63e8e5-a18a-4c37-bed5-694222da7cbb"
   },
   "outputs": [
    {
     "data": {
      "text/plain": [
       "False"
      ]
     },
     "execution_count": 49,
     "metadata": {},
     "output_type": "execute_result"
    }
   ],
   "source": [
    "\"DDLJ\" not in movies"
   ]
  },
  {
   "cell_type": "code",
   "execution_count": 50,
   "id": "68ce8030",
   "metadata": {
    "colab": {
     "base_uri": "https://localhost:8080/"
    },
    "id": "Qdb9jEAlCFUy",
    "outputId": "b575b456-a393-4c19-eb4c-e8e6b33e1675"
   },
   "outputs": [
    {
     "data": {
      "text/plain": [
       "False"
      ]
     },
     "execution_count": 50,
     "metadata": {},
     "output_type": "execute_result"
    }
   ],
   "source": [
    "\"intersteller\" in movies"
   ]
  },
  {
   "cell_type": "markdown",
   "id": "584447b4",
   "metadata": {
    "id": "7woKz0HyEBsS"
   },
   "source": [
    "### Deep Copy & Shallow Copy"
   ]
  },
  {
   "cell_type": "markdown",
   "id": "ce22af1e",
   "metadata": {
    "id": "Uv8aEUb2EHTM"
   },
   "source": [
    "- Shallow Copy :\n",
    "Value will change with change in other List ( memory block will be same for the both)"
   ]
  },
  {
   "cell_type": "code",
   "execution_count": 51,
   "id": "4b2f81fd",
   "metadata": {
    "colab": {
     "base_uri": "https://localhost:8080/"
    },
    "id": "sbUqD90YCIoq",
    "outputId": "80adadd4-5ea2-475e-ecfe-d2463c60b1df"
   },
   "outputs": [
    {
     "data": {
      "text/plain": [
       "['Jeans', 'Bodycon', 'Middi', 'Hoodie', 'Shirt']"
      ]
     },
     "execution_count": 51,
     "metadata": {},
     "output_type": "execute_result"
    }
   ],
   "source": [
    "outfit=[\"Jeans\",\"Bodycon\",\"Middi\",\"Hoodie\",\"Shirt\"]\n",
    "outfit"
   ]
  },
  {
   "cell_type": "code",
   "execution_count": 52,
   "id": "2c23f41f",
   "metadata": {
    "colab": {
     "base_uri": "https://localhost:8080/"
    },
    "id": "3RinFoutE6Qa",
    "outputId": "3ab7b090-2c9b-4a08-9056-1acbd15c69fb"
   },
   "outputs": [
    {
     "data": {
      "text/plain": [
       "['Jeans', 'Bodycon', 'Middi', 'Hoodie', 'Shirt']"
      ]
     },
     "execution_count": 52,
     "metadata": {},
     "output_type": "execute_result"
    }
   ],
   "source": [
    "wardrobe=outfit\n",
    "wardrobe"
   ]
  },
  {
   "cell_type": "code",
   "execution_count": 53,
   "id": "96776f66",
   "metadata": {
    "colab": {
     "base_uri": "https://localhost:8080/"
    },
    "id": "OoCJfZOtGPkE",
    "outputId": "8140f874-828d-44fd-d9fe-a5f4b413e734"
   },
   "outputs": [
    {
     "data": {
      "text/plain": [
       "['Jeans', 'Bodycon', 'Suits', 'Hoodie', 'Shirt']"
      ]
     },
     "execution_count": 53,
     "metadata": {},
     "output_type": "execute_result"
    }
   ],
   "source": [
    "outfit[2]=\"Suits\"\n",
    "outfit"
   ]
  },
  {
   "cell_type": "code",
   "execution_count": 54,
   "id": "37d13a17",
   "metadata": {
    "colab": {
     "base_uri": "https://localhost:8080/"
    },
    "id": "PqDw899uGfzB",
    "outputId": "54521870-2c0e-4961-ea61-de64b6298fd9"
   },
   "outputs": [
    {
     "data": {
      "text/plain": [
       "['Jeans', 'Bodycon', 'Suits', 'Hoodie', 'Shirt']"
      ]
     },
     "execution_count": 54,
     "metadata": {},
     "output_type": "execute_result"
    }
   ],
   "source": [
    "wardrobe"
   ]
  },
  {
   "cell_type": "markdown",
   "id": "73122ecf",
   "metadata": {
    "id": "aHzw5cS1FROQ"
   },
   "source": [
    "- Deep copy : Will not change the value in another list (Use different memory blocks)"
   ]
  },
  {
   "cell_type": "code",
   "execution_count": 55,
   "id": "b153bf5f",
   "metadata": {
    "id": "lUmeZG6RDK-g"
   },
   "outputs": [],
   "source": [
    "# deep copy\n",
    "a = [\"a\",1, 2, 3]"
   ]
  },
  {
   "cell_type": "code",
   "execution_count": 56,
   "id": "4c64534b",
   "metadata": {
    "colab": {
     "base_uri": "https://localhost:8080/"
    },
    "id": "3mMnbd4VHjoU",
    "outputId": "d82f1630-3e3c-41d7-e075-d4af7cccf5f3"
   },
   "outputs": [
    {
     "data": {
      "text/plain": [
       "['a', 1, 2, 3]"
      ]
     },
     "execution_count": 56,
     "metadata": {},
     "output_type": "execute_result"
    }
   ],
   "source": [
    "import copy\n",
    "copy.deepcopy(a)"
   ]
  },
  {
   "cell_type": "code",
   "execution_count": 57,
   "id": "2a8ebd6b",
   "metadata": {
    "id": "-paAOMJfDc7j"
   },
   "outputs": [],
   "source": [
    "b = a.copy()"
   ]
  },
  {
   "cell_type": "code",
   "execution_count": 58,
   "id": "dce3d96b",
   "metadata": {
    "colab": {
     "base_uri": "https://localhost:8080/"
    },
    "id": "6MDnVIegDfCe",
    "outputId": "8fbec214-2ccb-4394-c78b-e3967be35ec1"
   },
   "outputs": [
    {
     "data": {
      "text/plain": [
       "['a', 1, 2, 3]"
      ]
     },
     "execution_count": 58,
     "metadata": {},
     "output_type": "execute_result"
    }
   ],
   "source": [
    "b"
   ]
  },
  {
   "cell_type": "code",
   "execution_count": 59,
   "id": "f0a9a636",
   "metadata": {
    "colab": {
     "base_uri": "https://localhost:8080/"
    },
    "id": "w3pv2DGNFIYI",
    "outputId": "f2c78bfd-b94a-4def-d205-620b0326017d"
   },
   "outputs": [
    {
     "data": {
      "text/plain": [
       "['Jeans', 'Bodycon', 'Middi', 'Hoodie', 'Shirt']"
      ]
     },
     "execution_count": 59,
     "metadata": {},
     "output_type": "execute_result"
    }
   ],
   "source": [
    "outfit=[\"Jeans\",\"Bodycon\",\"Middi\",\"Hoodie\",\"Shirt\"]\n",
    "outfit"
   ]
  },
  {
   "cell_type": "code",
   "execution_count": 60,
   "id": "54a8e557",
   "metadata": {
    "colab": {
     "base_uri": "https://localhost:8080/"
    },
    "id": "DZOhtYvWFh6h",
    "outputId": "723c0bfa-82cd-4aaa-cbb4-ecce95b8ac8c"
   },
   "outputs": [
    {
     "data": {
      "text/plain": [
       "['Jeans', 'Bodycon', 'Middi', 'Hoodie', 'Shirt']"
      ]
     },
     "execution_count": 60,
     "metadata": {},
     "output_type": "execute_result"
    }
   ],
   "source": [
    "wardrobe=outfit.copy()\n",
    "wardrobe"
   ]
  },
  {
   "cell_type": "code",
   "execution_count": 61,
   "id": "d4bead03",
   "metadata": {
    "colab": {
     "base_uri": "https://localhost:8080/"
    },
    "id": "cMOPUE29F2H-",
    "outputId": "324fb9d9-e0f5-4729-f196-9a8d1b2cd69c"
   },
   "outputs": [
    {
     "data": {
      "text/plain": [
       "['Jeans', 'Bodycon', 'Saaree', 'Hoodie', 'Shirt']"
      ]
     },
     "execution_count": 61,
     "metadata": {},
     "output_type": "execute_result"
    }
   ],
   "source": [
    "outfit[2]=\"Saaree\"\n",
    "outfit"
   ]
  },
  {
   "cell_type": "code",
   "execution_count": 62,
   "id": "1190d225",
   "metadata": {
    "colab": {
     "base_uri": "https://localhost:8080/"
    },
    "id": "sgCVBmoHGHi3",
    "outputId": "359999bb-26a7-4585-9755-86d7a1620a13"
   },
   "outputs": [
    {
     "data": {
      "text/plain": [
       "['Jeans', 'Bodycon', 'Middi', 'Hoodie', 'Shirt']"
      ]
     },
     "execution_count": 62,
     "metadata": {},
     "output_type": "execute_result"
    }
   ],
   "source": [
    "wardrobe"
   ]
  },
  {
   "cell_type": "markdown",
   "id": "901e9f95",
   "metadata": {
    "id": "7IP9YNzVG_4x"
   },
   "source": [
    "### Sorting List"
   ]
  },
  {
   "cell_type": "markdown",
   "id": "b6721853",
   "metadata": {
    "id": "hB3c8WSDHHsJ"
   },
   "source": [
    "- Sort the list in alphabetical order\n",
    "- syntax : sorted(list)"
   ]
  },
  {
   "cell_type": "code",
   "execution_count": 63,
   "id": "47e0d470",
   "metadata": {
    "colab": {
     "base_uri": "https://localhost:8080/"
    },
    "id": "FzZtMp8gGJqL",
    "outputId": "ea0bc6c6-c680-473e-f513-31b18aba53e9"
   },
   "outputs": [
    {
     "data": {
      "text/plain": [
       "['Bodycon', 'Hoodie', 'Jeans', 'Middi', 'Shirt']"
      ]
     },
     "execution_count": 63,
     "metadata": {},
     "output_type": "execute_result"
    }
   ],
   "source": [
    "outfit=[\"Jeans\",\"Bodycon\",\"Middi\",\"Hoodie\",\"Shirt\"]\n",
    "sorted(outfit)"
   ]
  },
  {
   "cell_type": "markdown",
   "id": "b3fc1930",
   "metadata": {
    "id": "TeluqrKvHiC5"
   },
   "source": [
    "### Index in list"
   ]
  },
  {
   "cell_type": "markdown",
   "id": "241eda0b",
   "metadata": {
    "id": "3UEDq0YOHkc_"
   },
   "source": [
    "- Return the index of 1st occurence\n",
    "- syntax : list.index(\"Item\")"
   ]
  },
  {
   "cell_type": "code",
   "execution_count": 64,
   "id": "43ce48c0",
   "metadata": {
    "colab": {
     "base_uri": "https://localhost:8080/"
    },
    "id": "Kudl6mu6HZGx",
    "outputId": "ba02f0e9-7bd3-4582-d573-f0aaf16f638a"
   },
   "outputs": [
    {
     "data": {
      "text/plain": [
       "0"
      ]
     },
     "execution_count": 64,
     "metadata": {},
     "output_type": "execute_result"
    }
   ],
   "source": [
    "outfit.index(\"Jeans\")"
   ]
  },
  {
   "cell_type": "code",
   "execution_count": 65,
   "id": "f1a75d20",
   "metadata": {
    "colab": {
     "base_uri": "https://localhost:8080/"
    },
    "id": "Cwyd5E5jHywA",
    "outputId": "b4fb9f6e-09bb-424d-edf3-aabc9b96b60c"
   },
   "outputs": [
    {
     "data": {
      "text/plain": [
       "3"
      ]
     },
     "execution_count": 65,
     "metadata": {},
     "output_type": "execute_result"
    }
   ],
   "source": [
    "outfit.index(\"Hoodie\")"
   ]
  },
  {
   "cell_type": "markdown",
   "id": "725e3439",
   "metadata": {
    "id": "CS9O-BQHH5T9"
   },
   "source": [
    "### Length of list"
   ]
  },
  {
   "cell_type": "markdown",
   "id": "4272f969",
   "metadata": {
    "id": "BNGFnSPyH8G-"
   },
   "source": [
    "- Used to determine the no. of elements present in List\n",
    "- syntax : len(list)"
   ]
  },
  {
   "cell_type": "code",
   "execution_count": 66,
   "id": "f1492564",
   "metadata": {
    "colab": {
     "base_uri": "https://localhost:8080/"
    },
    "id": "X9M-SD28H3Qx",
    "outputId": "d7ae085a-97e4-4b70-da3a-d9c659fddaa7"
   },
   "outputs": [
    {
     "data": {
      "text/plain": [
       "5"
      ]
     },
     "execution_count": 66,
     "metadata": {},
     "output_type": "execute_result"
    }
   ],
   "source": [
    "len(outfit)"
   ]
  },
  {
   "cell_type": "markdown",
   "id": "19bcaf8f",
   "metadata": {
    "id": "SxyTxsNtIfuQ"
   },
   "source": [
    "### .count()"
   ]
  },
  {
   "cell_type": "markdown",
   "id": "516ee663",
   "metadata": {
    "id": "fAdWoTuQIiE2"
   },
   "source": [
    "- gives count of specific elements"
   ]
  },
  {
   "cell_type": "code",
   "execution_count": 67,
   "id": "4996b6f2",
   "metadata": {
    "colab": {
     "base_uri": "https://localhost:8080/"
    },
    "id": "NTnXeQzNIdkK",
    "outputId": "a0546bd5-c965-4673-9137-365f7c35c001"
   },
   "outputs": [
    {
     "data": {
      "text/plain": [
       "['Chocolate', 5, 8, 'Maggie', 'Chocolate', 8, 8, 'Coke', 'Chocolate', 5]"
      ]
     },
     "execution_count": 67,
     "metadata": {},
     "output_type": "execute_result"
    }
   ],
   "source": [
    "listyy=[\"Chocolate\",5,8,\"Maggie\",\"Chocolate\",8,8,\"Coke\",\"Chocolate\",5]\n",
    "listyy"
   ]
  },
  {
   "cell_type": "code",
   "execution_count": 68,
   "id": "8d4a80ce",
   "metadata": {
    "colab": {
     "base_uri": "https://localhost:8080/"
    },
    "id": "hWCNs76LI3Js",
    "outputId": "78b8f53a-371c-49e8-fde8-3493205b25fd"
   },
   "outputs": [
    {
     "data": {
      "text/plain": [
       "3"
      ]
     },
     "execution_count": 68,
     "metadata": {},
     "output_type": "execute_result"
    }
   ],
   "source": [
    "listyy.count(\"Chocolate\")"
   ]
  },
  {
   "cell_type": "code",
   "execution_count": 69,
   "id": "ae868d23",
   "metadata": {
    "colab": {
     "base_uri": "https://localhost:8080/"
    },
    "id": "xWTROl8sI8yc",
    "outputId": "1e00291d-f7f0-400e-e0b3-3b8d73db23f2"
   },
   "outputs": [
    {
     "data": {
      "text/plain": [
       "2"
      ]
     },
     "execution_count": 69,
     "metadata": {},
     "output_type": "execute_result"
    }
   ],
   "source": [
    "listyy.count(5)"
   ]
  },
  {
   "cell_type": "markdown",
   "id": "2036f0ea",
   "metadata": {
    "id": "adq8MIWyJE2Q"
   },
   "source": [
    "### Deleting the List"
   ]
  },
  {
   "cell_type": "markdown",
   "id": "97271c8e",
   "metadata": {
    "id": "9KoHm-oDJMhb"
   },
   "source": [
    "To del tha entire list / variable defined for list"
   ]
  },
  {
   "cell_type": "code",
   "execution_count": 70,
   "id": "0ec76ccf",
   "metadata": {
    "id": "i_H7T6xYJA66"
   },
   "outputs": [],
   "source": [
    "del listyy"
   ]
  },
  {
   "cell_type": "code",
   "execution_count": 71,
   "id": "f4744e04",
   "metadata": {
    "id": "MBCPDl32JUwF"
   },
   "outputs": [],
   "source": [
    "#listyy #<< not defined"
   ]
  },
  {
   "cell_type": "markdown",
   "id": "d12e221a",
   "metadata": {
    "id": "9tN-YlRXLGWB"
   },
   "source": [
    "### .clear()"
   ]
  },
  {
   "cell_type": "markdown",
   "id": "a60be00e",
   "metadata": {
    "id": "-D0yI1_JLJx6"
   },
   "source": [
    "- To clear the elements inside the list\n",
    "- Syntax : list.clear()"
   ]
  },
  {
   "cell_type": "code",
   "execution_count": 72,
   "id": "2dabd353",
   "metadata": {
    "colab": {
     "base_uri": "https://localhost:8080/"
    },
    "id": "Gy3sYdBeJV0V",
    "outputId": "e448cdc9-5831-4d38-eeb8-4d13e2ef48d3"
   },
   "outputs": [
    {
     "data": {
      "text/plain": [
       "['Jeans', 'Bodycon', 'Middi', 'Hoodie', 'Shirt']"
      ]
     },
     "execution_count": 72,
     "metadata": {},
     "output_type": "execute_result"
    }
   ],
   "source": [
    "outfit"
   ]
  },
  {
   "cell_type": "code",
   "execution_count": 73,
   "id": "44cc571d",
   "metadata": {
    "id": "wKpc1-sPLTvc"
   },
   "outputs": [],
   "source": [
    "outfit.clear()"
   ]
  },
  {
   "cell_type": "code",
   "execution_count": 74,
   "id": "187425e5",
   "metadata": {
    "colab": {
     "base_uri": "https://localhost:8080/"
    },
    "id": "mFJ0Q2-5LWM2",
    "outputId": "c51fc36a-f5cc-4e4a-dcf0-05ba418c5cce"
   },
   "outputs": [
    {
     "data": {
      "text/plain": [
       "[]"
      ]
     },
     "execution_count": 74,
     "metadata": {},
     "output_type": "execute_result"
    }
   ],
   "source": [
    "outfit"
   ]
  },
  {
   "cell_type": "markdown",
   "id": "d8630bf5",
   "metadata": {
    "id": "E2hn0NE-LaG6"
   },
   "source": [
    "### .pop()"
   ]
  },
  {
   "cell_type": "markdown",
   "id": "b255ab44",
   "metadata": {
    "id": "AhcQK077LlU1"
   },
   "source": [
    "- used to pop out the elements from list\n",
    "- by default, pop out last element\n",
    "- syntax : list.pop(index)"
   ]
  },
  {
   "cell_type": "code",
   "execution_count": 75,
   "id": "09618dbf",
   "metadata": {
    "colab": {
     "base_uri": "https://localhost:8080/"
    },
    "id": "GiUgAq0jLYNQ",
    "outputId": "2c78521c-4e25-4d89-f1ad-a378b0f2b7ae"
   },
   "outputs": [
    {
     "data": {
      "text/plain": [
       "['Netflix', 'Prime', 'Hotstar', 'SonyLiv', 'Alt Balaji']"
      ]
     },
     "execution_count": 75,
     "metadata": {},
     "output_type": "execute_result"
    }
   ],
   "source": [
    "OTT=[\"Netflix\",\"Prime\",\"Hotstar\",\"SonyLiv\",\"Alt Balaji\"]\n",
    "OTT"
   ]
  },
  {
   "cell_type": "code",
   "execution_count": 76,
   "id": "deb01ecb",
   "metadata": {
    "colab": {
     "base_uri": "https://localhost:8080/",
     "height": 35
    },
    "id": "1vzj5cGNMDFe",
    "outputId": "dfd7120b-6561-4351-c87e-25033b082591"
   },
   "outputs": [
    {
     "data": {
      "text/plain": [
       "'Alt Balaji'"
      ]
     },
     "execution_count": 76,
     "metadata": {},
     "output_type": "execute_result"
    }
   ],
   "source": [
    "OTT.pop()"
   ]
  },
  {
   "cell_type": "code",
   "execution_count": 77,
   "id": "b469ebd4",
   "metadata": {
    "colab": {
     "base_uri": "https://localhost:8080/"
    },
    "id": "-Fnf4qNDMFEY",
    "outputId": "96284761-61a6-4856-96d1-3954125b9bfd"
   },
   "outputs": [
    {
     "data": {
      "text/plain": [
       "['Netflix', 'Prime', 'Hotstar', 'SonyLiv']"
      ]
     },
     "execution_count": 77,
     "metadata": {},
     "output_type": "execute_result"
    }
   ],
   "source": [
    "OTT"
   ]
  },
  {
   "cell_type": "code",
   "execution_count": 78,
   "id": "a27f4925",
   "metadata": {
    "colab": {
     "base_uri": "https://localhost:8080/",
     "height": 35
    },
    "id": "8aH2NBGeMNPQ",
    "outputId": "66129b58-82dd-4348-9020-087647e8b523"
   },
   "outputs": [
    {
     "data": {
      "text/plain": [
       "'Prime'"
      ]
     },
     "execution_count": 78,
     "metadata": {},
     "output_type": "execute_result"
    }
   ],
   "source": [
    "OTT.pop(1)"
   ]
  },
  {
   "cell_type": "code",
   "execution_count": 79,
   "id": "44e44fb3",
   "metadata": {
    "colab": {
     "base_uri": "https://localhost:8080/"
    },
    "id": "gIf7HEdbMQDA",
    "outputId": "0b05b04f-558d-4319-d743-e933c1243d5b"
   },
   "outputs": [
    {
     "data": {
      "text/plain": [
       "['Netflix', 'Hotstar', 'SonyLiv']"
      ]
     },
     "execution_count": 79,
     "metadata": {},
     "output_type": "execute_result"
    }
   ],
   "source": [
    "OTT"
   ]
  },
  {
   "cell_type": "markdown",
   "id": "9bb892cc",
   "metadata": {
    "id": "kgO7rnSZMVF8"
   },
   "source": [
    "### List Comprehension"
   ]
  },
  {
   "cell_type": "markdown",
   "id": "017699e5",
   "metadata": {
    "id": "QUosrW5CMZu6"
   },
   "source": [
    "- A short-hand way to built a new list by applying an operation to each item or iterable --------- in a SINGLE LINE.\n",
    "- syntax : new_list=[expression 'for' item 'in' iterable 'if' condition]"
   ]
  },
  {
   "cell_type": "code",
   "execution_count": 80,
   "id": "d007249f",
   "metadata": {
    "colab": {
     "base_uri": "https://localhost:8080/"
    },
    "id": "XDqaZfDnMRPA",
    "outputId": "c7f68d32-66f8-4a5c-a3c3-39f03bb9ebc7"
   },
   "outputs": [
    {
     "data": {
      "text/plain": [
       "[20, 40, 60, 80, 100, 120]"
      ]
     },
     "execution_count": 80,
     "metadata": {},
     "output_type": "execute_result"
    }
   ],
   "source": [
    "# example\n",
    "num=[10,20,30,40,50,60]\n",
    "doubled_num=[]\n",
    "for i in num:\n",
    "    doubled_num.append(i*2)\n",
    "doubled_num"
   ]
  },
  {
   "cell_type": "code",
   "execution_count": 81,
   "id": "e5a472e1",
   "metadata": {
    "colab": {
     "base_uri": "https://localhost:8080/"
    },
    "id": "deblyDiFNis1",
    "outputId": "900ac0f3-c68c-4395-ca0c-a994d7d9a328"
   },
   "outputs": [
    {
     "data": {
      "text/plain": [
       "[20, 40, 60, 80, 100, 120]"
      ]
     },
     "execution_count": 81,
     "metadata": {},
     "output_type": "execute_result"
    }
   ],
   "source": [
    "[a*2 for a in num]"
   ]
  },
  {
   "cell_type": "code",
   "execution_count": 82,
   "id": "5601ed71",
   "metadata": {
    "colab": {
     "base_uri": "https://localhost:8080/"
    },
    "id": "WJ1jZbw7N3bd",
    "outputId": "8e13e0a1-33ad-45e1-ee52-223ac243830f"
   },
   "outputs": [
    {
     "data": {
      "text/plain": [
       "['Prag', 'Anu', 'Bubbu']"
      ]
     },
     "execution_count": 82,
     "metadata": {},
     "output_type": "execute_result"
    }
   ],
   "source": [
    "name=[\"prag\",\"anu\",\"bubbu\"]\n",
    "Name=[]\n",
    "for i in name:\n",
    "    Name.append(i.capitalize())\n",
    "Name"
   ]
  },
  {
   "cell_type": "code",
   "execution_count": 83,
   "id": "2178ebec",
   "metadata": {
    "colab": {
     "base_uri": "https://localhost:8080/"
    },
    "id": "ED5VrQYpPFIc",
    "outputId": "50c59311-e1e2-444f-8937-23eb71ee3595"
   },
   "outputs": [
    {
     "data": {
      "text/plain": [
       "['Prag', 'Anu', 'Bubbu']"
      ]
     },
     "execution_count": 83,
     "metadata": {},
     "output_type": "execute_result"
    }
   ],
   "source": [
    "[xyz.capitalize() for xyz in name]"
   ]
  },
  {
   "cell_type": "code",
   "execution_count": 84,
   "id": "a64a3b4c",
   "metadata": {
    "colab": {
     "base_uri": "https://localhost:8080/"
    },
    "id": "_Rzuhi6PPPNA",
    "outputId": "259a0440-7b7f-45a2-fe40-9f9ccf8b94b5"
   },
   "outputs": [
    {
     "data": {
      "text/plain": [
       "['PRAG', 'ANU', 'BUBBU']"
      ]
     },
     "execution_count": 84,
     "metadata": {},
     "output_type": "execute_result"
    }
   ],
   "source": [
    "[xyz.upper() for xyz in name]"
   ]
  },
  {
   "cell_type": "code",
   "execution_count": 85,
   "id": "6b8899d2",
   "metadata": {
    "colab": {
     "base_uri": "https://localhost:8080/"
    },
    "id": "2K1N8s_uP7kS",
    "outputId": "84240a72-076f-452d-8658-36fd6dcb5a72"
   },
   "outputs": [
    {
     "data": {
      "text/plain": [
       "[4, 16, 9, 25]"
      ]
     },
     "execution_count": 85,
     "metadata": {},
     "output_type": "execute_result"
    }
   ],
   "source": [
    "num=[2,4,3,5]\n",
    "squares=[]\n",
    "for i in num:\n",
    "    squares.append(i**2)\n",
    "squares"
   ]
  },
  {
   "cell_type": "code",
   "execution_count": 86,
   "id": "f70e133d",
   "metadata": {
    "colab": {
     "base_uri": "https://localhost:8080/"
    },
    "id": "e47-92rjQP_9",
    "outputId": "64c7f733-ac71-4e81-9176-8c2af9b8f24d"
   },
   "outputs": [
    {
     "data": {
      "text/plain": [
       "[4, 16, 9, 25]"
      ]
     },
     "execution_count": 86,
     "metadata": {},
     "output_type": "execute_result"
    }
   ],
   "source": [
    "[mi**2 for mi in num]"
   ]
  },
  {
   "cell_type": "markdown",
   "id": "d0609c45",
   "metadata": {
    "id": "H6KkHcmKQjhS"
   },
   "source": [
    "#### .split()"
   ]
  },
  {
   "cell_type": "markdown",
   "id": "67e6fe36",
   "metadata": {
    "id": "J9AlFueDQmiG"
   },
   "source": [
    "- used to split the word\n",
    "- Syntax : list.split(\"splitting point\")[index]"
   ]
  },
  {
   "cell_type": "code",
   "execution_count": 87,
   "id": "77423cbc",
   "metadata": {
    "colab": {
     "base_uri": "https://localhost:8080/"
    },
    "id": "tJ9WO_0xQeCL",
    "outputId": "185b0678-aa7e-4f36-ec7e-0c4f003a06ec"
   },
   "outputs": [
    {
     "data": {
      "text/plain": [
       "['doc1', 'ppt']"
      ]
     },
     "execution_count": 87,
     "metadata": {},
     "output_type": "execute_result"
    }
   ],
   "source": [
    "str1=\"doc1.ppt\"\n",
    "str1.split(\".\")"
   ]
  },
  {
   "cell_type": "code",
   "execution_count": 88,
   "id": "2b999805",
   "metadata": {
    "colab": {
     "base_uri": "https://localhost:8080/"
    },
    "id": "ITVRZ6ZMRAhA",
    "outputId": "954fec15-e65c-44e7-c6df-dc91c3fc5058"
   },
   "outputs": [
    {
     "data": {
      "text/plain": [
       "['xyz.pdf', 'abc.ipynb', 'mno.jpg', 'pqr.mp4']"
      ]
     },
     "execution_count": 88,
     "metadata": {},
     "output_type": "execute_result"
    }
   ],
   "source": [
    "my_files=[\"xyz.pdf\",\"abc.ipynb\",\"mno.jpg\",\"pqr.mp4\"]\n",
    "my_files"
   ]
  },
  {
   "cell_type": "code",
   "execution_count": 89,
   "id": "f1ad0593",
   "metadata": {
    "colab": {
     "base_uri": "https://localhost:8080/"
    },
    "id": "aF_c2MsZRUEU",
    "outputId": "34eb7bb7-5a2f-4f75-d7f1-b6d39079f8d8"
   },
   "outputs": [
    {
     "data": {
      "text/plain": [
       "[['xyz', 'pdf'], ['abc', 'ipynb'], ['mno', 'jpg'], ['pqr', 'mp4']]"
      ]
     },
     "execution_count": 89,
     "metadata": {},
     "output_type": "execute_result"
    }
   ],
   "source": [
    "[extension.split(\".\") for extension in my_files]"
   ]
  },
  {
   "cell_type": "code",
   "execution_count": 90,
   "id": "6e2da59a",
   "metadata": {
    "colab": {
     "base_uri": "https://localhost:8080/",
     "height": 35
    },
    "id": "3GbHGFWcRYG2",
    "outputId": "794ec785-b15f-43be-8e04-150301d153f8"
   },
   "outputs": [
    {
     "data": {
      "text/plain": [
       "'ppt'"
      ]
     },
     "execution_count": 90,
     "metadata": {},
     "output_type": "execute_result"
    }
   ],
   "source": [
    "str1=\"doc1.ppt\"\n",
    "str1.split(\".\")[-1]"
   ]
  },
  {
   "cell_type": "markdown",
   "id": "3f76163e",
   "metadata": {
    "id": "zy3zXE9TSq3n"
   },
   "source": [
    "### Conditional List Comprehension"
   ]
  },
  {
   "cell_type": "code",
   "execution_count": 91,
   "id": "48df1446",
   "metadata": {
    "colab": {
     "base_uri": "https://localhost:8080/"
    },
    "id": "jaCH7-iAR0aZ",
    "outputId": "efa6cd9b-64eb-4011-fdc2-e0298c536eac"
   },
   "outputs": [
    {
     "data": {
      "text/plain": [
       "['at@gmail', 'gt@yahoo', 'pd@outlook']"
      ]
     },
     "execution_count": 91,
     "metadata": {},
     "output_type": "execute_result"
    }
   ],
   "source": [
    "email=[\"at@gmail\",\"gt@yahoo\",\"pd@outlook\"]\n",
    "email"
   ]
  },
  {
   "cell_type": "code",
   "execution_count": 92,
   "id": "b07a354f",
   "metadata": {
    "colab": {
     "base_uri": "https://localhost:8080/"
    },
    "id": "LfOtwD0pTENE",
    "outputId": "bb2864b3-ed41-48ea-b254-a9d54f68dd39"
   },
   "outputs": [
    {
     "data": {
      "text/plain": [
       "[['at', 'gmail'], ['gt', 'yahoo'], ['pd', 'outlook']]"
      ]
     },
     "execution_count": 92,
     "metadata": {},
     "output_type": "execute_result"
    }
   ],
   "source": [
    "[id.split(\"@\") for id in email]"
   ]
  },
  {
   "cell_type": "code",
   "execution_count": 93,
   "id": "9bb42dc5",
   "metadata": {
    "colab": {
     "base_uri": "https://localhost:8080/"
    },
    "id": "dNnfdE-NTUXQ",
    "outputId": "892744c9-770d-4b20-877b-67ecf4ebc624"
   },
   "outputs": [
    {
     "data": {
      "text/plain": [
       "['gt@yahoo.com']"
      ]
     },
     "execution_count": 93,
     "metadata": {},
     "output_type": "execute_result"
    }
   ],
   "source": [
    "email_address=[\"at@gmail.com\",\"gt@yahoo.com\",\"pd@outlook.com\"]\n",
    "[email for email in email_address if email.endswith(\"@yahoo.com\")]"
   ]
  },
  {
   "cell_type": "code",
   "execution_count": 94,
   "id": "bc7cd708",
   "metadata": {
    "colab": {
     "base_uri": "https://localhost:8080/"
    },
    "id": "zR9kadGcVuzX",
    "outputId": "c09bd7c9-1d0e-4581-fdf3-ed573be3a707"
   },
   "outputs": [
    {
     "data": {
      "text/plain": [
       "[24, 34, 12]"
      ]
     },
     "execution_count": 94,
     "metadata": {},
     "output_type": "execute_result"
    }
   ],
   "source": [
    "number=[24,67,34,65,12,89]\n",
    "[even for even in number if even%2==0]"
   ]
  },
  {
   "cell_type": "markdown",
   "id": "3df761c1",
   "metadata": {
    "id": "rPzD0ppqW0X-"
   },
   "source": [
    "### Nested List Comprehension"
   ]
  },
  {
   "cell_type": "code",
   "execution_count": 95,
   "id": "4e4e2eee",
   "metadata": {
    "colab": {
     "base_uri": "https://localhost:8080/"
    },
    "id": "Mpyan4WmWBOM",
    "outputId": "4421dd45-b249-47bd-e27a-6bb8963ac7fb"
   },
   "outputs": [
    {
     "data": {
      "text/plain": [
       "[[1, 4], [1, 5], [1, 6], [2, 4], [2, 5], [2, 6], [3, 4], [3, 5], [3, 6]]"
      ]
     },
     "execution_count": 95,
     "metadata": {},
     "output_type": "execute_result"
    }
   ],
   "source": [
    "pairs=[]\n",
    "for x in [1,2,3]:\n",
    "    for y in [4,5,6]:\n",
    "        pairs.append([x,y])\n",
    "pairs"
   ]
  },
  {
   "cell_type": "code",
   "execution_count": 96,
   "id": "7990e920",
   "metadata": {
    "colab": {
     "base_uri": "https://localhost:8080/"
    },
    "id": "XqhqS17SXGE7",
    "outputId": "5d709ff5-8d63-4aaa-d8d1-4907e9f186ed"
   },
   "outputs": [
    {
     "data": {
      "text/plain": [
       "[[1, 4], [1, 5], [1, 6], [2, 4], [2, 5], [2, 6], [3, 4], [3, 5], [3, 6]]"
      ]
     },
     "execution_count": 96,
     "metadata": {},
     "output_type": "execute_result"
    }
   ],
   "source": [
    "[[x,y] for x in [1,2,3] for y in [4,5,6]]"
   ]
  },
  {
   "cell_type": "code",
   "execution_count": 97,
   "id": "ecdebdd8",
   "metadata": {
    "colab": {
     "base_uri": "https://localhost:8080/"
    },
    "id": "F95QwiwlXP8V",
    "outputId": "db8c817e-cb12-4330-e84f-37c82524e12f"
   },
   "outputs": [
    {
     "data": {
      "text/plain": [
       "[[8], [10], [12], [15]]"
      ]
     },
     "execution_count": 97,
     "metadata": {},
     "output_type": "execute_result"
    }
   ],
   "source": [
    "[[x*y] for x in [2,3] for y in [4,5]]"
   ]
  },
  {
   "cell_type": "markdown",
   "id": "151fc65b",
   "metadata": {
    "id": "WJCdenROXdZf"
   },
   "source": [
    "### Stack and Queue"
   ]
  },
  {
   "cell_type": "markdown",
   "id": "b639aa06",
   "metadata": {
    "id": "Fv4eq0JOXhUe"
   },
   "source": [
    "#### Stack"
   ]
  },
  {
   "cell_type": "markdown",
   "id": "ad3600e8",
   "metadata": {
    "id": "sFan1nUHXvT9"
   },
   "source": [
    "![image.png](data:image/png;base64,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)"
   ]
  },
  {
   "cell_type": "markdown",
   "id": "c9127921",
   "metadata": {
    "id": "PLYgZSNtXxSf"
   },
   "source": [
    "- LIFO = Last In First Out\n",
    "- The element which is added at last will come out first"
   ]
  },
  {
   "cell_type": "code",
   "execution_count": 98,
   "id": "7b381ab9",
   "metadata": {
    "colab": {
     "base_uri": "https://localhost:8080/"
    },
    "id": "C-lRlLMhXZWn",
    "outputId": "4743a6a8-fb1e-4078-bae2-5854eb3c4066"
   },
   "outputs": [
    {
     "data": {
      "text/plain": [
       "['Plate 1', 'Plate 2', 'Plate 3', 'Plate 4']"
      ]
     },
     "execution_count": 98,
     "metadata": {},
     "output_type": "execute_result"
    }
   ],
   "source": [
    "stack_of_plates=[]\n",
    "stack_of_plates.append(\"Plate 1\") #added 1st\n",
    "stack_of_plates.append(\"Plate 2\") #added 2nd\n",
    "stack_of_plates.append(\"Plate 3\") #added 3rd\n",
    "stack_of_plates.append(\"Plate 4\") #added last\n",
    "stack_of_plates"
   ]
  },
  {
   "cell_type": "code",
   "execution_count": 99,
   "id": "02920c09",
   "metadata": {
    "colab": {
     "base_uri": "https://localhost:8080/",
     "height": 35
    },
    "id": "bfKUn74iYZTP",
    "outputId": "44cbe197-6aff-435c-8a51-feaafa22fda2"
   },
   "outputs": [
    {
     "data": {
      "text/plain": [
       "'Plate 4'"
      ]
     },
     "execution_count": 99,
     "metadata": {},
     "output_type": "execute_result"
    }
   ],
   "source": [
    "stack_of_plates.pop() #added last, pop out 1st"
   ]
  },
  {
   "cell_type": "code",
   "execution_count": 100,
   "id": "e14dcab7",
   "metadata": {
    "colab": {
     "base_uri": "https://localhost:8080/"
    },
    "id": "4P39-6QgYiZu",
    "outputId": "d95d7cae-9181-4d98-cc3e-ae03d60a2c85"
   },
   "outputs": [
    {
     "data": {
      "text/plain": [
       "['Home Page', 'About Us', 'Contact', 'Google Map']"
      ]
     },
     "execution_count": 100,
     "metadata": {},
     "output_type": "execute_result"
    }
   ],
   "source": [
    "#use case\n",
    "browsing_history=[]\n",
    "browsing_history.append(\"Home Page\")\n",
    "browsing_history.append(\"About Us\")\n",
    "browsing_history.append(\"Contact\")\n",
    "browsing_history.append(\"Google Map\")\n",
    "browsing_history"
   ]
  },
  {
   "cell_type": "code",
   "execution_count": 101,
   "id": "02b0a5ab",
   "metadata": {
    "colab": {
     "base_uri": "https://localhost:8080/",
     "height": 35
    },
    "id": "1TVTM0TzZSEo",
    "outputId": "26b0aee0-3d62-4fff-aef1-1eb0e995f5c1"
   },
   "outputs": [
    {
     "data": {
      "text/plain": [
       "'Google Map'"
      ]
     },
     "execution_count": 101,
     "metadata": {},
     "output_type": "execute_result"
    }
   ],
   "source": [
    "browsing_history.pop() #to undo last action"
   ]
  },
  {
   "cell_type": "code",
   "execution_count": 102,
   "id": "aeb55ec6",
   "metadata": {
    "colab": {
     "base_uri": "https://localhost:8080/"
    },
    "id": "0AniZm0dZcYE",
    "outputId": "1e5395ea-b0a8-490d-cc75-dc0cc8970175"
   },
   "outputs": [
    {
     "data": {
      "text/plain": [
       "['Home Page', 'About Us', 'Contact']"
      ]
     },
     "execution_count": 102,
     "metadata": {},
     "output_type": "execute_result"
    }
   ],
   "source": [
    "browsing_history"
   ]
  },
  {
   "cell_type": "markdown",
   "id": "368ee81c",
   "metadata": {
    "id": "BH1lnc7sZg4l"
   },
   "source": [
    "#### Queue"
   ]
  },
  {
   "cell_type": "markdown",
   "id": "55f09c8e",
   "metadata": {
    "id": "Ty9HfqhAZwIt"
   },
   "source": [
    "![image.png](data:image/png;base64,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)"
   ]
  },
  {
   "cell_type": "markdown",
   "id": "9e010abf",
   "metadata": {
    "id": "BIZAn2pVZ0sf"
   },
   "source": [
    "- FIFO : First In First Out\n",
    "- Works in orderly sequential manner\n",
    "- It has Two ends : Enque & Dequeue"
   ]
  },
  {
   "cell_type": "markdown",
   "id": "82b0f879",
   "metadata": {
    "id": "Xly5ojzi9XME"
   },
   "source": [
    "#### Library"
   ]
  },
  {
   "cell_type": "markdown",
   "id": "58ab9bbf",
   "metadata": {
    "id": "aQqAYePp9Zol"
   },
   "source": [
    "Collection of multiple Python module or script for reusing the code."
   ]
  },
  {
   "cell_type": "code",
   "execution_count": 103,
   "id": "fd738ff3",
   "metadata": {
    "id": "FHQgVqlVZe15"
   },
   "outputs": [],
   "source": [
    "from collections import deque\n",
    "# collections is library\n",
    "# deque is module"
   ]
  },
  {
   "cell_type": "code",
   "execution_count": 104,
   "id": "8c0a805d",
   "metadata": {
    "colab": {
     "base_uri": "https://localhost:8080/"
    },
    "id": "LCDiUWmj9u3O",
    "outputId": "8d7d6b96-0e96-4da6-ccf3-6070e70d82e9"
   },
   "outputs": [
    {
     "data": {
      "text/plain": [
       "deque(['CLass 1', 'CLass 2', 'CLass 3', 'CLass 4', 'CLass 5'])"
      ]
     },
     "execution_count": 104,
     "metadata": {},
     "output_type": "execute_result"
    }
   ],
   "source": [
    "check_out=deque()\n",
    "check_out.append(\"CLass 1\")\n",
    "check_out.append(\"CLass 2\")\n",
    "check_out.append(\"CLass 3\")\n",
    "check_out.append(\"CLass 4\")\n",
    "check_out.append(\"CLass 5\")\n",
    "check_out"
   ]
  },
  {
   "cell_type": "code",
   "execution_count": 105,
   "id": "bef40dc6",
   "metadata": {
    "id": "3BNBDIiJ-ro2"
   },
   "outputs": [],
   "source": [
    "from queue import Queue"
   ]
  },
  {
   "cell_type": "code",
   "execution_count": 106,
   "id": "d6a657a9",
   "metadata": {
    "colab": {
     "base_uri": "https://localhost:8080/"
    },
    "id": "XBn8gR0j_D4t",
    "outputId": "1e78ff9f-b3f2-4c25-9f88-161a8a1d6b47"
   },
   "outputs": [
    {
     "name": "stdout",
     "output_type": "stream",
     "text": [
      "Printing Print the first copy.\n",
      "Printing Print the second copy.\n",
      "Printing Print the third copy\n"
     ]
    }
   ],
   "source": [
    "print_queue=Queue()\n",
    "print_queue.put(\"Print the first copy.\")\n",
    "print_queue.put(\"Print the second copy.\") # put is similar to push\n",
    "print_queue.put(\"Print the third copy\")\n",
    "print_queue\n",
    "\n",
    "while not print_queue.empty():\n",
    "    print_job=print_queue.get() # get is similar to pop\n",
    "    print(\"Printing\",print_job)"
   ]
  },
  {
   "cell_type": "markdown",
   "id": "88b82993",
   "metadata": {
    "id": "hHpDt7L1AZKT"
   },
   "source": [
    "## String"
   ]
  },
  {
   "cell_type": "markdown",
   "id": "8d403124",
   "metadata": {
    "id": "eH4f2LfMAbca"
   },
   "source": [
    "Sequences of character where each character is unit of text which represent and manipulate textual data"
   ]
  },
  {
   "cell_type": "markdown",
   "id": "628802c3",
   "metadata": {
    "id": "IHbsN2qkApfU"
   },
   "source": [
    "- Characters are represented using numerical values as each character is assign by unique value.\n",
    "- ** ASCII ** : *American Standard Code for Information Interchange*.\n",
    " It has 7 bits only (2^7=128) characters.\n",
    "- ** UTF ** : *Unicode Transformation Format * . It is popular encoding schemes for unicode. 16 bits character"
   ]
  },
  {
   "cell_type": "code",
   "execution_count": 268,
   "id": "a2f2352d",
   "metadata": {
    "colab": {
     "base_uri": "https://localhost:8080/"
    },
    "id": "lqbh9ES__cvU",
    "outputId": "6cc5f9ec-2726-468d-819c-3d5852f061b8"
   },
   "outputs": [
    {
     "data": {
      "text/plain": [
       "65"
      ]
     },
     "execution_count": 268,
     "metadata": {},
     "output_type": "execute_result"
    }
   ],
   "source": [
    "    # ASCII representation\n",
    "char=\"A\"\n",
    "ord(char) #ord=ordinal >> numerical value of characters"
   ]
  },
  {
   "cell_type": "code",
   "execution_count": 108,
   "id": "a3a5f1b3",
   "metadata": {
    "colab": {
     "base_uri": "https://localhost:8080/"
    },
    "id": "gihgtIWZBwAv",
    "outputId": "4df7ee61-1a72-4cae-caa6-aa42aac2169d"
   },
   "outputs": [
    {
     "data": {
      "text/plain": [
       "97"
      ]
     },
     "execution_count": 108,
     "metadata": {},
     "output_type": "execute_result"
    }
   ],
   "source": [
    "ord(\"a\")"
   ]
  },
  {
   "cell_type": "code",
   "execution_count": 109,
   "id": "4ae7656f",
   "metadata": {
    "colab": {
     "base_uri": "https://localhost:8080/",
     "height": 35
    },
    "id": "DR_K85zHB4Od",
    "outputId": "61a4929d-443b-42ee-ee2b-9aeaf0f5757b"
   },
   "outputs": [
    {
     "data": {
      "text/plain": [
       "'a'"
      ]
     },
     "execution_count": 109,
     "metadata": {},
     "output_type": "execute_result"
    }
   ],
   "source": [
    "chr(97)"
   ]
  },
  {
   "cell_type": "code",
   "execution_count": 110,
   "id": "602149f2",
   "metadata": {
    "colab": {
     "base_uri": "https://localhost:8080/",
     "height": 35
    },
    "id": "2SbEQ_KNB7s3",
    "outputId": "a69b0681-6af9-45b2-a605-750b54461862"
   },
   "outputs": [
    {
     "data": {
      "text/plain": [
       "'Ω'"
      ]
     },
     "execution_count": 110,
     "metadata": {},
     "output_type": "execute_result"
    }
   ],
   "source": [
    "# UNICODE representation\n",
    "'\\u03A9'"
   ]
  },
  {
   "cell_type": "code",
   "execution_count": 111,
   "id": "5277cc35",
   "metadata": {
    "colab": {
     "base_uri": "https://localhost:8080/",
     "height": 35
    },
    "id": "5oIyhnQ_CIL8",
    "outputId": "b6c16333-7854-45cb-ce7c-452b45886c99"
   },
   "outputs": [
    {
     "data": {
      "text/plain": [
       "'Φ'"
      ]
     },
     "execution_count": 111,
     "metadata": {},
     "output_type": "execute_result"
    }
   ],
   "source": [
    "'\\u03A6'"
   ]
  },
  {
   "cell_type": "code",
   "execution_count": 112,
   "id": "31ccf51e",
   "metadata": {
    "colab": {
     "base_uri": "https://localhost:8080/",
     "height": 35
    },
    "id": "Svmi0IgiCOW-",
    "outputId": "cc170a08-c36d-4ba5-be70-0d4613d3c786"
   },
   "outputs": [
    {
     "data": {
      "text/plain": [
       "'॔'"
      ]
     },
     "execution_count": 112,
     "metadata": {},
     "output_type": "execute_result"
    }
   ],
   "source": [
    "'\\u0954'"
   ]
  },
  {
   "cell_type": "code",
   "execution_count": 113,
   "id": "1803ed11",
   "metadata": {
    "colab": {
     "base_uri": "https://localhost:8080/",
     "height": 35
    },
    "id": "f1WJzGahCR3T",
    "outputId": "61b178fd-15c8-4b47-d7af-bc4078439e7b"
   },
   "outputs": [
    {
     "data": {
      "text/plain": [
       "'ॵ'"
      ]
     },
     "execution_count": 113,
     "metadata": {},
     "output_type": "execute_result"
    }
   ],
   "source": [
    "'\\u0975'"
   ]
  },
  {
   "cell_type": "markdown",
   "id": "758ae180",
   "metadata": {
    "id": "8K1Am97aCZmn"
   },
   "source": [
    "### writing string\n"
   ]
  },
  {
   "cell_type": "markdown",
   "id": "f557c53a",
   "metadata": {
    "id": "v_io-vfhCdNF"
   },
   "source": [
    "- string must be enclosed in \"...........\".\n",
    "- anything written between double/single inverted comma is a string"
   ]
  },
  {
   "cell_type": "code",
   "execution_count": 114,
   "id": "adb7b0ba",
   "metadata": {
    "colab": {
     "base_uri": "https://localhost:8080/",
     "height": 35
    },
    "id": "SF0qrEcZCVyH",
    "outputId": "2647e99a-d32c-4576-8b1c-76000d27d2ca"
   },
   "outputs": [
    {
     "data": {
      "text/plain": [
       "'PWskills'"
      ]
     },
     "execution_count": 114,
     "metadata": {},
     "output_type": "execute_result"
    }
   ],
   "source": [
    "str1=\"PWskills\"\n",
    "str1"
   ]
  },
  {
   "cell_type": "code",
   "execution_count": 115,
   "id": "1df071b6",
   "metadata": {
    "colab": {
     "base_uri": "https://localhost:8080/"
    },
    "id": "T-zM75YgCt1_",
    "outputId": "df5a207f-c49b-4379-8777-2a2d9f675371"
   },
   "outputs": [
    {
     "data": {
      "text/plain": [
       "str"
      ]
     },
     "execution_count": 115,
     "metadata": {},
     "output_type": "execute_result"
    }
   ],
   "source": [
    "type(str1)"
   ]
  },
  {
   "cell_type": "code",
   "execution_count": 116,
   "id": "1555a6e7",
   "metadata": {
    "colab": {
     "base_uri": "https://localhost:8080/",
     "height": 35
    },
    "id": "cGveqm8fCvLv",
    "outputId": "7d792c12-4557-4438-ed30-298fb947cb00"
   },
   "outputs": [
    {
     "data": {
      "text/plain": [
       "'PWskill'"
      ]
     },
     "execution_count": 116,
     "metadata": {},
     "output_type": "execute_result"
    }
   ],
   "source": [
    "str2='PWskill'\n",
    "str2"
   ]
  },
  {
   "cell_type": "code",
   "execution_count": 117,
   "id": "469ee00e",
   "metadata": {
    "colab": {
     "base_uri": "https://localhost:8080/"
    },
    "id": "9bHI6LIBCyQy",
    "outputId": "5df40fc6-6b35-4fc2-8b1f-934833214df3"
   },
   "outputs": [
    {
     "data": {
      "text/plain": [
       "str"
      ]
     },
     "execution_count": 117,
     "metadata": {},
     "output_type": "execute_result"
    }
   ],
   "source": [
    "type(str2)"
   ]
  },
  {
   "cell_type": "code",
   "execution_count": 118,
   "id": "c407a4d1",
   "metadata": {
    "colab": {
     "base_uri": "https://localhost:8080/"
    },
    "id": "UblKSVniCzqP",
    "outputId": "2e943a7c-a96c-403d-df72-26b048154472"
   },
   "outputs": [
    {
     "name": "stdout",
     "output_type": "stream",
     "text": [
      " I am Pragati.\n",
      "I like flowers.\n",
      "Tulip is my fav.\n",
      "\n"
     ]
    }
   ],
   "source": [
    "# Multiline String\n",
    "a=''' I am Pragati.\n",
    "I like flowers.\n",
    "Tulip is my fav.\n",
    "'''\n",
    "print(a)"
   ]
  },
  {
   "cell_type": "code",
   "execution_count": 119,
   "id": "c350c11e",
   "metadata": {
    "colab": {
     "base_uri": "https://localhost:8080/",
     "height": 35
    },
    "id": "_yQTRwrYDFKV",
    "outputId": "037901f9-3857-4973-e9d2-758eee39cd60"
   },
   "outputs": [
    {
     "data": {
      "text/plain": [
       "' I am Pragati.\\nI like flowers.\\nTulip is my fav.\\n'"
      ]
     },
     "execution_count": 119,
     "metadata": {},
     "output_type": "execute_result"
    }
   ],
   "source": [
    "a # \\n is a escape character which is used to insert a new line."
   ]
  },
  {
   "cell_type": "markdown",
   "id": "43954eab",
   "metadata": {
    "id": "VaTzvE4zDQnr"
   },
   "source": [
    "### Concatenation"
   ]
  },
  {
   "cell_type": "markdown",
   "id": "95f0c642",
   "metadata": {
    "id": "X8wtll5gDUHe"
   },
   "source": [
    "Concatenation means combining strings"
   ]
  },
  {
   "cell_type": "code",
   "execution_count": 120,
   "id": "97baad9a",
   "metadata": {
    "colab": {
     "base_uri": "https://localhost:8080/",
     "height": 35
    },
    "id": "9TZAZnFuDIQN",
    "outputId": "4c548961-9e59-4d4e-ef74-b9a9a39054e3"
   },
   "outputs": [
    {
     "data": {
      "text/plain": [
       "'PragatiDwivedi'"
      ]
     },
     "execution_count": 120,
     "metadata": {},
     "output_type": "execute_result"
    }
   ],
   "source": [
    "\"Pragati\"+\"Dwivedi\""
   ]
  },
  {
   "cell_type": "code",
   "execution_count": 121,
   "id": "8dde2db1",
   "metadata": {
    "colab": {
     "base_uri": "https://localhost:8080/",
     "height": 35
    },
    "id": "HAgW_tCBDefU",
    "outputId": "3cddd351-b648-477f-c89b-025ad32d1b87"
   },
   "outputs": [
    {
     "data": {
      "text/plain": [
       "'Prag_is_Cute'"
      ]
     },
     "execution_count": 121,
     "metadata": {},
     "output_type": "execute_result"
    }
   ],
   "source": [
    "a=\"Prag\"\n",
    "b=\"is\"\n",
    "c=\"Cute\"\n",
    "a+\"_\"+b+\"_\"+c"
   ]
  },
  {
   "cell_type": "markdown",
   "id": "2c0a3c09",
   "metadata": {
    "id": "4EGfwkcZDuzx"
   },
   "source": [
    "### Extracting / Slicing"
   ]
  },
  {
   "cell_type": "code",
   "execution_count": 122,
   "id": "c9706523",
   "metadata": {
    "colab": {
     "base_uri": "https://localhost:8080/"
    },
    "id": "RvimptuCDqKa",
    "outputId": "72f5730a-ee6d-4380-8546-759fc2da0f91"
   },
   "outputs": [
    {
     "data": {
      "text/plain": [
       "('P', 'r', 'a')"
      ]
     },
     "execution_count": 122,
     "metadata": {},
     "output_type": "execute_result"
    }
   ],
   "source": [
    "a=\"Pragatii\"\n",
    "a[0],a[1],a[2]"
   ]
  },
  {
   "cell_type": "code",
   "execution_count": 123,
   "id": "269381f5",
   "metadata": {
    "colab": {
     "base_uri": "https://localhost:8080/",
     "height": 35
    },
    "id": "45_WJOlNEnbl",
    "outputId": "9f056c60-2b12-436e-e143-0eb2f4ac9f37"
   },
   "outputs": [
    {
     "data": {
      "text/plain": [
       "'Pr'"
      ]
     },
     "execution_count": 123,
     "metadata": {},
     "output_type": "execute_result"
    }
   ],
   "source": [
    "#slicing\n",
    "a[0:2] #last value excluded"
   ]
  },
  {
   "cell_type": "code",
   "execution_count": 124,
   "id": "7afe339f",
   "metadata": {
    "colab": {
     "base_uri": "https://localhost:8080/",
     "height": 35
    },
    "id": "tn9t8WLXEuvF",
    "outputId": "14ea8d4b-5e36-4ca7-cc5c-6e0737d73bf6"
   },
   "outputs": [
    {
     "data": {
      "text/plain": [
       "'I am a '"
      ]
     },
     "execution_count": 124,
     "metadata": {},
     "output_type": "execute_result"
    }
   ],
   "source": [
    "str1=\"I am a pretty little baby\"\n",
    "str1[0:7] # start from 0 index end on 6 index"
   ]
  },
  {
   "cell_type": "code",
   "execution_count": 125,
   "id": "f1cad43d",
   "metadata": {
    "colab": {
     "base_uri": "https://localhost:8080/",
     "height": 35
    },
    "id": "pqzqRPiwE5dH",
    "outputId": "ceb053df-4fa8-4758-e085-179306dca0d2"
   },
   "outputs": [
    {
     "data": {
      "text/plain": [
       "'I am a pretty little baby'"
      ]
     },
     "execution_count": 125,
     "metadata": {},
     "output_type": "execute_result"
    }
   ],
   "source": [
    "str1[0:] #if end index not provided, by default it comes to an end till last index"
   ]
  },
  {
   "cell_type": "code",
   "execution_count": 126,
   "id": "be2186fd",
   "metadata": {
    "colab": {
     "base_uri": "https://localhost:8080/",
     "height": 35
    },
    "id": "y9RluXBvFLNu",
    "outputId": "db48a4b0-24a4-4ada-d745-78d4f9cbf190"
   },
   "outputs": [
    {
     "data": {
      "text/plain": [
       "'I am a pretty little '"
      ]
     },
     "execution_count": 126,
     "metadata": {},
     "output_type": "execute_result"
    }
   ],
   "source": [
    "str1[:-4] # if start index not provided, by default it begins with 1st index"
   ]
  },
  {
   "cell_type": "code",
   "execution_count": 127,
   "id": "52c29eb6",
   "metadata": {
    "colab": {
     "base_uri": "https://localhost:8080/",
     "height": 35
    },
    "id": "xxU7GL60FfC0",
    "outputId": "b2be6e27-89c1-4271-ff93-d3904a623410"
   },
   "outputs": [
    {
     "data": {
      "text/plain": [
       "'I am a pretty little'"
      ]
     },
     "execution_count": 127,
     "metadata": {},
     "output_type": "execute_result"
    }
   ],
   "source": [
    "# print except last n character\n",
    "str1[:-5] #n=5"
   ]
  },
  {
   "cell_type": "code",
   "execution_count": 128,
   "id": "5e1095c3",
   "metadata": {
    "colab": {
     "base_uri": "https://localhost:8080/",
     "height": 35
    },
    "id": "MijGwYOLF0Sb",
    "outputId": "11c5ef86-b6c6-4bff-9ec1-2dccdee4fc51"
   },
   "outputs": [
    {
     "data": {
      "text/plain": [
       "'baby'"
      ]
     },
     "execution_count": 128,
     "metadata": {},
     "output_type": "execute_result"
    }
   ],
   "source": [
    "# print only last n character\n",
    "str1[-4:] # n=4"
   ]
  },
  {
   "cell_type": "code",
   "execution_count": 129,
   "id": "fee1f3c5",
   "metadata": {
    "colab": {
     "base_uri": "https://localhost:8080/",
     "height": 35
    },
    "id": "V2IG5TF9F9vE",
    "outputId": "3b89ddbc-7ff6-4044-adc8-1629b7ecb963"
   },
   "outputs": [
    {
     "data": {
      "text/plain": [
       "'Ia  r'"
      ]
     },
     "execution_count": 129,
     "metadata": {},
     "output_type": "execute_result"
    }
   ],
   "source": [
    "str1[0:9:2] # start : end : skip"
   ]
  },
  {
   "cell_type": "code",
   "execution_count": 130,
   "id": "bf7952a8",
   "metadata": {
    "colab": {
     "base_uri": "https://localhost:8080/",
     "height": 35
    },
    "id": "ZMzsSi2FGGxU",
    "outputId": "54350a88-cf3e-417b-9d86-153fa1888a0e"
   },
   "outputs": [
    {
     "data": {
      "text/plain": [
       "'hlonv'"
      ]
     },
     "execution_count": 130,
     "metadata": {},
     "output_type": "execute_result"
    }
   ],
   "source": [
    "a=\"hellouniverse\"\n",
    "a[0:10:2]"
   ]
  },
  {
   "cell_type": "markdown",
   "id": "b9c0c73a",
   "metadata": {
    "id": "pkoGDiLWGv1J"
   },
   "source": [
    "- reverse"
   ]
  },
  {
   "cell_type": "code",
   "execution_count": 131,
   "id": "6ffda9e5",
   "metadata": {
    "colab": {
     "base_uri": "https://localhost:8080/",
     "height": 35
    },
    "id": "rRK8tcllGiK8",
    "outputId": "2abb0655-771a-4142-b0a3-4ab72bb8ef26"
   },
   "outputs": [
    {
     "data": {
      "text/plain": [
       "'esrevinuolleh'"
      ]
     },
     "execution_count": 131,
     "metadata": {},
     "output_type": "execute_result"
    }
   ],
   "source": [
    "a[::-1]"
   ]
  },
  {
   "cell_type": "markdown",
   "id": "198e7fcf",
   "metadata": {
    "id": "wg2AccDzG4ez"
   },
   "source": [
    "### length"
   ]
  },
  {
   "cell_type": "code",
   "execution_count": 132,
   "id": "13525289",
   "metadata": {
    "colab": {
     "base_uri": "https://localhost:8080/",
     "height": 35
    },
    "id": "5SsIw3uMlucu",
    "outputId": "3f00135c-59d0-42e2-cf80-fd18723e22fa"
   },
   "outputs": [
    {
     "data": {
      "text/plain": [
       "'hellouniverse'"
      ]
     },
     "execution_count": 132,
     "metadata": {},
     "output_type": "execute_result"
    }
   ],
   "source": [
    "a"
   ]
  },
  {
   "cell_type": "code",
   "execution_count": 133,
   "id": "9dbd13a6",
   "metadata": {
    "colab": {
     "base_uri": "https://localhost:8080/"
    },
    "id": "JhHgAHwWG0N_",
    "outputId": "56db5ea7-ce6f-4126-f373-6697a15e5100"
   },
   "outputs": [
    {
     "data": {
      "text/plain": [
       "13"
      ]
     },
     "execution_count": 133,
     "metadata": {},
     "output_type": "execute_result"
    }
   ],
   "source": [
    "len(a)"
   ]
  },
  {
   "cell_type": "code",
   "execution_count": 134,
   "id": "493d2604",
   "metadata": {
    "colab": {
     "base_uri": "https://localhost:8080/",
     "height": 35
    },
    "id": "ueXDe1IAlwkG",
    "outputId": "95e4313a-803c-4f14-85c0-a3be105e00fc"
   },
   "outputs": [
    {
     "data": {
      "text/plain": [
       "'I am a pretty little baby'"
      ]
     },
     "execution_count": 134,
     "metadata": {},
     "output_type": "execute_result"
    }
   ],
   "source": [
    "str1"
   ]
  },
  {
   "cell_type": "code",
   "execution_count": 135,
   "id": "dec2f56b",
   "metadata": {
    "colab": {
     "base_uri": "https://localhost:8080/"
    },
    "id": "u9eCkVzDG_-s",
    "outputId": "452e1e44-220c-4984-c54f-b288450ad08b"
   },
   "outputs": [
    {
     "data": {
      "text/plain": [
       "25"
      ]
     },
     "execution_count": 135,
     "metadata": {},
     "output_type": "execute_result"
    }
   ],
   "source": [
    "len(str1)"
   ]
  },
  {
   "cell_type": "markdown",
   "id": "9ac453fe",
   "metadata": {
    "id": "yZHW6NL5lzE7"
   },
   "source": [
    "### Modification of str"
   ]
  },
  {
   "cell_type": "code",
   "execution_count": 136,
   "id": "9498e83e",
   "metadata": {
    "colab": {
     "base_uri": "https://localhost:8080/",
     "height": 35
    },
    "id": "Jz0eukCoHB6r",
    "outputId": "391b30a6-524f-44fe-c327-2988e5072649"
   },
   "outputs": [
    {
     "data": {
      "text/plain": [
       "'I am a pretty little baby'"
      ]
     },
     "execution_count": 136,
     "metadata": {},
     "output_type": "execute_result"
    }
   ],
   "source": [
    "str1"
   ]
  },
  {
   "cell_type": "code",
   "execution_count": 137,
   "id": "4b4793a6",
   "metadata": {
    "colab": {
     "base_uri": "https://localhost:8080/",
     "height": 35
    },
    "id": "FzTkKlMmmTey",
    "outputId": "d436502b-20d3-4a26-d4fa-f2cc51ed9f08"
   },
   "outputs": [
    {
     "data": {
      "text/plain": [
       "'I am a pretty beautiful baby'"
      ]
     },
     "execution_count": 137,
     "metadata": {},
     "output_type": "execute_result"
    }
   ],
   "source": [
    "str1.replace(\"little\",\"beautiful\")"
   ]
  },
  {
   "cell_type": "markdown",
   "id": "4dff04e7",
   "metadata": {
    "id": "JLAuufEjmtj4"
   },
   "source": [
    "- str.lower()"
   ]
  },
  {
   "cell_type": "code",
   "execution_count": 138,
   "id": "e451c39c",
   "metadata": {
    "colab": {
     "base_uri": "https://localhost:8080/",
     "height": 35
    },
    "id": "XERI2q9SmhGd",
    "outputId": "e735a8a2-4184-492b-f24b-9dd8935dbc55"
   },
   "outputs": [
    {
     "data": {
      "text/plain": [
       "'hello world!'"
      ]
     },
     "execution_count": 138,
     "metadata": {},
     "output_type": "execute_result"
    }
   ],
   "source": [
    "a='Hello WORLD!'\n",
    "a.lower()"
   ]
  },
  {
   "cell_type": "markdown",
   "id": "e41f5a15",
   "metadata": {
    "id": "934WYur_m4HJ"
   },
   "source": [
    "- str.upper()"
   ]
  },
  {
   "cell_type": "code",
   "execution_count": 139,
   "id": "17c0428e",
   "metadata": {
    "colab": {
     "base_uri": "https://localhost:8080/",
     "height": 35
    },
    "id": "WMhm-eZLm2ug",
    "outputId": "79f87c16-fb99-42aa-fdbf-defb67f49240"
   },
   "outputs": [
    {
     "data": {
      "text/plain": [
       "'HELLO WORLD!'"
      ]
     },
     "execution_count": 139,
     "metadata": {},
     "output_type": "execute_result"
    }
   ],
   "source": [
    "a.upper()"
   ]
  },
  {
   "cell_type": "markdown",
   "id": "ba2837a1",
   "metadata": {
    "id": "YGe6brIznAcQ"
   },
   "source": [
    "- To make 1st letter capital of each word\n",
    "- str.title()"
   ]
  },
  {
   "cell_type": "code",
   "execution_count": 140,
   "id": "275e61aa",
   "metadata": {
    "colab": {
     "base_uri": "https://localhost:8080/",
     "height": 35
    },
    "id": "t6fM65UYm9xc",
    "outputId": "5d5a15e3-ab6e-420c-a43c-d8d064d63e78"
   },
   "outputs": [
    {
     "data": {
      "text/plain": [
       "'I Am A Pretty Little Baby'"
      ]
     },
     "execution_count": 140,
     "metadata": {},
     "output_type": "execute_result"
    }
   ],
   "source": [
    "str1.title()"
   ]
  },
  {
   "cell_type": "markdown",
   "id": "c664b797",
   "metadata": {
    "id": "4jUOIR8WnOyS"
   },
   "source": [
    "- To convert lower case to upper and vice versa\n",
    "- str.swapcase()\n",
    "\n"
   ]
  },
  {
   "cell_type": "code",
   "execution_count": 141,
   "id": "5c57ad40",
   "metadata": {
    "colab": {
     "base_uri": "https://localhost:8080/",
     "height": 35
    },
    "id": "S9ZaCJWAnXHG",
    "outputId": "a40a2444-061e-4f52-fbad-9c38038b42ab"
   },
   "outputs": [
    {
     "data": {
      "text/plain": [
       "'i AM ok'"
      ]
     },
     "execution_count": 141,
     "metadata": {},
     "output_type": "execute_result"
    }
   ],
   "source": [
    "strr='I am OK'\n",
    "strr.swapcase()"
   ]
  },
  {
   "cell_type": "markdown",
   "id": "98ad9fab",
   "metadata": {
    "id": "Ug_0QCPNnoBn"
   },
   "source": [
    "### String searching"
   ]
  },
  {
   "cell_type": "markdown",
   "id": "390a3552",
   "metadata": {
    "id": "ZdWZqm_NnsLd"
   },
   "source": [
    "- If any string (large) is given, to search any specific word whether it is given or not we use this command."
   ]
  },
  {
   "cell_type": "code",
   "execution_count": 142,
   "id": "7851ea9a",
   "metadata": {
    "id": "0yM8oAstnmYA"
   },
   "outputs": [],
   "source": [
    "sentence='My Delulu is someones solulu.'\n"
   ]
  },
  {
   "cell_type": "code",
   "execution_count": 143,
   "id": "9b64078d",
   "metadata": {
    "colab": {
     "base_uri": "https://localhost:8080/"
    },
    "id": "t2NBU2qZoIGw",
    "outputId": "13b8e52e-8900-43cd-bfbb-d24733f8fa13"
   },
   "outputs": [
    {
     "data": {
      "text/plain": [
       "True"
      ]
     },
     "execution_count": 143,
     "metadata": {},
     "output_type": "execute_result"
    }
   ],
   "source": [
    "\"Delulu\" in sentence"
   ]
  },
  {
   "cell_type": "code",
   "execution_count": 144,
   "id": "087abd4d",
   "metadata": {
    "colab": {
     "base_uri": "https://localhost:8080/"
    },
    "id": "o1Wz_emdoM0I",
    "outputId": "7a54c468-5cc2-431b-acbf-d1a87161a2c8"
   },
   "outputs": [
    {
     "name": "stdout",
     "output_type": "stream",
     "text": [
      "Present\n"
     ]
    }
   ],
   "source": [
    "search_word=\"solulu\"\n",
    "if search_word in sentence:\n",
    "    print(\"Present\")\n",
    "else:\n",
    "    print(\"Not Present\")"
   ]
  },
  {
   "cell_type": "code",
   "execution_count": 145,
   "id": "218a47fb",
   "metadata": {
    "colab": {
     "base_uri": "https://localhost:8080/"
    },
    "id": "qEVsHtSGoaYR",
    "outputId": "781744ae-8311-4563-a287-ee81e6f2d57c"
   },
   "outputs": [
    {
     "name": "stdout",
     "output_type": "stream",
     "text": [
      "Valid email\n"
     ]
    }
   ],
   "source": [
    "email=\"at12@hotmail.com\"\n",
    "if \"@\" in email:\n",
    "    print(\"Valid email\")\n",
    "else:\n",
    "    print(\"Invalid email\")"
   ]
  },
  {
   "cell_type": "markdown",
   "id": "d1b2d36b",
   "metadata": {
    "id": "0ptE0Lp0oz0p"
   },
   "source": [
    "### Sorting"
   ]
  },
  {
   "cell_type": "markdown",
   "id": "84477bb7",
   "metadata": {
    "id": "cxa0O1BYo3Ac"
   },
   "source": [
    "To sort the string in alphabetical order."
   ]
  },
  {
   "cell_type": "code",
   "execution_count": 146,
   "id": "4cfc6ece",
   "metadata": {
    "colab": {
     "base_uri": "https://localhost:8080/"
    },
    "id": "YNFDxfcQotEZ",
    "outputId": "6b3a0b74-7187-43d5-f388-7c656cb6fec7"
   },
   "outputs": [
    {
     "data": {
      "text/plain": [
       "['Apple', 'Mango', 'Pandas', 'Zebra']"
      ]
     },
     "execution_count": 146,
     "metadata": {},
     "output_type": "execute_result"
    }
   ],
   "source": [
    "noun=[\"Apple\",\"Zebra\",\"Mango\",\"Pandas\"]\n",
    "sorted(noun)"
   ]
  },
  {
   "cell_type": "markdown",
   "id": "4a54978b",
   "metadata": {
    "id": "2_TERf4SpQ52"
   },
   "source": [
    "### Removing space"
   ]
  },
  {
   "cell_type": "markdown",
   "id": "6e22e03f",
   "metadata": {
    "id": "Rxl1Nc9FpVD-"
   },
   "source": [
    "- To remove if unwanted space is present"
   ]
  },
  {
   "cell_type": "code",
   "execution_count": 147,
   "id": "5642fdd2",
   "metadata": {
    "colab": {
     "base_uri": "https://localhost:8080/",
     "height": 35
    },
    "id": "URQ8LohXpMbt",
    "outputId": "2417bf98-2a36-4b2e-f618-21198892dd5b"
   },
   "outputs": [
    {
     "data": {
      "text/plain": [
       "'prag    ati'"
      ]
     },
     "execution_count": 147,
     "metadata": {},
     "output_type": "execute_result"
    }
   ],
   "source": [
    "name=\"    prag    ati   \"\n",
    "name.strip()"
   ]
  },
  {
   "cell_type": "markdown",
   "id": "c50144bf",
   "metadata": {
    "id": "Jhe5hGfeplTB"
   },
   "source": [
    "### String Splitting"
   ]
  },
  {
   "cell_type": "code",
   "execution_count": 148,
   "id": "ba8158fc",
   "metadata": {
    "colab": {
     "base_uri": "https://localhost:8080/",
     "height": 35
    },
    "id": "ZxhtVyoVpf6Z",
    "outputId": "3359ac8e-b1cb-431a-e823-2ea6047a17aa"
   },
   "outputs": [
    {
     "data": {
      "text/plain": [
       "'Anu,Python,Banglore'"
      ]
     },
     "execution_count": 148,
     "metadata": {},
     "output_type": "execute_result"
    }
   ],
   "source": [
    "data=\"Anu,Python,Banglore\"\n",
    "data"
   ]
  },
  {
   "cell_type": "code",
   "execution_count": 149,
   "id": "4ae6d4fa",
   "metadata": {
    "colab": {
     "base_uri": "https://localhost:8080/"
    },
    "id": "j9x4QT60pwSa",
    "outputId": "5fe62c5c-c202-4616-ab90-ed153551db22"
   },
   "outputs": [
    {
     "data": {
      "text/plain": [
       "['Anu', 'Python', 'Banglore']"
      ]
     },
     "execution_count": 149,
     "metadata": {},
     "output_type": "execute_result"
    }
   ],
   "source": [
    "info=data.split(',')\n",
    "info"
   ]
  },
  {
   "cell_type": "code",
   "execution_count": 150,
   "id": "3036663c",
   "metadata": {
    "colab": {
     "base_uri": "https://localhost:8080/"
    },
    "id": "slUNSNSOp2sW",
    "outputId": "112a6597-2583-40fc-b454-5304fe6f425c"
   },
   "outputs": [
    {
     "data": {
      "text/plain": [
       "('Anu', 'Banglore')"
      ]
     },
     "execution_count": 150,
     "metadata": {},
     "output_type": "execute_result"
    }
   ],
   "source": [
    "info[0],info[2]"
   ]
  },
  {
   "cell_type": "markdown",
   "id": "627b7d13",
   "metadata": {
    "id": "XUErFv5gqCZ1"
   },
   "source": [
    "### Escape sequence"
   ]
  },
  {
   "cell_type": "markdown",
   "id": "57d3e7db",
   "metadata": {
    "id": "AyYXScGvqGD9"
   },
   "source": [
    "- special combination of character used within string to perform specific tasks"
   ]
  },
  {
   "cell_type": "code",
   "execution_count": 151,
   "id": "13dcda72",
   "metadata": {
    "colab": {
     "base_uri": "https://localhost:8080/",
     "height": 35
    },
    "id": "DF-QZ6Gcp7MT",
    "outputId": "3732d491-7daf-45f0-c1af-cacc74c43713"
   },
   "outputs": [
    {
     "data": {
      "text/plain": [
       "' 123, Saket Enclave\\nGodson Society\\nGomtinagar\\nLucknow'"
      ]
     },
     "execution_count": 151,
     "metadata": {},
     "output_type": "execute_result"
    }
   ],
   "source": [
    "address=''' 123, Saket Enclave\n",
    "Godson Society\n",
    "Gomtinagar\n",
    "Lucknow'''\n",
    "address # \\n is an escape character >> To insert a new line"
   ]
  },
  {
   "cell_type": "code",
   "execution_count": 152,
   "id": "7147031e",
   "metadata": {
    "colab": {
     "base_uri": "https://localhost:8080/"
    },
    "id": "FB4RaWpqqf25",
    "outputId": "3240893f-2375-4786-b23f-36aa673ad219"
   },
   "outputs": [
    {
     "name": "stdout",
     "output_type": "stream",
     "text": [
      " 123, Saket Enclave\n",
      "Godson Society\n",
      "Gomtinagar\n",
      "Lucknow\n"
     ]
    }
   ],
   "source": [
    "print(address)"
   ]
  },
  {
   "cell_type": "code",
   "execution_count": 153,
   "id": "cff8697c",
   "metadata": {
    "colab": {
     "base_uri": "https://localhost:8080/"
    },
    "id": "5nLdsJx7qmss",
    "outputId": "19955013-4795-48c9-e774-6c860b4c1903"
   },
   "outputs": [
    {
     "name": "stdout",
     "output_type": "stream",
     "text": [
      "Name\t Subject \t Marks \n",
      " Anny \t Computer \t 78 \n",
      " Siri \t Mathematics \t 89 \n",
      " Lucy \t English \t 85\n"
     ]
    }
   ],
   "source": [
    "# \\t used for tab space\n",
    "table=\"Name\\t Subject \\t Marks \\n Anny \\t Computer \\t 78 \\n Siri \\t Mathematics \\t 89 \\n Lucy \\t English \\t 85\"\n",
    "print(table)"
   ]
  },
  {
   "cell_type": "code",
   "execution_count": 154,
   "id": "22b6032b",
   "metadata": {
    "colab": {
     "base_uri": "https://localhost:8080/",
     "height": 35
    },
    "id": "7k6QMAdrrRyH",
    "outputId": "4329e5eb-b788-4a38-e238-43c3b939bc86"
   },
   "outputs": [
    {
     "data": {
      "text/plain": [
       "\"I can't play\""
      ]
     },
     "execution_count": 154,
     "metadata": {},
     "output_type": "execute_result"
    }
   ],
   "source": [
    "# \\' Single quote escape\n",
    "str1='I can\\'t play'\n",
    "str1"
   ]
  },
  {
   "cell_type": "code",
   "execution_count": 155,
   "id": "e9fc4a9d",
   "metadata": {
    "colab": {
     "base_uri": "https://localhost:8080/"
    },
    "id": "UeJ7loCKsMCH",
    "outputId": "a47fa4d2-ff93-4a30-b5f7-ff37e4be2a13"
   },
   "outputs": [
    {
     "name": "stdout",
     "output_type": "stream",
     "text": [
      "Hello I am Prag\n"
     ]
    }
   ],
   "source": [
    "# carriage return \\r << move the cursor to the begginning of line\n",
    "print(\"Hello I am Prag\")"
   ]
  },
  {
   "cell_type": "code",
   "execution_count": 156,
   "id": "d8eb127a",
   "metadata": {
    "colab": {
     "base_uri": "https://localhost:8080/"
    },
    "id": "bqvgcl7jscO0",
    "outputId": "6370dc69-6717-45d0-c05b-bde036865199"
   },
   "outputs": [
    {
     "name": "stdout",
     "output_type": "stream",
     "text": [
      " am Prag\n"
     ]
    }
   ],
   "source": [
    "print(\"Hello I \\r am Prag\")"
   ]
  },
  {
   "cell_type": "markdown",
   "id": "4825c8b3",
   "metadata": {
    "id": "7IDwpvT7sjkR"
   },
   "source": [
    "### String Formatting"
   ]
  },
  {
   "cell_type": "markdown",
   "id": "e5be9e17",
   "metadata": {
    "id": "LC1w1frLsm4o"
   },
   "source": [
    "Creating string with placeholder for variable"
   ]
  },
  {
   "cell_type": "code",
   "execution_count": 157,
   "id": "2c9eb928",
   "metadata": {
    "colab": {
     "base_uri": "https://localhost:8080/"
    },
    "id": "SzJpHQmOsg1J",
    "outputId": "50edd018-728e-4ef6-ea85-98a8bb8bdef9"
   },
   "outputs": [
    {
     "name": "stdout",
     "output_type": "stream",
     "text": [
      "My name is Alexa\n"
     ]
    }
   ],
   "source": [
    "print(\"My name is Alexa\")"
   ]
  },
  {
   "cell_type": "code",
   "execution_count": 158,
   "id": "0ff6b1a3",
   "metadata": {
    "colab": {
     "base_uri": "https://localhost:8080/"
    },
    "id": "7WZ1vO8qs02N",
    "outputId": "ce3c2c5c-7a9b-417f-c8e4-683259760628"
   },
   "outputs": [
    {
     "name": "stdout",
     "output_type": "stream",
     "text": [
      "My name is Alexa\n"
     ]
    }
   ],
   "source": [
    "# using f-string\n",
    "name=\"Alexa\"\n",
    "print(f\"My name is {name}\")"
   ]
  },
  {
   "cell_type": "code",
   "execution_count": 159,
   "id": "50cc12d8",
   "metadata": {
    "colab": {
     "base_uri": "https://localhost:8080/"
    },
    "id": "bOxHzytXtB7C",
    "outputId": "353e473d-e523-459d-b612-5f713dc506aa"
   },
   "outputs": [
    {
     "name": "stdout",
     "output_type": "stream",
     "text": [
      "Hey! I am Prag.\n"
     ]
    }
   ],
   "source": [
    "input=input(\"Enter your name : \")\n",
    "print(f\"Hey! I am {input}.\")"
   ]
  },
  {
   "cell_type": "code",
   "execution_count": 160,
   "id": "0ce8a59f",
   "metadata": {
    "colab": {
     "base_uri": "https://localhost:8080/"
    },
    "id": "2naIT8MytQyv",
    "outputId": "3b7d2de4-2041-46e6-e6ae-0f87a5bbfb48"
   },
   "outputs": [
    {
     "name": "stdout",
     "output_type": "stream",
     "text": [
      "hello Prag, How are you??\n"
     ]
    }
   ],
   "source": [
    "# string format << used earlier\n",
    "greetings=\"hello %s, How are you??\"%input\n",
    "print(greetings)"
   ]
  },
  {
   "cell_type": "code",
   "execution_count": 161,
   "id": "b7af07f9",
   "metadata": {
    "colab": {
     "base_uri": "https://localhost:8080/"
    },
    "id": "804L2wJGtp40",
    "outputId": "f30c7a88-4851-4532-b307-a9c5e7d9a0c8"
   },
   "outputs": [
    {
     "name": "stdout",
     "output_type": "stream",
     "text": [
      "Hello,Annu!! Welcome to Praggy's World\n"
     ]
    }
   ],
   "source": [
    "# .format\n",
    "template= \"Hello,{}!! Welcome to {}\"\n",
    "message=template.format(\"Annu\",\"Praggy's World\")\n",
    "print(message)"
   ]
  },
  {
   "cell_type": "code",
   "execution_count": 162,
   "id": "7a5f8879",
   "metadata": {
    "colab": {
     "base_uri": "https://localhost:8080/",
     "height": 35
    },
    "id": "11fYz1VsuOPV",
    "outputId": "8bac8c12-704c-4ace-bb2f-675d8e6f7f8b"
   },
   "outputs": [
    {
     "data": {
      "text/plain": [
       "'He is Annu, lives in Banglore. He want to buy PS5'"
      ]
     },
     "execution_count": 162,
     "metadata": {},
     "output_type": "execute_result"
    }
   ],
   "source": [
    "# f string (Formatted string literal)\n",
    "name=\"Annu\"\n",
    "place=\"Banglore\"\n",
    "need=\"PS5\"\n",
    "f\"He is {name}, lives in {place}. He want to buy {need}\""
   ]
  },
  {
   "cell_type": "code",
   "execution_count": 163,
   "id": "4740ad8b",
   "metadata": {
    "colab": {
     "base_uri": "https://localhost:8080/",
     "height": 35
    },
    "id": "jv4Bwmg6vCOw",
    "outputId": "7c095322-1d1a-4a76-97b5-db6680add017"
   },
   "outputs": [
    {
     "data": {
      "text/plain": [
       "'30 C=86.0F'"
      ]
     },
     "execution_count": 163,
     "metadata": {},
     "output_type": "execute_result"
    }
   ],
   "source": [
    "celsius=30\n",
    "f\"{celsius} C={(celsius*9/5)+32}F\""
   ]
  },
  {
   "cell_type": "markdown",
   "id": "ddb8d671",
   "metadata": {
    "id": "ygPe5FZiv6fy"
   },
   "source": [
    "- str.startswith()\n",
    "- str.endswith()"
   ]
  },
  {
   "cell_type": "code",
   "execution_count": 164,
   "id": "26f51588",
   "metadata": {
    "colab": {
     "base_uri": "https://localhost:8080/",
     "height": 35
    },
    "id": "fHrle3fuvfmu",
    "outputId": "c41abfe8-65cd-4186-a4a3-3a01048db72b"
   },
   "outputs": [
    {
     "data": {
      "text/plain": [
       "\"Hello,Annu!! Welcome to Praggy's World\""
      ]
     },
     "execution_count": 164,
     "metadata": {},
     "output_type": "execute_result"
    }
   ],
   "source": [
    "message"
   ]
  },
  {
   "cell_type": "code",
   "execution_count": 165,
   "id": "23d7e5e2",
   "metadata": {
    "colab": {
     "base_uri": "https://localhost:8080/"
    },
    "id": "h_zo7eOkwDdc",
    "outputId": "59765bbd-0925-4d8f-d18e-afa0df7f4819"
   },
   "outputs": [
    {
     "data": {
      "text/plain": [
       "True"
      ]
     },
     "execution_count": 165,
     "metadata": {},
     "output_type": "execute_result"
    }
   ],
   "source": [
    "message.startswith(\"Hello\")"
   ]
  },
  {
   "cell_type": "code",
   "execution_count": 166,
   "id": "495117e7",
   "metadata": {
    "colab": {
     "base_uri": "https://localhost:8080/"
    },
    "id": "JSB7MyZewIRY",
    "outputId": "073564a4-c4dc-4b0a-adff-1a9d0d57d811"
   },
   "outputs": [
    {
     "data": {
      "text/plain": [
       "False"
      ]
     },
     "execution_count": 166,
     "metadata": {},
     "output_type": "execute_result"
    }
   ],
   "source": [
    "message.endswith(\"Universe\")"
   ]
  },
  {
   "cell_type": "code",
   "execution_count": 167,
   "id": "e38e3901",
   "metadata": {
    "colab": {
     "base_uri": "https://localhost:8080/"
    },
    "id": "JvNZjp1vwNeo",
    "outputId": "4ea85cdd-9a78-4d2f-e7c2-a8dbc35ad171"
   },
   "outputs": [
    {
     "data": {
      "text/plain": [
       "True"
      ]
     },
     "execution_count": 167,
     "metadata": {},
     "output_type": "execute_result"
    }
   ],
   "source": [
    "a=\"abcd123\"\n",
    "a.isalnum()"
   ]
  },
  {
   "cell_type": "markdown",
   "id": "f46d2480",
   "metadata": {
    "id": "hkroV0Ag5Svq"
   },
   "source": [
    "## Tuples"
   ]
  },
  {
   "cell_type": "markdown",
   "id": "3d81fde6",
   "metadata": {
    "id": "akKW_gy85daM"
   },
   "source": [
    "- Heterogenous\n",
    "- Ordered collection of elements\n",
    "- Immutable\n",
    "- syntax :  tuple()"
   ]
  },
  {
   "cell_type": "code",
   "execution_count": 168,
   "id": "0001bda8",
   "metadata": {
    "colab": {
     "base_uri": "https://localhost:8080/"
    },
    "id": "ce8B2LFkwUrA",
    "outputId": "47fbd968-b7cb-422d-e317-3039c2c16556"
   },
   "outputs": [
    {
     "data": {
      "text/plain": [
       "('Data', 'Science', 56, True)"
      ]
     },
     "execution_count": 168,
     "metadata": {},
     "output_type": "execute_result"
    }
   ],
   "source": [
    "t=(\"Data\", \"Science\",56,True)\n",
    "t"
   ]
  },
  {
   "cell_type": "code",
   "execution_count": 169,
   "id": "62207390",
   "metadata": {
    "colab": {
     "base_uri": "https://localhost:8080/"
    },
    "id": "e6JW--G45uDz",
    "outputId": "d8f15341-fb5b-40ea-bd52-5a4f6a536590"
   },
   "outputs": [
    {
     "data": {
      "text/plain": [
       "tuple"
      ]
     },
     "execution_count": 169,
     "metadata": {},
     "output_type": "execute_result"
    }
   ],
   "source": [
    "type(t)"
   ]
  },
  {
   "cell_type": "markdown",
   "id": "33697024",
   "metadata": {
    "id": "zqmkLlNf5xHe"
   },
   "source": [
    "### Indexing"
   ]
  },
  {
   "cell_type": "markdown",
   "id": "95f76f75",
   "metadata": {
    "id": "CrMHIS-75zfc"
   },
   "source": [
    "- Indexing will be same as list"
   ]
  },
  {
   "cell_type": "code",
   "execution_count": 170,
   "id": "517f7302",
   "metadata": {
    "colab": {
     "base_uri": "https://localhost:8080/"
    },
    "id": "rTHIknCj5vRj",
    "outputId": "90f26a19-6339-4936-8fcf-bfcbd0e4fe73"
   },
   "outputs": [
    {
     "data": {
      "text/plain": [
       "('Data', 'Science', 56, True)"
      ]
     },
     "execution_count": 170,
     "metadata": {},
     "output_type": "execute_result"
    }
   ],
   "source": [
    "t"
   ]
  },
  {
   "cell_type": "code",
   "execution_count": 171,
   "id": "f1c1e25a",
   "metadata": {
    "colab": {
     "base_uri": "https://localhost:8080/"
    },
    "id": "WkDXAORn54in",
    "outputId": "f6434ade-a843-48e3-82b8-2a98a33764c4"
   },
   "outputs": [
    {
     "data": {
      "text/plain": [
       "('Data', 'Science', 56)"
      ]
     },
     "execution_count": 171,
     "metadata": {},
     "output_type": "execute_result"
    }
   ],
   "source": [
    "t[0],t[1],t[2]"
   ]
  },
  {
   "cell_type": "markdown",
   "id": "604f56dd",
   "metadata": {
    "id": "LdcXMCrG6Rc6"
   },
   "source": [
    "- Immutable :  Changes cannot be done"
   ]
  },
  {
   "cell_type": "code",
   "execution_count": 172,
   "id": "564fd05e",
   "metadata": {
    "colab": {
     "base_uri": "https://localhost:8080/"
    },
    "id": "WA8eoiJj570Q",
    "outputId": "12fc2e0c-1496-425d-ee48-a65a44dc5386"
   },
   "outputs": [
    {
     "data": {
      "text/plain": [
       "('Data', 'Science', 56, True)"
      ]
     },
     "execution_count": 172,
     "metadata": {},
     "output_type": "execute_result"
    }
   ],
   "source": [
    "t"
   ]
  },
  {
   "cell_type": "code",
   "execution_count": 173,
   "id": "24421831",
   "metadata": {
    "colab": {
     "base_uri": "https://localhost:8080/"
    },
    "id": "hUBubJ1-6Wv4",
    "outputId": "75b4919a-8eba-4108-cc37-79433de46053"
   },
   "outputs": [
    {
     "name": "stdout",
     "output_type": "stream",
     "text": [
      "Error  'tuple' object does not support item assignment\n"
     ]
    }
   ],
   "source": [
    "try:\n",
    "    t[1]=\"Analyst\"\n",
    "except TypeError as e:\n",
    "    print(\"Error \",e)"
   ]
  },
  {
   "cell_type": "markdown",
   "id": "59c725b7",
   "metadata": {
    "id": "fmxL8CkC6p8A"
   },
   "source": [
    "- Use Case\n",
    "1. We use tuple when we don't want to modify the data.\n",
    "2. Like :  Credentials, Confidential , Historical events, Transactions, Medical records, Legal documents, etc"
   ]
  },
  {
   "cell_type": "code",
   "execution_count": 174,
   "id": "c820168f",
   "metadata": {
    "colab": {
     "base_uri": "https://localhost:8080/"
    },
    "id": "g2HFXq716mBO",
    "outputId": "eec7d1c6-b231-4fcf-a7ad-948cc4bc1c9c"
   },
   "outputs": [
    {
     "data": {
      "text/plain": [
       "tuple"
      ]
     },
     "execution_count": 174,
     "metadata": {},
     "output_type": "execute_result"
    }
   ],
   "source": [
    "login_details=(\"abc\",123)\n",
    "type(login_details)"
   ]
  },
  {
   "cell_type": "markdown",
   "id": "6228546d",
   "metadata": {
    "id": "CDMSAO2w8IC9"
   },
   "source": [
    "- Counting the elements present in tuple"
   ]
  },
  {
   "cell_type": "code",
   "execution_count": 175,
   "id": "f45ea394",
   "metadata": {
    "colab": {
     "base_uri": "https://localhost:8080/"
    },
    "id": "RL7GPuwv8Cme",
    "outputId": "437f24a1-b3b5-478b-f8ab-bf3706696838"
   },
   "outputs": [
    {
     "data": {
      "text/plain": [
       "5"
      ]
     },
     "execution_count": 175,
     "metadata": {},
     "output_type": "execute_result"
    }
   ],
   "source": [
    "tuple1=(1,2,2,3,4,7,1,2,4,6,7,2,4,6,3,5,2,1,2,1,1,2)\n",
    "tuple1.count(1)"
   ]
  },
  {
   "cell_type": "code",
   "execution_count": 176,
   "id": "7e785aa4",
   "metadata": {
    "colab": {
     "base_uri": "https://localhost:8080/"
    },
    "id": "BQmGtTOq8Xuw",
    "outputId": "c0289cdb-5fe4-4763-bf9a-499725545f6c"
   },
   "outputs": [
    {
     "data": {
      "text/plain": [
       "7"
      ]
     },
     "execution_count": 176,
     "metadata": {},
     "output_type": "execute_result"
    }
   ],
   "source": [
    "tuple1.count(2)"
   ]
  },
  {
   "cell_type": "code",
   "execution_count": 177,
   "id": "9fce34a1",
   "metadata": {
    "colab": {
     "base_uri": "https://localhost:8080/"
    },
    "id": "AjDFspOW8aRP",
    "outputId": "abc24e5c-8454-427b-d902-f0179af275df"
   },
   "outputs": [
    {
     "data": {
      "text/plain": [
       "2"
      ]
     },
     "execution_count": 177,
     "metadata": {},
     "output_type": "execute_result"
    }
   ],
   "source": [
    "tuple1.count(3)"
   ]
  },
  {
   "cell_type": "code",
   "execution_count": 178,
   "id": "7c2eae9a",
   "metadata": {
    "colab": {
     "base_uri": "https://localhost:8080/"
    },
    "id": "cnGBIGcd8c1u",
    "outputId": "351d0bcf-8844-4ae5-a676-86bcc91534ba"
   },
   "outputs": [
    {
     "data": {
      "text/plain": [
       "3"
      ]
     },
     "execution_count": 178,
     "metadata": {},
     "output_type": "execute_result"
    }
   ],
   "source": [
    "tuple1.count(4)"
   ]
  },
  {
   "cell_type": "markdown",
   "id": "c936be29",
   "metadata": {
    "id": "ebjxPOIg8g0d"
   },
   "source": [
    "- Finding index of tuple"
   ]
  },
  {
   "cell_type": "code",
   "execution_count": 179,
   "id": "4b608575",
   "metadata": {
    "colab": {
     "base_uri": "https://localhost:8080/"
    },
    "id": "vl8vl60S8fJP",
    "outputId": "a0267ef5-f5f3-424c-88b4-cea03261b13e"
   },
   "outputs": [
    {
     "data": {
      "text/plain": [
       "0"
      ]
     },
     "execution_count": 179,
     "metadata": {},
     "output_type": "execute_result"
    }
   ],
   "source": [
    "tuple1.index(1) # show the index of 1st value only, if repeated then not shown"
   ]
  },
  {
   "cell_type": "code",
   "execution_count": 180,
   "id": "dd612a55",
   "metadata": {
    "colab": {
     "base_uri": "https://localhost:8080/"
    },
    "id": "KOC3sTXE8m1h",
    "outputId": "acd68fe1-d6b8-4e58-fbed-3526c612cf1d"
   },
   "outputs": [
    {
     "name": "stdout",
     "output_type": "stream",
     "text": [
      "(1, 2, 2, 3, 4, 7, 1, 2, 4, 6, 7, 2, 4, 6, 3, 5, 2, 1, 2, 1, 1, 2, 1, 2, 2, 3, 4, 7, 1, 2, 4, 6, 7, 2, 4, 6, 3, 5, 2, 1, 2, 1, 1, 2)\n"
     ]
    }
   ],
   "source": [
    "print(tuple1*2)"
   ]
  },
  {
   "cell_type": "markdown",
   "id": "4ab97dc5",
   "metadata": {
    "id": "J0JEV_Es89qr"
   },
   "source": [
    "### Slicing of Tuple"
   ]
  },
  {
   "cell_type": "code",
   "execution_count": 181,
   "id": "0d5cdb08",
   "metadata": {
    "colab": {
     "base_uri": "https://localhost:8080/"
    },
    "id": "vR6yVMf9828U",
    "outputId": "90520f07-52d3-4ec2-d779-2e839d433abe"
   },
   "outputs": [
    {
     "data": {
      "text/plain": [
       "('Anny', 'DOB-12/12/2009', 'Student', True)"
      ]
     },
     "execution_count": 181,
     "metadata": {},
     "output_type": "execute_result"
    }
   ],
   "source": [
    "tuple1=(\"Anny\",\"DOB-12/12/2009\",\"Student\",True)\n",
    "tuple1"
   ]
  },
  {
   "cell_type": "code",
   "execution_count": 182,
   "id": "11d3eb1e",
   "metadata": {
    "colab": {
     "base_uri": "https://localhost:8080/"
    },
    "id": "SpEKeXE19OMR",
    "outputId": "c07d8e1a-347e-453d-daab-68b0603dd58a"
   },
   "outputs": [
    {
     "data": {
      "text/plain": [
       "('Anny', 'DOB-12/12/2009')"
      ]
     },
     "execution_count": 182,
     "metadata": {},
     "output_type": "execute_result"
    }
   ],
   "source": [
    "tuple1[0:2]"
   ]
  },
  {
   "cell_type": "code",
   "execution_count": 183,
   "id": "f1b0d0fd",
   "metadata": {
    "colab": {
     "base_uri": "https://localhost:8080/"
    },
    "id": "uPr9-6xY94iD",
    "outputId": "1353685c-a26b-4952-d52f-ea544f4663a7"
   },
   "outputs": [
    {
     "data": {
      "text/plain": [
       "(True, 'Student', 'DOB-12/12/2009', 'Anny')"
      ]
     },
     "execution_count": 183,
     "metadata": {},
     "output_type": "execute_result"
    }
   ],
   "source": [
    "# reverse\n",
    "tuple1[::-1]"
   ]
  },
  {
   "cell_type": "markdown",
   "id": "c854be09",
   "metadata": {
    "id": "OBxMNfeN-IAH"
   },
   "source": [
    "- Iteration in Tuple"
   ]
  },
  {
   "cell_type": "code",
   "execution_count": 184,
   "id": "80e75597",
   "metadata": {
    "colab": {
     "base_uri": "https://localhost:8080/"
    },
    "id": "bREk1mg4-BS2",
    "outputId": "7ac9cdf2-e249-4606-e5a0-3bf92f4da435"
   },
   "outputs": [
    {
     "name": "stdout",
     "output_type": "stream",
     "text": [
      "Anny <class 'str'>\n",
      "DOB-12/12/2009 <class 'str'>\n",
      "Student <class 'str'>\n",
      "True <class 'bool'>\n"
     ]
    }
   ],
   "source": [
    "for i in tuple1:\n",
    "    print(i, type(i))"
   ]
  },
  {
   "cell_type": "markdown",
   "id": "d8c96376",
   "metadata": {
    "id": "zUcS5HnD-yT-"
   },
   "source": [
    "### max & min"
   ]
  },
  {
   "cell_type": "code",
   "execution_count": 185,
   "id": "73d816a7",
   "metadata": {
    "colab": {
     "base_uri": "https://localhost:8080/"
    },
    "id": "oNFX38aF-OLS",
    "outputId": "918cd5c2-4977-4c20-9877-bc9d857cadfb"
   },
   "outputs": [
    {
     "data": {
      "text/plain": [
       "789"
      ]
     },
     "execution_count": 185,
     "metadata": {},
     "output_type": "execute_result"
    }
   ],
   "source": [
    "t1=(12,56,789,12,4,-87)\n",
    "max(t1)"
   ]
  },
  {
   "cell_type": "code",
   "execution_count": 186,
   "id": "52b0c030",
   "metadata": {
    "colab": {
     "base_uri": "https://localhost:8080/"
    },
    "id": "Ncim1jro-Xb8",
    "outputId": "93dc92ec-9310-4eb9-a670-8b4644d9c492"
   },
   "outputs": [
    {
     "data": {
      "text/plain": [
       "-87"
      ]
     },
     "execution_count": 186,
     "metadata": {},
     "output_type": "execute_result"
    }
   ],
   "source": [
    "min(t1)"
   ]
  },
  {
   "cell_type": "code",
   "execution_count": 187,
   "id": "6a189ebc",
   "metadata": {
    "colab": {
     "base_uri": "https://localhost:8080/"
    },
    "id": "dbZyMSS0-ZuG",
    "outputId": "72da898b-85aa-4fea-a884-0864a3d998f7"
   },
   "outputs": [
    {
     "data": {
      "text/plain": [
       "(34, 90)"
      ]
     },
     "execution_count": 187,
     "metadata": {},
     "output_type": "execute_result"
    }
   ],
   "source": [
    "t2=(34,90)\n",
    "t2"
   ]
  },
  {
   "cell_type": "code",
   "execution_count": 188,
   "id": "6bc9e544",
   "metadata": {
    "colab": {
     "base_uri": "https://localhost:8080/"
    },
    "id": "hCHDywpD-fEI",
    "outputId": "918cd84c-94ed-4143-8131-9c28d0cae089"
   },
   "outputs": [
    {
     "data": {
      "text/plain": [
       "((34, 90), (12, 56, 789, 12, 4, -87))"
      ]
     },
     "execution_count": 188,
     "metadata": {},
     "output_type": "execute_result"
    }
   ],
   "source": [
    "t3=(t2,t1)\n",
    "t3"
   ]
  },
  {
   "cell_type": "code",
   "execution_count": 189,
   "id": "63f46ecf",
   "metadata": {
    "colab": {
     "base_uri": "https://localhost:8080/"
    },
    "id": "x4qKDUYm-hL9",
    "outputId": "70cb6b6d-1973-4128-e80f-ceb7201d413d"
   },
   "outputs": [
    {
     "data": {
      "text/plain": [
       "tuple"
      ]
     },
     "execution_count": 189,
     "metadata": {},
     "output_type": "execute_result"
    }
   ],
   "source": [
    "type(t3)"
   ]
  },
  {
   "cell_type": "code",
   "execution_count": 190,
   "id": "df3f60ad",
   "metadata": {
    "colab": {
     "base_uri": "https://localhost:8080/"
    },
    "id": "kZcT3dYF-kze",
    "outputId": "e7cca56a-5448-48c0-ac9d-9dee604c45d0"
   },
   "outputs": [
    {
     "data": {
      "text/plain": [
       "2"
      ]
     },
     "execution_count": 190,
     "metadata": {},
     "output_type": "execute_result"
    }
   ],
   "source": [
    "len(t3)"
   ]
  },
  {
   "cell_type": "code",
   "execution_count": 191,
   "id": "7643016a",
   "metadata": {
    "colab": {
     "base_uri": "https://localhost:8080/"
    },
    "id": "qJAKg_ZV-nFt",
    "outputId": "761023b3-f44a-4f19-cf48-731ab1448640"
   },
   "outputs": [
    {
     "data": {
      "text/plain": [
       "6"
      ]
     },
     "execution_count": 191,
     "metadata": {},
     "output_type": "execute_result"
    }
   ],
   "source": [
    "len(t1)"
   ]
  },
  {
   "cell_type": "code",
   "execution_count": 192,
   "id": "9a066d81",
   "metadata": {
    "colab": {
     "base_uri": "https://localhost:8080/"
    },
    "id": "uTuTmSNj-otJ",
    "outputId": "b84f2965-63ef-453b-9309-04e315ed01ae"
   },
   "outputs": [
    {
     "data": {
      "text/plain": [
       "(12, 56, 789, 12, 4, -87, 34, 90)"
      ]
     },
     "execution_count": 192,
     "metadata": {},
     "output_type": "execute_result"
    }
   ],
   "source": [
    "t1+t2"
   ]
  },
  {
   "cell_type": "code",
   "execution_count": 193,
   "id": "d106336d",
   "metadata": {
    "colab": {
     "base_uri": "https://localhost:8080/"
    },
    "id": "J1IEN7A7-ruB",
    "outputId": "56e95e35-5a1b-41be-a957-019b91ff5394"
   },
   "outputs": [
    {
     "data": {
      "text/plain": [
       "8"
      ]
     },
     "execution_count": 193,
     "metadata": {},
     "output_type": "execute_result"
    }
   ],
   "source": [
    "len(t1+t2)"
   ]
  },
  {
   "cell_type": "markdown",
   "id": "75b6fb4b",
   "metadata": {
    "id": "T0unbYlq-656"
   },
   "source": [
    "## Sets"
   ]
  },
  {
   "cell_type": "markdown",
   "id": "1fa2c0e0",
   "metadata": {
    "id": "ENKMT2SP-9QT"
   },
   "source": [
    "- Unordered\n",
    "- Unique collection\n",
    "- Doesn't allow duplicates\n",
    "- Not perform indexing\n",
    "- Syntax : s={element}"
   ]
  },
  {
   "cell_type": "code",
   "execution_count": 194,
   "id": "2a960561",
   "metadata": {
    "colab": {
     "base_uri": "https://localhost:8080/"
    },
    "id": "6n1EQJzA-uge",
    "outputId": "14ad81e8-bd08-49f5-e66e-040ba18b5eb0"
   },
   "outputs": [
    {
     "data": {
      "text/plain": [
       "{1, 2, 3}"
      ]
     },
     "execution_count": 194,
     "metadata": {},
     "output_type": "execute_result"
    }
   ],
   "source": [
    "s={1,2,3,3,2}\n",
    "s"
   ]
  },
  {
   "cell_type": "code",
   "execution_count": 195,
   "id": "858b7cac",
   "metadata": {
    "colab": {
     "base_uri": "https://localhost:8080/"
    },
    "id": "zEB9ijK3_RKc",
    "outputId": "7d431938-7d59-4f80-d2cc-4e1a0cb88fd9"
   },
   "outputs": [
    {
     "data": {
      "text/plain": [
       "set"
      ]
     },
     "execution_count": 195,
     "metadata": {},
     "output_type": "execute_result"
    }
   ],
   "source": [
    "type(s)"
   ]
  },
  {
   "cell_type": "markdown",
   "id": "0d754c77",
   "metadata": {
    "id": "6utuWUuZ_U0y"
   },
   "source": [
    "### Use Case : Remove repetition of elements"
   ]
  },
  {
   "cell_type": "code",
   "execution_count": 196,
   "id": "e3182bd0",
   "metadata": {
    "colab": {
     "base_uri": "https://localhost:8080/"
    },
    "id": "ZezdRd92_SMe",
    "outputId": "f087ae1a-a9d4-40ab-b8ae-0492f52b6caf"
   },
   "outputs": [
    {
     "data": {
      "text/plain": [
       "{'apple', 'avocado', 'chocolate', 'pulses'}"
      ]
     },
     "execution_count": 196,
     "metadata": {},
     "output_type": "execute_result"
    }
   ],
   "source": [
    "list1={'apple','avocado','pulses','apple','chocolate','avocado','apple'}\n",
    "list1"
   ]
  },
  {
   "cell_type": "code",
   "execution_count": 197,
   "id": "f6135722",
   "metadata": {
    "colab": {
     "base_uri": "https://localhost:8080/"
    },
    "id": "vO1-GrYc_q9q",
    "outputId": "f95dcef2-bb37-4a33-f5fd-5c5b175c4401"
   },
   "outputs": [
    {
     "data": {
      "text/plain": [
       "{'apple', 'avocado', 'chocolate', 'pulses'}"
      ]
     },
     "execution_count": 197,
     "metadata": {},
     "output_type": "execute_result"
    }
   ],
   "source": [
    "list1=['apple','avocado','pulses','apple','chocolate','avocado','apple']\n",
    "s=set(list1)\n",
    "s"
   ]
  },
  {
   "cell_type": "code",
   "execution_count": 198,
   "id": "47e80f6b",
   "metadata": {
    "colab": {
     "base_uri": "https://localhost:8080/"
    },
    "id": "G4VAQHW8_5GC",
    "outputId": "c895c6cc-e996-4167-e2ea-34f8b80c3e54"
   },
   "outputs": [
    {
     "data": {
      "text/plain": [
       "list"
      ]
     },
     "execution_count": 198,
     "metadata": {},
     "output_type": "execute_result"
    }
   ],
   "source": [
    "type(list1)"
   ]
  },
  {
   "cell_type": "code",
   "execution_count": 199,
   "id": "e158fdd3",
   "metadata": {
    "colab": {
     "base_uri": "https://localhost:8080/"
    },
    "id": "9ayFWSbJ_79D",
    "outputId": "3f8c2bf6-7484-4321-f5cd-6a4216fa81f8"
   },
   "outputs": [
    {
     "data": {
      "text/plain": [
       "set"
      ]
     },
     "execution_count": 199,
     "metadata": {},
     "output_type": "execute_result"
    }
   ],
   "source": [
    "type(s)"
   ]
  },
  {
   "cell_type": "markdown",
   "id": "b4df65be",
   "metadata": {
    "id": "cDtwuSoLAGxn"
   },
   "source": [
    "### Indexing Not allowed"
   ]
  },
  {
   "cell_type": "code",
   "execution_count": 200,
   "id": "1d69f24a",
   "metadata": {
    "colab": {
     "base_uri": "https://localhost:8080/"
    },
    "id": "QooYkZHA_935",
    "outputId": "7e3df8c5-e630-4b24-d1cb-94d693239881"
   },
   "outputs": [
    {
     "data": {
      "text/plain": [
       "{'apple', 'avocado', 'chocolate', 'pulses'}"
      ]
     },
     "execution_count": 200,
     "metadata": {},
     "output_type": "execute_result"
    }
   ],
   "source": [
    "s"
   ]
  },
  {
   "cell_type": "code",
   "execution_count": 201,
   "id": "e5963b5b",
   "metadata": {
    "colab": {
     "base_uri": "https://localhost:8080/"
    },
    "id": "SFEqRZEZAKI4",
    "outputId": "5d94b594-4aa0-42eb-f0b8-63ca1320a182"
   },
   "outputs": [
    {
     "name": "stdout",
     "output_type": "stream",
     "text": [
      "Error 'set' object is not subscriptable\n"
     ]
    }
   ],
   "source": [
    "try:\n",
    "    s[0]\n",
    "except TypeError as e:\n",
    "    print(\"Error\",e)"
   ]
  },
  {
   "cell_type": "code",
   "execution_count": 202,
   "id": "76b88960",
   "metadata": {
    "colab": {
     "base_uri": "https://localhost:8080/"
    },
    "id": "3of9V70lAcmi",
    "outputId": "d4037232-3410-404c-efae-9e00687ff1e3"
   },
   "outputs": [
    {
     "data": {
      "text/plain": [
       "{1, 2, 3, 4, 5}"
      ]
     },
     "execution_count": 202,
     "metadata": {},
     "output_type": "execute_result"
    }
   ],
   "source": [
    "set1={1,1,2,2,3,4,5,5}\n",
    "set1"
   ]
  },
  {
   "cell_type": "markdown",
   "id": "fc8235d0",
   "metadata": {
    "id": "3ITHyC0EAvjz"
   },
   "source": [
    "### Elements of set"
   ]
  },
  {
   "cell_type": "markdown",
   "id": "d25c7766",
   "metadata": {
    "id": "n1hrQ3YOAyUw"
   },
   "source": [
    "The elements of set must be an immutable element, like tuple, string. It can never be mutable like list."
   ]
  },
  {
   "cell_type": "code",
   "execution_count": 203,
   "id": "0fb06d65",
   "metadata": {
    "colab": {
     "base_uri": "https://localhost:8080/"
    },
    "id": "GK0Ie2SnBGFP",
    "outputId": "674c8198-1016-4546-aa6e-193ef6ce079e"
   },
   "outputs": [
    {
     "name": "stdout",
     "output_type": "stream",
     "text": [
      "Error  unhashable type: 'set'\n"
     ]
    }
   ],
   "source": [
    "# set in set\n",
    "s={1,2,2}\n",
    "try:\n",
    "    s={1,2,2,{3,3,4}}\n",
    "except TypeError as e:\n",
    "    print(\"Error \",e)"
   ]
  },
  {
   "cell_type": "code",
   "execution_count": 204,
   "id": "a0c81cb3",
   "metadata": {
    "colab": {
     "base_uri": "https://localhost:8080/"
    },
    "id": "oXHE4X4EBwOK",
    "outputId": "6aa3e8ad-e058-4528-801b-289383d05e1f"
   },
   "outputs": [
    {
     "name": "stdout",
     "output_type": "stream",
     "text": [
      "Error is :  unhashable type: 'list'\n"
     ]
    }
   ],
   "source": [
    "# list in set\n",
    "s={1,2,3}\n",
    "try:\n",
    "    s={1,2,3,[4,5,6]}\n",
    "except TypeError as p:\n",
    "    print(\"Error is : \",p)"
   ]
  },
  {
   "cell_type": "code",
   "execution_count": 205,
   "id": "bf3a443a",
   "metadata": {
    "colab": {
     "base_uri": "https://localhost:8080/"
    },
    "id": "mfQ6D-IvCBkq",
    "outputId": "d7923206-95bf-43e5-ce54-32e6e2672f14"
   },
   "outputs": [
    {
     "data": {
      "text/plain": [
       "{(4, 5, 3, 2), 1, 2, 3}"
      ]
     },
     "execution_count": 205,
     "metadata": {},
     "output_type": "execute_result"
    }
   ],
   "source": [
    "# tuple in set\n",
    "s={1,2,3,(4,5,3,2)}\n",
    "s"
   ]
  },
  {
   "cell_type": "code",
   "execution_count": 206,
   "id": "bb36855c",
   "metadata": {
    "colab": {
     "base_uri": "https://localhost:8080/"
    },
    "id": "dXgc7Ey4CTOh",
    "outputId": "2bb6cf15-d0e0-4033-81b0-6ba094ed9798"
   },
   "outputs": [
    {
     "data": {
      "text/plain": [
       "set"
      ]
     },
     "execution_count": 206,
     "metadata": {},
     "output_type": "execute_result"
    }
   ],
   "source": [
    "type(s)"
   ]
  },
  {
   "cell_type": "code",
   "execution_count": 207,
   "id": "30968fd0",
   "metadata": {
    "colab": {
     "base_uri": "https://localhost:8080/"
    },
    "id": "8_-eLOFzCUvy",
    "outputId": "8513c582-66c8-4774-b6d0-d1e5cdfde88d"
   },
   "outputs": [
    {
     "name": "stdout",
     "output_type": "stream",
     "text": [
      "1\n",
      "2\n",
      "3\n",
      "(4, 5, 3, 2)\n"
     ]
    }
   ],
   "source": [
    "for i in s:\n",
    "    print(i)"
   ]
  },
  {
   "cell_type": "markdown",
   "id": "1d0a8c0b",
   "metadata": {
    "id": "_QiiYLUrCu9-"
   },
   "source": [
    "### mutable"
   ]
  },
  {
   "cell_type": "code",
   "execution_count": 208,
   "id": "45ccab9e",
   "metadata": {
    "colab": {
     "base_uri": "https://localhost:8080/"
    },
    "id": "FAm0HmO_CpVC",
    "outputId": "0fbca485-6b54-461b-9515-a2dab9dc6cd6"
   },
   "outputs": [
    {
     "data": {
      "text/plain": [
       "{12, 34, 56, 78, 90}"
      ]
     },
     "execution_count": 208,
     "metadata": {},
     "output_type": "execute_result"
    }
   ],
   "source": [
    "s1={12,34,56,78,90}\n",
    "s1"
   ]
  },
  {
   "cell_type": "code",
   "execution_count": 209,
   "id": "10815fe2",
   "metadata": {
    "colab": {
     "base_uri": "https://localhost:8080/"
    },
    "id": "2kOoUUvJC163",
    "outputId": "a56cfc54-081e-4e49-f11d-014d4f6cdacd"
   },
   "outputs": [
    {
     "data": {
      "text/plain": [
       "{12, 34, 56, 78, 90, 100}"
      ]
     },
     "execution_count": 209,
     "metadata": {},
     "output_type": "execute_result"
    }
   ],
   "source": [
    "s1.add(100)\n",
    "s1"
   ]
  },
  {
   "cell_type": "code",
   "execution_count": 210,
   "id": "a8cce77f",
   "metadata": {
    "colab": {
     "base_uri": "https://localhost:8080/"
    },
    "id": "Udnb0XqJC7sy",
    "outputId": "b9758abc-ada4-447d-ccf3-4c7a9012b116"
   },
   "outputs": [
    {
     "data": {
      "text/plain": [
       "{5, 12, 34, 56, 78, 90, 100}"
      ]
     },
     "execution_count": 210,
     "metadata": {},
     "output_type": "execute_result"
    }
   ],
   "source": [
    "s1.add(5)\n",
    "s1"
   ]
  },
  {
   "cell_type": "markdown",
   "id": "1523cc53",
   "metadata": {
    "id": "DoU3Sd28DYtf"
   },
   "source": [
    "### .pop()"
   ]
  },
  {
   "cell_type": "markdown",
   "id": "ee283f4a",
   "metadata": {
    "id": "UzcdUIGnDdJD"
   },
   "source": [
    "- pop() doesn't take any arguements inside() it will pop out elements randomly."
   ]
  },
  {
   "cell_type": "code",
   "execution_count": 211,
   "id": "9aff7312",
   "metadata": {
    "colab": {
     "base_uri": "https://localhost:8080/"
    },
    "id": "xzKm8Y7_DAWP",
    "outputId": "c9fd799e-261b-414f-a5b4-e19c18ac3ed6"
   },
   "outputs": [
    {
     "data": {
      "text/plain": [
       "34"
      ]
     },
     "execution_count": 211,
     "metadata": {},
     "output_type": "execute_result"
    }
   ],
   "source": [
    "s1.pop()"
   ]
  },
  {
   "cell_type": "code",
   "execution_count": 212,
   "id": "03e683b1",
   "metadata": {
    "colab": {
     "base_uri": "https://localhost:8080/"
    },
    "id": "7Fq9woBYDEi0",
    "outputId": "12a4745b-aa66-45c8-ee12-19a3456ace30"
   },
   "outputs": [
    {
     "data": {
      "text/plain": [
       "{5, 12, 56, 78, 90, 100}"
      ]
     },
     "execution_count": 212,
     "metadata": {},
     "output_type": "execute_result"
    }
   ],
   "source": [
    "s1"
   ]
  },
  {
   "cell_type": "code",
   "execution_count": 213,
   "id": "bac60aac",
   "metadata": {
    "colab": {
     "base_uri": "https://localhost:8080/"
    },
    "id": "ywtQzlvMDRuj",
    "outputId": "df3ed429-c438-44e5-e7ee-c6828e8ffc01"
   },
   "outputs": [
    {
     "data": {
      "text/plain": [
       "100"
      ]
     },
     "execution_count": 213,
     "metadata": {},
     "output_type": "execute_result"
    }
   ],
   "source": [
    "s1.pop()"
   ]
  },
  {
   "cell_type": "markdown",
   "id": "10069d02",
   "metadata": {
    "id": "Q_g01df8DoLP"
   },
   "source": [
    "### set.remove()"
   ]
  },
  {
   "cell_type": "markdown",
   "id": "607c4944",
   "metadata": {
    "id": "We8yJEOwDrdD"
   },
   "source": [
    "To remove any specific elements"
   ]
  },
  {
   "cell_type": "code",
   "execution_count": 214,
   "id": "c474f186",
   "metadata": {
    "colab": {
     "base_uri": "https://localhost:8080/"
    },
    "id": "7k0lOQ5BDUGt",
    "outputId": "50f510dc-e1ee-4edf-9edb-f9b1de5cb429"
   },
   "outputs": [
    {
     "data": {
      "text/plain": [
       "{5, 12, 56, 78, 90}"
      ]
     },
     "execution_count": 214,
     "metadata": {},
     "output_type": "execute_result"
    }
   ],
   "source": [
    "s1"
   ]
  },
  {
   "cell_type": "code",
   "execution_count": 215,
   "id": "3c39c31c",
   "metadata": {
    "id": "Mr1P6NsGDvoW"
   },
   "outputs": [],
   "source": [
    "s1.remove(12)"
   ]
  },
  {
   "cell_type": "code",
   "execution_count": 216,
   "id": "baad749b",
   "metadata": {
    "colab": {
     "base_uri": "https://localhost:8080/"
    },
    "id": "Cdv1A0T3DzIU",
    "outputId": "9e77c953-fb15-43d4-e962-5ee3d88c4141"
   },
   "outputs": [
    {
     "data": {
      "text/plain": [
       "{5, 56, 78, 90}"
      ]
     },
     "execution_count": 216,
     "metadata": {},
     "output_type": "execute_result"
    }
   ],
   "source": [
    "s1"
   ]
  },
  {
   "cell_type": "markdown",
   "id": "8a3f6ec8",
   "metadata": {
    "id": "cNRcOLTHEFCE"
   },
   "source": [
    "### set.update()"
   ]
  },
  {
   "cell_type": "code",
   "execution_count": 217,
   "id": "654d1f5e",
   "metadata": {
    "colab": {
     "base_uri": "https://localhost:8080/"
    },
    "id": "E-Q4TsLrD16h",
    "outputId": "604ff9bc-600a-40d9-821e-1991c05d673a"
   },
   "outputs": [
    {
     "data": {
      "text/plain": [
       "{5, 56, 78, 90, 'P', 'a', 'g', 'r'}"
      ]
     },
     "execution_count": 217,
     "metadata": {},
     "output_type": "execute_result"
    }
   ],
   "source": [
    "s1.update(\"Prag\") #iteration happen\n",
    "s1"
   ]
  },
  {
   "cell_type": "code",
   "execution_count": 218,
   "id": "ed063cbb",
   "metadata": {
    "colab": {
     "base_uri": "https://localhost:8080/"
    },
    "id": "X7q8cossECw9",
    "outputId": "d6695841-debc-447b-af2c-be7283e70b9b"
   },
   "outputs": [
    {
     "data": {
      "text/plain": [
       "{5, 56, 78, 90, 'P', 'Pragg', 'a', 'g', 'r'}"
      ]
     },
     "execution_count": 218,
     "metadata": {},
     "output_type": "execute_result"
    }
   ],
   "source": [
    "s1.update([\"Pragg\"]) # iteration not happened\n",
    "s1"
   ]
  },
  {
   "cell_type": "code",
   "execution_count": 219,
   "id": "7d45ee70",
   "metadata": {
    "colab": {
     "base_uri": "https://localhost:8080/"
    },
    "id": "P1Hpcom4EPnK",
    "outputId": "548c2203-c0fa-4cf5-82fb-7b5b71d4f958"
   },
   "outputs": [
    {
     "data": {
      "text/plain": [
       "{5, 56, 78, 90, 'P', 'Pragg', 'a', 'g', 'r'}"
      ]
     },
     "execution_count": 219,
     "metadata": {},
     "output_type": "execute_result"
    }
   ],
   "source": [
    "s1.update(\"Prag\")\n",
    "s1"
   ]
  },
  {
   "cell_type": "code",
   "execution_count": 220,
   "id": "3a8997fb",
   "metadata": {
    "colab": {
     "base_uri": "https://localhost:8080/"
    },
    "id": "SbQvz2S5F18n",
    "outputId": "ab09cf08-37e9-45c5-b598-0fff2b879aee"
   },
   "outputs": [
    {
     "data": {
      "text/plain": [
       "{5, 56, 78, 90, 'Pragg', 'a', 'g', 'r'}"
      ]
     },
     "execution_count": 220,
     "metadata": {},
     "output_type": "execute_result"
    }
   ],
   "source": [
    "s1.remove('P')\n",
    "s1"
   ]
  },
  {
   "cell_type": "code",
   "execution_count": 221,
   "id": "316e46e3",
   "metadata": {
    "colab": {
     "base_uri": "https://localhost:8080/"
    },
    "id": "icXXmr36GGBf",
    "outputId": "c8a244e8-f6b3-4764-f54b-8a3d9494002c"
   },
   "outputs": [
    {
     "data": {
      "text/plain": [
       "{56, 78, 90, 'Pragg', 'a', 'g', 'r'}"
      ]
     },
     "execution_count": 221,
     "metadata": {},
     "output_type": "execute_result"
    }
   ],
   "source": [
    "s1.discard(5)\n",
    "s1"
   ]
  },
  {
   "cell_type": "code",
   "execution_count": 222,
   "id": "5a528b3d",
   "metadata": {
    "colab": {
     "base_uri": "https://localhost:8080/"
    },
    "id": "8ycyTR4sGL2j",
    "outputId": "96c30bfd-0656-4cd8-d037-dd3955b66fb5"
   },
   "outputs": [
    {
     "data": {
      "text/plain": [
       "set()"
      ]
     },
     "execution_count": 222,
     "metadata": {},
     "output_type": "execute_result"
    }
   ],
   "source": [
    "s1.clear()\n",
    "s1"
   ]
  },
  {
   "cell_type": "code",
   "execution_count": 223,
   "id": "28477aed",
   "metadata": {
    "id": "ufXIyZPmGQLH"
   },
   "outputs": [],
   "source": [
    "del s1"
   ]
  },
  {
   "cell_type": "markdown",
   "id": "183bd37b",
   "metadata": {
    "id": "fQ5GmqVWGUFZ"
   },
   "source": [
    "### Operations on Set"
   ]
  },
  {
   "cell_type": "markdown",
   "id": "c8256bc3",
   "metadata": {
    "id": "JRwPoMHOGYZu"
   },
   "source": [
    "We can perform some basic operations on set:\n",
    "- Union of sets\n",
    "- Intersection of sets\n",
    "- Difference of sets\n",
    "- Symmetric Difference of sets"
   ]
  },
  {
   "cell_type": "markdown",
   "id": "a40dfb9f",
   "metadata": {
    "id": "YOFqC8whHFAg"
   },
   "source": [
    "![image.png](data:image/png;base64,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)"
   ]
  },
  {
   "cell_type": "markdown",
   "id": "878b1f2a",
   "metadata": {
    "id": "jSok6H23GyUU"
   },
   "source": [
    "### Union of sets"
   ]
  },
  {
   "cell_type": "markdown",
   "id": "2cfd9b3b",
   "metadata": {
    "id": "2qzGb01lG1f_"
   },
   "source": [
    "Combine elements from two sets excluding duplicates"
   ]
  },
  {
   "cell_type": "code",
   "execution_count": 224,
   "id": "dd92c93e",
   "metadata": {
    "colab": {
     "base_uri": "https://localhost:8080/"
    },
    "id": "rfB8F2qQGSRG",
    "outputId": "9af0ce5e-beda-4261-db4c-6695348cb640"
   },
   "outputs": [
    {
     "data": {
      "text/plain": [
       "{123, 'ABC', 'DEF', 'GHI'}"
      ]
     },
     "execution_count": 224,
     "metadata": {},
     "output_type": "execute_result"
    }
   ],
   "source": [
    "s1={\"ABC\",123,\"ABC\"}\n",
    "s2={\"DEF\",123,\"GHI\"}\n",
    "s1 | s2 # | for union"
   ]
  },
  {
   "cell_type": "markdown",
   "id": "c2b664e5",
   "metadata": {
    "id": "iD6qgwmQHZWl"
   },
   "source": [
    "### Intersection of sets"
   ]
  },
  {
   "cell_type": "markdown",
   "id": "70474fa1",
   "metadata": {
    "id": "Vmjio9HkHf4j"
   },
   "source": [
    "Common elements of both sets"
   ]
  },
  {
   "cell_type": "code",
   "execution_count": 225,
   "id": "2d7c5ba8",
   "metadata": {
    "colab": {
     "base_uri": "https://localhost:8080/"
    },
    "id": "ubT5YKU9HW2i",
    "outputId": "f9ac6d78-c511-4609-e0ba-36bfb2231662"
   },
   "outputs": [
    {
     "data": {
      "text/plain": [
       "{123}"
      ]
     },
     "execution_count": 225,
     "metadata": {},
     "output_type": "execute_result"
    }
   ],
   "source": [
    "s1={\"ABC\",123,\"ABC\"}\n",
    "s2={\"DEF\",123,\"GHI\"}\n",
    "s1 & s2 # & for intersection"
   ]
  },
  {
   "cell_type": "markdown",
   "id": "dcf95fa7",
   "metadata": {
    "id": "PauY1po_HwCC"
   },
   "source": [
    "### Differences of sets"
   ]
  },
  {
   "cell_type": "markdown",
   "id": "43e0ce08",
   "metadata": {
    "id": "46CKh8JdHy2f"
   },
   "source": [
    "Elements present in 1st set but not in 2nd set"
   ]
  },
  {
   "cell_type": "code",
   "execution_count": 226,
   "id": "4e969901",
   "metadata": {
    "colab": {
     "base_uri": "https://localhost:8080/"
    },
    "id": "3ufAdr_bHm_B",
    "outputId": "29efea47-8d26-4cc4-f568-5f07216463ef"
   },
   "outputs": [
    {
     "data": {
      "text/plain": [
       "{'ABC'}"
      ]
     },
     "execution_count": 226,
     "metadata": {},
     "output_type": "execute_result"
    }
   ],
   "source": [
    "s1={\"ABC\",123,\"ABC\"}\n",
    "s2={\"DEF\",123,\"GHI\"}\n",
    "s1-s2 # - for difference"
   ]
  },
  {
   "cell_type": "code",
   "execution_count": 227,
   "id": "f233d82c",
   "metadata": {
    "colab": {
     "base_uri": "https://localhost:8080/"
    },
    "id": "o97U3qI9H9dn",
    "outputId": "58f8a227-f644-414b-dcf7-3702c2a3d898"
   },
   "outputs": [
    {
     "data": {
      "text/plain": [
       "{'DEF', 'GHI'}"
      ]
     },
     "execution_count": 227,
     "metadata": {},
     "output_type": "execute_result"
    }
   ],
   "source": [
    "s2-s1"
   ]
  },
  {
   "cell_type": "markdown",
   "id": "92e0a599",
   "metadata": {
    "id": "8ZrtdX8OIFp2"
   },
   "source": [
    "### Symmetric Difference"
   ]
  },
  {
   "cell_type": "markdown",
   "id": "13dc3e16",
   "metadata": {
    "id": "GAloS5OfIJD4"
   },
   "source": [
    "Present in either of the set but not in both"
   ]
  },
  {
   "cell_type": "code",
   "execution_count": 228,
   "id": "c33741b1",
   "metadata": {
    "colab": {
     "base_uri": "https://localhost:8080/"
    },
    "id": "h-2Lun8FIEY_",
    "outputId": "0ebcb8d9-75a1-4713-abe0-110ff0a90ee9"
   },
   "outputs": [
    {
     "data": {
      "text/plain": [
       "{'ABC', 'DEF', 'GHI'}"
      ]
     },
     "execution_count": 228,
     "metadata": {},
     "output_type": "execute_result"
    }
   ],
   "source": [
    "s1={\"ABC\",123,\"ABC\"}\n",
    "s2={\"DEF\",123,\"GHI\"}\n",
    "s1^s2 # ^ for symmetric difference"
   ]
  },
  {
   "cell_type": "markdown",
   "id": "62a2d1b4",
   "metadata": {
    "id": "TcMuGdqHIWN0"
   },
   "source": [
    "### Frozen Set"
   ]
  },
  {
   "cell_type": "markdown",
   "id": "42f91bf1",
   "metadata": {
    "id": "mOE25_B9IZqE"
   },
   "source": [
    "Immutable version of sets, whose elements are frozen i.e. can not be added or removed.\n",
    "- Syntax : frozenset([list])"
   ]
  },
  {
   "cell_type": "code",
   "execution_count": 229,
   "id": "b109916e",
   "metadata": {
    "colab": {
     "base_uri": "https://localhost:8080/"
    },
    "id": "r6JUWeOrITqT",
    "outputId": "c62a5e6e-6e31-4a9a-9346-40367c312bac"
   },
   "outputs": [
    {
     "data": {
      "text/plain": [
       "{1, 2, 3, 10}"
      ]
     },
     "execution_count": 229,
     "metadata": {},
     "output_type": "execute_result"
    }
   ],
   "source": [
    "s={1,2,3,2}\n",
    "s.add(10)\n",
    "s"
   ]
  },
  {
   "cell_type": "code",
   "execution_count": 230,
   "id": "7369c44a",
   "metadata": {
    "colab": {
     "base_uri": "https://localhost:8080/"
    },
    "id": "x9mLBgtdIpPw",
    "outputId": "cdba3b3a-76b6-460a-f56c-2c2c5ff6ba74"
   },
   "outputs": [
    {
     "data": {
      "text/plain": [
       "frozenset({1, 2, 3, 4, 5})"
      ]
     },
     "execution_count": 230,
     "metadata": {},
     "output_type": "execute_result"
    }
   ],
   "source": [
    "my_fs=frozenset([1,2,2,3,4,5])\n",
    "my_fs"
   ]
  },
  {
   "cell_type": "code",
   "execution_count": 231,
   "id": "359b6fd8",
   "metadata": {
    "colab": {
     "base_uri": "https://localhost:8080/"
    },
    "id": "IeNw4BMgIwqE",
    "outputId": "c55ecc04-1219-4975-aad5-c484b3da7f5f"
   },
   "outputs": [
    {
     "data": {
      "text/plain": [
       "frozenset"
      ]
     },
     "execution_count": 231,
     "metadata": {},
     "output_type": "execute_result"
    }
   ],
   "source": [
    "type(my_fs)"
   ]
  },
  {
   "cell_type": "markdown",
   "id": "0294fd22",
   "metadata": {
    "id": "fmWzCtSgJuhv"
   },
   "source": [
    "## Dictionary"
   ]
  },
  {
   "cell_type": "markdown",
   "id": "b8ab5a4d",
   "metadata": {
    "id": "ozga2MfxzSmI"
   },
   "source": [
    "Data structure of ordered collection of unique value that stores data as key-value pair.\n",
    "- Keys are unique and immutable\n",
    "- They are unordered, but from python 3.7 version retain the order of insertion.\n",
    "- Item will be returned in the order they were added."
   ]
  },
  {
   "cell_type": "markdown",
   "id": "ac8233eb",
   "metadata": {
    "id": "kH6-XupuzxWl"
   },
   "source": [
    "- Syntax\n",
    "d= {}"
   ]
  },
  {
   "cell_type": "code",
   "execution_count": 232,
   "id": "8a04ac28",
   "metadata": {
    "colab": {
     "base_uri": "https://localhost:8080/"
    },
    "id": "87REA9GJJWsB",
    "outputId": "29b1b8e4-7437-4631-fec6-950f21cc9e94"
   },
   "outputs": [
    {
     "data": {
      "text/plain": [
       "dict"
      ]
     },
     "execution_count": 232,
     "metadata": {},
     "output_type": "execute_result"
    }
   ],
   "source": [
    "d={}\n",
    "type(d)"
   ]
  },
  {
   "cell_type": "code",
   "execution_count": 233,
   "id": "28cfcf60",
   "metadata": {
    "colab": {
     "base_uri": "https://localhost:8080/"
    },
    "id": "GBlSoVY-z2j3",
    "outputId": "2cc5584e-0ae1-4f8b-9dd5-6ea47f1081ac"
   },
   "outputs": [
    {
     "data": {
      "text/plain": [
       "{'name': 'Prag', 'email': 'abc@gmail', 'age': 24}"
      ]
     },
     "execution_count": 233,
     "metadata": {},
     "output_type": "execute_result"
    }
   ],
   "source": [
    "d={\"name\":\"Prag\",\"email\":\"abc@gmail\",\"age\":24}\n",
    "d"
   ]
  },
  {
   "cell_type": "code",
   "execution_count": 234,
   "id": "c270a721",
   "metadata": {
    "colab": {
     "base_uri": "https://localhost:8080/"
    },
    "id": "fbQ_ycerhj23",
    "outputId": "8f28ab97-1397-4b02-863d-3e19750044cd"
   },
   "outputs": [
    {
     "name": "stdout",
     "output_type": "stream",
     "text": [
      "name\n",
      "email\n",
      "age\n"
     ]
    }
   ],
   "source": [
    "for i in d:\n",
    "    print(i)"
   ]
  },
  {
   "cell_type": "code",
   "execution_count": 235,
   "id": "fe026822",
   "metadata": {
    "colab": {
     "base_uri": "https://localhost:8080/"
    },
    "id": "5m_zUwsUh8Gu",
    "outputId": "d3132108-ec5e-4529-a53f-f66ef3fe492e"
   },
   "outputs": [
    {
     "name": "stdout",
     "output_type": "stream",
     "text": [
      "name Prag\n",
      "email abc@gmail\n",
      "age 24\n"
     ]
    }
   ],
   "source": [
    "for key, value in d.items():\n",
    "    print(key, value)"
   ]
  },
  {
   "cell_type": "markdown",
   "id": "219ab3a3",
   "metadata": {
    "id": "u4wpzg5J0Mfn"
   },
   "source": [
    "### Accessing item"
   ]
  },
  {
   "cell_type": "markdown",
   "id": "459de560",
   "metadata": {
    "id": "el3sFVAF0UID"
   },
   "source": [
    "d['keys']"
   ]
  },
  {
   "cell_type": "markdown",
   "id": "e4ff4cbf",
   "metadata": {
    "id": "cUWPNW_j0crm"
   },
   "source": [
    "In dictionaries the keys act like index of lists.\n",
    "It means that, when we access anything in list we use index, in the same way when we access anything in dictionary, we use keys to find the values."
   ]
  },
  {
   "cell_type": "code",
   "execution_count": 236,
   "id": "2f2b6232",
   "metadata": {
    "colab": {
     "base_uri": "https://localhost:8080/",
     "height": 35
    },
    "id": "vSSBF9_50HwE",
    "outputId": "1b072160-00ef-4bcf-88b2-6645b0462743"
   },
   "outputs": [
    {
     "data": {
      "text/plain": [
       "'Prag'"
      ]
     },
     "execution_count": 236,
     "metadata": {},
     "output_type": "execute_result"
    }
   ],
   "source": [
    "d['name']"
   ]
  },
  {
   "cell_type": "code",
   "execution_count": 237,
   "id": "dbf67df7",
   "metadata": {
    "colab": {
     "base_uri": "https://localhost:8080/"
    },
    "id": "l0TFgA-o0Yoj",
    "outputId": "034ce889-d68e-4a7e-c970-65ab15375a88"
   },
   "outputs": [
    {
     "data": {
      "text/plain": [
       "24"
      ]
     },
     "execution_count": 237,
     "metadata": {},
     "output_type": "execute_result"
    }
   ],
   "source": [
    "d['age']"
   ]
  },
  {
   "cell_type": "markdown",
   "id": "1dba59af",
   "metadata": {
    "id": "tHdz2cGP04md"
   },
   "source": [
    "### Accessing key\n"
   ]
  },
  {
   "cell_type": "markdown",
   "id": "cdefdfc8",
   "metadata": {
    "id": "TozOBU-s070a"
   },
   "source": [
    "We cannot accessed keys by calling values. because keys are unique so iit can be called for values, as every value must have some well defined unique keys. But every keys does not have unique value so it can't be called."
   ]
  },
  {
   "cell_type": "markdown",
   "id": "200636cf",
   "metadata": {
    "id": "aVW9XvKP1Utw"
   },
   "source": [
    "### Rule of defining Key"
   ]
  },
  {
   "cell_type": "markdown",
   "id": "d67c5cf9",
   "metadata": {
    "id": "RHCm9wB81bb5"
   },
   "source": [
    "- Keys can be int, float, boolean, str, tuple. (As they are immutable, which means once they are created, their value cannot be changed).\n",
    "- Keys cannot be list, set, dict.(As they are mutable, and they can be changed even after their creation. So the uniqueness of keys can be eloped)"
   ]
  },
  {
   "cell_type": "markdown",
   "id": "20ba12aa",
   "metadata": {
    "id": "eLwZmGrT1-Pg"
   },
   "source": [
    "### Considering Key Value"
   ]
  },
  {
   "cell_type": "code",
   "execution_count": 238,
   "id": "809f6573",
   "metadata": {
    "colab": {
     "base_uri": "https://localhost:8080/",
     "height": 35
    },
    "id": "-0Nx0R9U03Qn",
    "outputId": "c4718ee1-44fd-495a-f1cb-55fd3d4db722"
   },
   "outputs": [
    {
     "data": {
      "text/plain": [
       "'XYZ'"
      ]
     },
     "execution_count": 238,
     "metadata": {},
     "output_type": "execute_result"
    }
   ],
   "source": [
    "d={\"name\":\"ABCD\",\"age\":19,\"address\":\"Noida\",\"name\":\"XYZ\"}\n",
    "d['name'] # Always last key value will be considered"
   ]
  },
  {
   "cell_type": "code",
   "execution_count": 239,
   "id": "e0c74b67",
   "metadata": {
    "colab": {
     "base_uri": "https://localhost:8080/"
    },
    "id": "3DMPuuo_2ORe",
    "outputId": "87845c86-f7a2-4adc-faef-b573cc548269"
   },
   "outputs": [
    {
     "data": {
      "text/plain": [
       "{'name': 'XYZ', 'age': 19, 'address': 'Noida'}"
      ]
     },
     "execution_count": 239,
     "metadata": {},
     "output_type": "execute_result"
    }
   ],
   "source": [
    "d"
   ]
  },
  {
   "cell_type": "markdown",
   "id": "9ebec3ae",
   "metadata": {
    "id": "V29SpGjr3lQG"
   },
   "source": [
    "### Modification of Dict"
   ]
  },
  {
   "cell_type": "markdown",
   "id": "033c267e",
   "metadata": {
    "id": "lowh5hH336YP"
   },
   "source": [
    "Since dict is mutable, its value can be modified."
   ]
  },
  {
   "cell_type": "code",
   "execution_count": 240,
   "id": "dddce644",
   "metadata": {
    "colab": {
     "base_uri": "https://localhost:8080/"
    },
    "id": "mO3kqXte2say",
    "outputId": "88680824-ce1f-4999-dfb9-ed69e10b9b3e"
   },
   "outputs": [
    {
     "data": {
      "text/plain": [
       "{'name': 'XYZ', 'age': 19, 'address': 'Banglore'}"
      ]
     },
     "execution_count": 240,
     "metadata": {},
     "output_type": "execute_result"
    }
   ],
   "source": [
    "d[\"address\"]=\"Banglore\"\n",
    "d"
   ]
  },
  {
   "cell_type": "code",
   "execution_count": 241,
   "id": "62660177",
   "metadata": {
    "colab": {
     "base_uri": "https://localhost:8080/"
    },
    "id": "_yYPqyLv4G3K",
    "outputId": "08526232-0441-4d45-c0c7-8d3b50e4d131"
   },
   "outputs": [
    {
     "data": {
      "text/plain": [
       "{'name': ['Anne', 'Lucy', 'Rizz']}"
      ]
     },
     "execution_count": 241,
     "metadata": {},
     "output_type": "execute_result"
    }
   ],
   "source": [
    "# if key-value in list form\n",
    "dic={'name':[\"Anne\",\"Lucy\",\"Rizz\"]}\n",
    "# Values will be listed\n",
    "# indexing like list\n",
    "dic"
   ]
  },
  {
   "cell_type": "code",
   "execution_count": 242,
   "id": "7aaafb1d",
   "metadata": {
    "colab": {
     "base_uri": "https://localhost:8080/"
    },
    "id": "O4CveuL74eCe",
    "outputId": "bfd9bc6b-4b1c-483c-f3c9-2f222e9cb644"
   },
   "outputs": [
    {
     "data": {
      "text/plain": [
       "('Lucy', 'Anne')"
      ]
     },
     "execution_count": 242,
     "metadata": {},
     "output_type": "execute_result"
    }
   ],
   "source": [
    "dic['name'][1],dic['name'][0]"
   ]
  },
  {
   "cell_type": "markdown",
   "id": "10c27648",
   "metadata": {
    "id": "UT9XgyKf4sCz"
   },
   "source": [
    "### Adding Key value"
   ]
  },
  {
   "cell_type": "code",
   "execution_count": 243,
   "id": "2ca6bf65",
   "metadata": {
    "colab": {
     "base_uri": "https://localhost:8080/"
    },
    "id": "fLyCuSzt4low",
    "outputId": "efcff0fa-b127-4f9a-ec2a-e47f1393e86e"
   },
   "outputs": [
    {
     "data": {
      "text/plain": [
       "{'name': ['Anne', 'Lucy', 'Rizz'], 'address': ['USA', 'California', 'Seoul']}"
      ]
     },
     "execution_count": 243,
     "metadata": {},
     "output_type": "execute_result"
    }
   ],
   "source": [
    "dic[\"address\"]=[\"USA\",\"California\",\"Seoul\"]\n",
    "dic"
   ]
  },
  {
   "cell_type": "markdown",
   "id": "b9831d36",
   "metadata": {
    "id": "zDQYS7_L47wB"
   },
   "source": [
    "### Deleting Key Value"
   ]
  },
  {
   "cell_type": "code",
   "execution_count": 244,
   "id": "126646a9",
   "metadata": {
    "colab": {
     "base_uri": "https://localhost:8080/"
    },
    "id": "ULalN1oX45Qa",
    "outputId": "5dc1fdf1-1603-4bbc-b673-0099211f6a0e"
   },
   "outputs": [
    {
     "data": {
      "text/plain": [
       "{'name': ['Anne', 'Lucy', 'Rizz']}"
      ]
     },
     "execution_count": 244,
     "metadata": {},
     "output_type": "execute_result"
    }
   ],
   "source": [
    "del dic['address']\n",
    "dic"
   ]
  },
  {
   "cell_type": "markdown",
   "id": "a2c37094",
   "metadata": {
    "id": "c4Brh3Fy5GTQ"
   },
   "source": [
    "### Deleting whole dict"
   ]
  },
  {
   "cell_type": "code",
   "execution_count": 245,
   "id": "6f7a3f31",
   "metadata": {
    "id": "F012y36u5UEV"
   },
   "outputs": [],
   "source": [
    "del dic"
   ]
  },
  {
   "cell_type": "code",
   "execution_count": 246,
   "id": "65bd47d4",
   "metadata": {
    "colab": {
     "base_uri": "https://localhost:8080/"
    },
    "id": "cqgqcRq15lFv",
    "outputId": "64600cce-46b5-4762-8436-ea2d5e4df451"
   },
   "outputs": [
    {
     "data": {
      "text/plain": [
       "{'name': 'XYZ', 'age': 19, 'address': 'Banglore'}"
      ]
     },
     "execution_count": 246,
     "metadata": {},
     "output_type": "execute_result"
    }
   ],
   "source": [
    "# clearing dict\n",
    "d"
   ]
  },
  {
   "cell_type": "code",
   "execution_count": 247,
   "id": "52643d9f",
   "metadata": {
    "colab": {
     "base_uri": "https://localhost:8080/"
    },
    "id": "MOZIQqyH5qlg",
    "outputId": "8aec2f61-be1b-4c10-daca-1850fadba9b8"
   },
   "outputs": [
    {
     "data": {
      "text/plain": [
       "{}"
      ]
     },
     "execution_count": 247,
     "metadata": {},
     "output_type": "execute_result"
    }
   ],
   "source": [
    "d.clear()\n",
    "d"
   ]
  },
  {
   "cell_type": "code",
   "execution_count": 248,
   "id": "fe85dd49",
   "metadata": {
    "colab": {
     "base_uri": "https://localhost:8080/"
    },
    "id": "9C46lVtF5spA",
    "outputId": "60769edb-c875-4d1f-eac6-10f14016bddd"
   },
   "outputs": [
    {
     "data": {
      "text/plain": [
       "3"
      ]
     },
     "execution_count": 248,
     "metadata": {},
     "output_type": "execute_result"
    }
   ],
   "source": [
    "# Length of dict\n",
    "d={\"name\":\"ABCD\",\"age\":19,\"address\":\"Noida\",\"name\":\"XYZ\"}\n",
    "len(d) #last name key will only be considered"
   ]
  },
  {
   "cell_type": "markdown",
   "id": "035e9045",
   "metadata": {
    "id": "XeMbp1D375pj"
   },
   "source": [
    "### Copying the dict"
   ]
  },
  {
   "cell_type": "code",
   "execution_count": 249,
   "id": "125aeb87",
   "metadata": {
    "colab": {
     "base_uri": "https://localhost:8080/"
    },
    "id": "DRoQLa1B56fR",
    "outputId": "e770b912-6a98-4460-fe40-8fb16044714d"
   },
   "outputs": [
    {
     "data": {
      "text/plain": [
       "{'name': 'XYZ', 'age': 19, 'address': 'Noida'}"
      ]
     },
     "execution_count": 249,
     "metadata": {},
     "output_type": "execute_result"
    }
   ],
   "source": [
    "d1=d.copy()\n",
    "d1"
   ]
  },
  {
   "cell_type": "code",
   "execution_count": 250,
   "id": "a12a7a43",
   "metadata": {
    "id": "uXd1dlQ07_q0"
   },
   "outputs": [],
   "source": [
    "del d1"
   ]
  },
  {
   "cell_type": "code",
   "execution_count": 251,
   "id": "d603c4cf",
   "metadata": {
    "colab": {
     "base_uri": "https://localhost:8080/"
    },
    "id": "8kdfff448CAx",
    "outputId": "8346af4b-99a7-408f-e37a-f96e711b2cfa"
   },
   "outputs": [
    {
     "data": {
      "text/plain": [
       "{'name': 'XYZ', 'age': 19, 'address': 'Noida'}"
      ]
     },
     "execution_count": 251,
     "metadata": {},
     "output_type": "execute_result"
    }
   ],
   "source": [
    "d #still give output << only copy data deleted"
   ]
  },
  {
   "cell_type": "markdown",
   "id": "b2126aa3",
   "metadata": {
    "id": "-wf_38358K_O"
   },
   "source": [
    "### Removing key value"
   ]
  },
  {
   "cell_type": "code",
   "execution_count": 252,
   "id": "10fa868d",
   "metadata": {
    "colab": {
     "base_uri": "https://localhost:8080/"
    },
    "id": "eESfHXCc8C4O",
    "outputId": "624da186-c5f4-4065-ce66-e3ef9d029d47"
   },
   "outputs": [
    {
     "data": {
      "text/plain": [
       "19"
      ]
     },
     "execution_count": 252,
     "metadata": {},
     "output_type": "execute_result"
    }
   ],
   "source": [
    "#d.pop(\"key\")\n",
    "d.pop(\"age\")"
   ]
  },
  {
   "cell_type": "code",
   "execution_count": 253,
   "id": "76ff12a0",
   "metadata": {
    "colab": {
     "base_uri": "https://localhost:8080/"
    },
    "id": "lTNjOMlQ8QuK",
    "outputId": "2cd159f0-0613-46b9-a446-8b44bfff8af1"
   },
   "outputs": [
    {
     "data": {
      "text/plain": [
       "{'name': 'XYZ', 'address': 'Noida'}"
      ]
     },
     "execution_count": 253,
     "metadata": {},
     "output_type": "execute_result"
    }
   ],
   "source": [
    "d"
   ]
  },
  {
   "cell_type": "markdown",
   "id": "2cfe2a19",
   "metadata": {
    "id": "2EXsA53S8azu"
   },
   "source": [
    "### Adding dict to another dict"
   ]
  },
  {
   "cell_type": "code",
   "execution_count": 254,
   "id": "b7de8ff2",
   "metadata": {
    "colab": {
     "base_uri": "https://localhost:8080/"
    },
    "id": "c_R8NOvg8YUe",
    "outputId": "57903345-d97c-4a6b-de21-54bda2acca31"
   },
   "outputs": [
    {
     "data": {
      "text/plain": [
       "{'abc': 12, 'def': 45, 2.3: 'zxc', True: 34, 'asd': 56}"
      ]
     },
     "execution_count": 254,
     "metadata": {},
     "output_type": "execute_result"
    }
   ],
   "source": [
    "d1={\"abc\":12,\"def\":45,2.3:\"zxc\"}\n",
    "d2={True:34,\"asd\":56}\n",
    "d1.update(d2)\n",
    "d1"
   ]
  },
  {
   "cell_type": "code",
   "execution_count": 255,
   "id": "d2e9b239",
   "metadata": {
    "colab": {
     "base_uri": "https://localhost:8080/"
    },
    "id": "-rnTT0Oz-e3q",
    "outputId": "cfba48ba-3c3a-45b0-aa30-e9094f2db206"
   },
   "outputs": [
    {
     "data": {
      "text/plain": [
       "45"
      ]
     },
     "execution_count": 255,
     "metadata": {},
     "output_type": "execute_result"
    }
   ],
   "source": [
    "d1.get(\"def\")"
   ]
  },
  {
   "cell_type": "markdown",
   "id": "2780aa04",
   "metadata": {
    "id": "N0udTncQ_kSe"
   },
   "source": [
    "### fromkeys"
   ]
  },
  {
   "cell_type": "code",
   "execution_count": 256,
   "id": "6b305bf0",
   "metadata": {
    "colab": {
     "base_uri": "https://localhost:8080/"
    },
    "id": "VLqaRXae_e1M",
    "outputId": "d38aaba1-25e2-4ff2-f6a9-55c0215037b9"
   },
   "outputs": [
    {
     "data": {
      "text/plain": [
       "{1: ('a', 'b', 'c'), 2: ('a', 'b', 'c'), 3: ('a', 'b', 'c')}"
      ]
     },
     "execution_count": 256,
     "metadata": {},
     "output_type": "execute_result"
    }
   ],
   "source": [
    "d1.fromkeys((1,2,3),(\"a\",\"b\",\"c\"))"
   ]
  },
  {
   "cell_type": "markdown",
   "id": "44dca226",
   "metadata": {
    "id": "mQHdn24nzJ4v"
   },
   "source": [
    "### Dictionary Comprehension"
   ]
  },
  {
   "cell_type": "code",
   "execution_count": 257,
   "id": "162947df",
   "metadata": {
    "id": "xw19vkNBA67h"
   },
   "outputs": [],
   "source": [
    "# ZIP Function\n",
    "students=['Anne','Ken','Marie']\n",
    "marks=['7.8','6.9','8.9']"
   ]
  },
  {
   "cell_type": "code",
   "execution_count": 258,
   "id": "b7c8f956",
   "metadata": {
    "colab": {
     "base_uri": "https://localhost:8080/"
    },
    "id": "LFpqChX6zo8W",
    "outputId": "1c394856-0914-47d4-8f4b-01bf98cf6886"
   },
   "outputs": [
    {
     "name": "stdout",
     "output_type": "stream",
     "text": [
      "('Anne', '7.8')\n",
      "('Ken', '6.9')\n",
      "('Marie', '8.9')\n"
     ]
    }
   ],
   "source": [
    "for i in zip(students, marks):\n",
    "    print(i)"
   ]
  },
  {
   "cell_type": "code",
   "execution_count": 259,
   "id": "26972ef2",
   "metadata": {
    "colab": {
     "base_uri": "https://localhost:8080/"
    },
    "id": "EY-PiW70z1mw",
    "outputId": "9fff1b32-5527-4478-cdff-2ed247deebb5"
   },
   "outputs": [
    {
     "data": {
      "text/plain": [
       "{'Anne': '7.8', 'Ken': '6.9', 'Marie': '8.9'}"
      ]
     },
     "execution_count": 259,
     "metadata": {},
     "output_type": "execute_result"
    }
   ],
   "source": [
    "#Storing in Key value\n",
    "students=['Anne','Ken','Marie']\n",
    "marks=['7.8','6.9','8.9']\n",
    "\n",
    "students_marks={}\n",
    "for students, marks in zip(students, marks):\n",
    "    students_marks[students]=marks\n",
    "students_marks"
   ]
  },
  {
   "cell_type": "code",
   "execution_count": 260,
   "id": "66cda505",
   "metadata": {
    "colab": {
     "base_uri": "https://localhost:8080/"
    },
    "id": "QmbzKSub0dUv",
    "outputId": "4154c94f-31aa-4669-da10-0bb2e08da28a"
   },
   "outputs": [
    {
     "data": {
      "text/plain": [
       "{'Anne': '7.8', 'Ken': '6.9', 'Marie': '8.9'}"
      ]
     },
     "execution_count": 260,
     "metadata": {},
     "output_type": "execute_result"
    }
   ],
   "source": [
    "#using dictionary comprehension\n",
    "students=['Anne','Ken','Marie']\n",
    "marks=['7.8','6.9','8.9']\n",
    "\n",
    "{student : mark for student, mark in zip(students, marks)}"
   ]
  },
  {
   "cell_type": "code",
   "execution_count": 261,
   "id": "bb4a5b97",
   "metadata": {
    "colab": {
     "base_uri": "https://localhost:8080/"
    },
    "id": "jx1O3eF_2GNa",
    "outputId": "423b913d-66d3-4687-ccfc-ed5491de353a"
   },
   "outputs": [
    {
     "data": {
      "text/plain": [
       "{'BHU90': 'lkolko', 'AKJ09': 'bhubhu', 'YTF54': 'ytfytf', 'LKO77': 'akjakj'}"
      ]
     },
     "execution_count": 261,
     "metadata": {},
     "output_type": "execute_result"
    }
   ],
   "source": [
    "# use_case\n",
    "user_id={'AKJ09','BHU90','LKO77','YTF54'}\n",
    "user_password={'akjakj','bhubhu','lkolko','ytfytf'}\n",
    "\n",
    "{user_id : user_password for user_id, user_password in zip(user_id, user_password)}"
   ]
  },
  {
   "cell_type": "code",
   "execution_count": 262,
   "id": "05abc3f4",
   "metadata": {
    "colab": {
     "base_uri": "https://localhost:8080/"
    },
    "id": "HnRiBlEW3dSi",
    "outputId": "f2debaad-9426-4b18-d86f-0da917707268"
   },
   "outputs": [
    {
     "data": {
      "text/plain": [
       "dict_items([('abc', 12), ('def', 45), (2.3, 'zxc'), (True, 34), ('asd', 56)])"
      ]
     },
     "execution_count": 262,
     "metadata": {},
     "output_type": "execute_result"
    }
   ],
   "source": [
    "a={'abc': 12, 'def': 45, 2.3: 'zxc', True: 34, 'asd': 56}\n",
    "a.items()"
   ]
  },
  {
   "cell_type": "code",
   "execution_count": 263,
   "id": "82b65d0e",
   "metadata": {
    "colab": {
     "base_uri": "https://localhost:8080/"
    },
    "id": "6sagSWXZ5Wra",
    "outputId": "36564e52-e1fe-42fc-941d-040b75009fff"
   },
   "outputs": [
    {
     "data": {
      "text/plain": [
       "dict_keys(['abc', 'def', 2.3, True, 'asd'])"
      ]
     },
     "execution_count": 263,
     "metadata": {},
     "output_type": "execute_result"
    }
   ],
   "source": [
    "a.keys()"
   ]
  },
  {
   "cell_type": "code",
   "execution_count": 264,
   "id": "bd902831",
   "metadata": {
    "colab": {
     "base_uri": "https://localhost:8080/"
    },
    "id": "sCg_VKZ75bNk",
    "outputId": "3bc274e6-57e0-418a-ca27-c4b009b607b5"
   },
   "outputs": [
    {
     "data": {
      "text/plain": [
       "dict_values([12, 45, 'zxc', 34, 56])"
      ]
     },
     "execution_count": 264,
     "metadata": {},
     "output_type": "execute_result"
    }
   ],
   "source": [
    "a.values()"
   ]
  },
  {
   "cell_type": "markdown",
   "id": "a8b23a51",
   "metadata": {
    "id": "58neXxnh4nMV"
   },
   "source": [
    "### Iteration"
   ]
  },
  {
   "cell_type": "code",
   "execution_count": 265,
   "id": "2cc3f4dd",
   "metadata": {
    "colab": {
     "base_uri": "https://localhost:8080/"
    },
    "id": "H1bvOdgI4bEt",
    "outputId": "9df9bef6-7724-4d74-bd0b-ece27e66fb56"
   },
   "outputs": [
    {
     "name": "stdout",
     "output_type": "stream",
     "text": [
      "abc\n",
      "def\n",
      "2.3\n",
      "True\n",
      "asd\n"
     ]
    }
   ],
   "source": [
    "# For iteration on keys only\n",
    "a={'abc': 12, 'def': 45, 2.3: 'zxc', True: 34, 'asd': 56}\n",
    "for key in a.keys():\n",
    "    print(key)"
   ]
  },
  {
   "cell_type": "code",
   "execution_count": 266,
   "id": "80819319",
   "metadata": {
    "colab": {
     "base_uri": "https://localhost:8080/"
    },
    "id": "VnSU7Fjk4uwc",
    "outputId": "5853e440-41f7-4973-bea7-08029c2e1940"
   },
   "outputs": [
    {
     "name": "stdout",
     "output_type": "stream",
     "text": [
      "12\n",
      "45\n",
      "zxc\n",
      "34\n",
      "56\n"
     ]
    }
   ],
   "source": [
    "# for iteration on Value\n",
    "for value in a.values():\n",
    "    print(value)"
   ]
  },
  {
   "cell_type": "code",
   "execution_count": 267,
   "id": "83ee0585",
   "metadata": {
    "colab": {
     "base_uri": "https://localhost:8080/"
    },
    "id": "p355v3dI5Tm2",
    "outputId": "d27bb06b-b9a8-434b-d212-b0918db6bea4"
   },
   "outputs": [
    {
     "name": "stdout",
     "output_type": "stream",
     "text": [
      "abc 12\n",
      "def 45\n",
      "2.3 zxc\n",
      "True 34\n",
      "asd 56\n"
     ]
    }
   ],
   "source": [
    "# For iteration on keys and values both\n",
    "for key, value in a.items():\n",
    "    print(key, value)"
   ]
  }
 ],
 "metadata": {
  "kernelspec": {
   "display_name": "Python 3",
   "language": "python",
   "name": "python3"
  },
  "language_info": {
   "codemirror_mode": {
    "name": "ipython",
    "version": 3
   },
   "file_extension": ".py",
   "mimetype": "text/x-python",
   "name": "python",
   "nbconvert_exporter": "python",
   "pygments_lexer": "ipython3",
   "version": "3.13.5"
  }
 },
 "nbformat": 4,
 "nbformat_minor": 5
}
