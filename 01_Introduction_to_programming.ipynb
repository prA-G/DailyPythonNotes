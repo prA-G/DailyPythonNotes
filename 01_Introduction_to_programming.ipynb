{
 "cells": [
  {
   "cell_type": "markdown",
   "id": "6b38c1be",
   "metadata": {
    "id": "o2xLAkzCQjdP"
   },
   "source": [
    "# Introduction to programming"
   ]
  },
  {
   "cell_type": "markdown",
   "id": "bcfb0d1f",
   "metadata": {
    "id": "fK9EnAkAREdr"
   },
   "source": [
    "Pragramming Language is a formal language which is used for creating instructions for computer or machine to follow.\n",
    "It is set of rules and symbols that define the process of writing computers programme.\n",
    "It is sets of special rules or symbols that you use to give instructions to a computer.\n"
   ]
  },
  {
   "cell_type": "markdown",
   "id": "72848c61",
   "metadata": {
    "id": "EYLj418xTsLP"
   },
   "source": [
    "## **Why do we study programming language?**\n",
    "1. Interaction with machine/computer\n",
    "2. Software programmes- Websites,applications,etc.\n",
    "3. Embedded devices\n",
    "4. Robotics"
   ]
  },
  {
   "cell_type": "markdown",
   "id": "2ceaca73",
   "metadata": {
    "id": "LN_3LD2VUq9N"
   },
   "source": [
    "## **How to learn programming language?**\n",
    "1. Basics\n",
    "2. Syntax\n",
    "3. Data types\n",
    "4. Variables\n",
    "5. Operators\n",
    "6. Statements\n",
    "7. Functions\n",
    "8. Modules"
   ]
  },
  {
   "cell_type": "markdown",
   "id": "365738df",
   "metadata": {
    "id": "Z0uUBpqmVSon"
   },
   "source": [
    "## Why Python?\n",
    "1. Widely used in industry on worldwide level\n",
    "2. Used in Data industry---- R<<< Python\n",
    "3. A lot of libraries.\n",
    "4. Frontend, Backend Data analysis\n",
    "5. Automation\n",
    "6. Simple & Dynamically types << No need to declare variable type like in C++\n",
    "7. Robust << Handles the error very effectively\n",
    "8. Supports multiple programming paradigms ( Procedure Oriented + Object Oriented) << Combine data and functionality.\n",
    "9. Compiler as well as interpretor << Compilation part is hidden from programmer.\n",
    "10. Cross plateform << used on Windows, MacOs, Linux , etc.\n",
    "11. Extensible << we can call C++, Java using python itself.\n",
    "A. Ease of learning\n",
    "B. Versatility << Web Development, ML, etc.\n",
    "C. Active Community\n"
   ]
  },
  {
   "cell_type": "markdown",
   "id": "3d4be275",
   "metadata": {
    "id": "ZXUrw1YIVqLc"
   },
   "source": [
    "Code<< Instructions provided to machine.\n",
    "IDE<< Integrated Development Environment Software<< we need platform (Environment) to execute codes<< VS Code,PyCharm,GoogleColab, etc.\n",
    "Computer(Python) will execute code directly using IDE."
   ]
  },
  {
   "cell_type": "markdown",
   "id": "4dcaec00",
   "metadata": {
    "id": "bCRicWJqV0xn"
   },
   "source": [
    "##Python\n",
    "A programming language developed by Gycid Van Rossum in 1991."
   ]
  },
  {
   "cell_type": "markdown",
   "id": "ee1fa261",
   "metadata": {
    "id": "SBD_0sgyWbVm"
   },
   "source": [
    "##Variables\n",
    "are also called Identifiers<< placeholder where we keep variety of data by which we can use to write logic.\n",
    "\"Variables are reserved memory space for storing values.\"\n",
    "1. Integer<< (int) << 2\n",
    "2. Decimal No.<< (float) << 2.8\n",
    "3. Characters << (string) << \"apple\"\n",
    "4. Boolean Value << (bool) << True/False\n",
    "5. Nothing << (none) << No value to show\n",
    "\n",
    "\n",
    "\n"
   ]
  },
  {
   "cell_type": "code",
   "execution_count": null,
   "id": "557c2307",
   "metadata": {
    "colab": {
     "base_uri": "https://localhost:8080/"
    },
    "id": "XS4MA5KHVjs2",
    "outputId": "752cd7c0-027e-4c97-c967-6c6a4d918ae9"
   },
   "outputs": [
    {
     "data": {
      "text/plain": [
       "3"
      ]
     },
     "execution_count": 8,
     "metadata": {},
     "output_type": "execute_result"
    }
   ],
   "source": [
    "b=3 #Address for reserved memory\n",
    "b"
   ]
  },
  {
   "cell_type": "markdown",
   "id": "73850059",
   "metadata": {
    "id": "ZJFKgkRVYcsc"
   },
   "source": [
    "## Data types"
   ]
  },
  {
   "cell_type": "code",
   "execution_count": null,
   "id": "d747e9a5",
   "metadata": {
    "colab": {
     "base_uri": "https://localhost:8080/"
    },
    "id": "-0P2Mb_LRKvZ",
    "outputId": "1932b966-8cd4-4d4e-f642-6b984aa2c553"
   },
   "outputs": [
    {
     "data": {
      "text/plain": [
       "4"
      ]
     },
     "execution_count": 9,
     "metadata": {},
     "output_type": "execute_result"
    }
   ],
   "source": [
    "a=4\n",
    "a"
   ]
  },
  {
   "cell_type": "code",
   "execution_count": null,
   "id": "7d157fe2",
   "metadata": {
    "colab": {
     "base_uri": "https://localhost:8080/"
    },
    "id": "sCDudd7PYip2",
    "outputId": "46af6920-ce85-478b-db07-483da933b883"
   },
   "outputs": [
    {
     "data": {
      "text/plain": [
       "int"
      ]
     },
     "execution_count": 10,
     "metadata": {},
     "output_type": "execute_result"
    }
   ],
   "source": [
    "type(a)"
   ]
  },
  {
   "cell_type": "code",
   "execution_count": null,
   "id": "8d92ddbf",
   "metadata": {
    "colab": {
     "base_uri": "https://localhost:8080/"
    },
    "id": "6KfJUmUHYj4R",
    "outputId": "42f188c6-2d24-4c31-c5df-d346f0cc535b"
   },
   "outputs": [
    {
     "data": {
      "text/plain": [
       "4.5"
      ]
     },
     "execution_count": 11,
     "metadata": {},
     "output_type": "execute_result"
    }
   ],
   "source": [
    "b=4.5\n",
    "b"
   ]
  },
  {
   "cell_type": "code",
   "execution_count": null,
   "id": "bed03ea6",
   "metadata": {
    "colab": {
     "base_uri": "https://localhost:8080/"
    },
    "id": "hVum8_VjYtPT",
    "outputId": "41838302-fea1-49f7-991b-3fe1c44532e3"
   },
   "outputs": [
    {
     "data": {
      "text/plain": [
       "float"
      ]
     },
     "execution_count": 12,
     "metadata": {},
     "output_type": "execute_result"
    }
   ],
   "source": [
    "type(b)"
   ]
  },
  {
   "cell_type": "code",
   "execution_count": null,
   "id": "4137972b",
   "metadata": {
    "colab": {
     "base_uri": "https://localhost:8080/",
     "height": 35
    },
    "id": "y1Ejv6XxYuc4",
    "outputId": "3a1f3fe0-f842-4bfa-a195-480b387c028d"
   },
   "outputs": [
    {
     "data": {
      "application/vnd.google.colaboratory.intrinsic+json": {
       "type": "string"
      },
      "text/plain": [
       "'Prag'"
      ]
     },
     "execution_count": 13,
     "metadata": {},
     "output_type": "execute_result"
    }
   ],
   "source": [
    "c=\"Prag\"\n",
    "c"
   ]
  },
  {
   "cell_type": "code",
   "execution_count": null,
   "id": "15507c1d",
   "metadata": {
    "colab": {
     "base_uri": "https://localhost:8080/"
    },
    "id": "xdQGHAa_Y0su",
    "outputId": "663d458c-a0f4-49dc-b45c-58fa16d2d557"
   },
   "outputs": [
    {
     "data": {
      "text/plain": [
       "str"
      ]
     },
     "execution_count": 14,
     "metadata": {},
     "output_type": "execute_result"
    }
   ],
   "source": [
    "type(c)"
   ]
  },
  {
   "cell_type": "code",
   "execution_count": null,
   "id": "9d8e8b7f",
   "metadata": {
    "colab": {
     "base_uri": "https://localhost:8080/"
    },
    "id": "FVe_ZsatY1ty",
    "outputId": "b0a80912-af98-4a2a-c802-2a322dc21dd4"
   },
   "outputs": [
    {
     "data": {
      "text/plain": [
       "True"
      ]
     },
     "execution_count": 15,
     "metadata": {},
     "output_type": "execute_result"
    }
   ],
   "source": [
    "d=True\n",
    "d"
   ]
  },
  {
   "cell_type": "code",
   "execution_count": null,
   "id": "824b9802",
   "metadata": {
    "colab": {
     "base_uri": "https://localhost:8080/"
    },
    "id": "gPWUrwmMY4JP",
    "outputId": "a375a60c-828e-495b-806e-d1d9d7ee9517"
   },
   "outputs": [
    {
     "data": {
      "text/plain": [
       "bool"
      ]
     },
     "execution_count": 16,
     "metadata": {},
     "output_type": "execute_result"
    }
   ],
   "source": [
    "type(d)"
   ]
  },
  {
   "cell_type": "code",
   "execution_count": null,
   "id": "d05d4d55",
   "metadata": {
    "colab": {
     "base_uri": "https://localhost:8080/"
    },
    "id": "b-tr8DWBY6Lz",
    "outputId": "01e93cae-ea68-4bbe-c857-4651041360ec"
   },
   "outputs": [
    {
     "data": {
      "text/plain": [
       "1"
      ]
     },
     "execution_count": 17,
     "metadata": {},
     "output_type": "execute_result"
    }
   ],
   "source": [
    "True-False\n"
   ]
  },
  {
   "cell_type": "code",
   "execution_count": null,
   "id": "32b406ae",
   "metadata": {
    "colab": {
     "base_uri": "https://localhost:8080/"
    },
    "id": "RZKCAhQxZPZO",
    "outputId": "dd588f9a-033b-4389-868f-dfe9b9752dc1"
   },
   "outputs": [
    {
     "data": {
      "text/plain": [
       "0"
      ]
     },
     "execution_count": 18,
     "metadata": {},
     "output_type": "execute_result"
    }
   ],
   "source": [
    "True*False"
   ]
  },
  {
   "cell_type": "code",
   "execution_count": null,
   "id": "81a559df",
   "metadata": {
    "id": "CsprOXGHZr_9"
   },
   "outputs": [],
   "source": [
    "f=None\n",
    "f"
   ]
  },
  {
   "cell_type": "code",
   "execution_count": null,
   "id": "8ca8c6d2",
   "metadata": {
    "colab": {
     "base_uri": "https://localhost:8080/"
    },
    "id": "L-mhbyAGZuzB",
    "outputId": "bc1c8fe3-78eb-4a84-c742-3f98562c9e1b"
   },
   "outputs": [
    {
     "data": {
      "text/plain": [
       "NoneType"
      ]
     },
     "execution_count": 20,
     "metadata": {},
     "output_type": "execute_result"
    }
   ],
   "source": [
    "type(f)"
   ]
  },
  {
   "cell_type": "code",
   "execution_count": null,
   "id": "f656dd6d",
   "metadata": {
    "colab": {
     "base_uri": "https://localhost:8080/"
    },
    "id": "ifqPWYKpdM7z",
    "outputId": "690e156d-3ffb-4b76-8736-fe04aa9c692b"
   },
   "outputs": [
    {
     "data": {
      "text/plain": [
       "(5+6j)"
      ]
     },
     "execution_count": 21,
     "metadata": {},
     "output_type": "execute_result"
    }
   ],
   "source": [
    "com=5+6j\n",
    "com"
   ]
  },
  {
   "cell_type": "code",
   "execution_count": null,
   "id": "49c029fd",
   "metadata": {
    "colab": {
     "base_uri": "https://localhost:8080/"
    },
    "id": "oBGpCc-wdPnN",
    "outputId": "d864dfc4-42f3-450c-b5bc-3d3922aca63b"
   },
   "outputs": [
    {
     "data": {
      "text/plain": [
       "complex"
      ]
     },
     "execution_count": 22,
     "metadata": {},
     "output_type": "execute_result"
    }
   ],
   "source": [
    "type(com)"
   ]
  },
  {
   "cell_type": "code",
   "execution_count": null,
   "id": "eb81cdd2",
   "metadata": {
    "colab": {
     "base_uri": "https://localhost:8080/"
    },
    "id": "zMyPjs3EdUBf",
    "outputId": "f3a8c749-d857-427c-ba89-2c226b567eac"
   },
   "outputs": [
    {
     "data": {
      "text/plain": [
       "5.0"
      ]
     },
     "execution_count": 23,
     "metadata": {},
     "output_type": "execute_result"
    }
   ],
   "source": [
    "com.real"
   ]
  },
  {
   "cell_type": "code",
   "execution_count": null,
   "id": "f962efa4",
   "metadata": {
    "colab": {
     "base_uri": "https://localhost:8080/"
    },
    "id": "Ztbanl_qekwy",
    "outputId": "6217d20d-e396-47c5-c841-89d42ff222c9"
   },
   "outputs": [
    {
     "data": {
      "text/plain": [
       "6.0"
      ]
     },
     "execution_count": 24,
     "metadata": {},
     "output_type": "execute_result"
    }
   ],
   "source": [
    "com.imag"
   ]
  },
  {
   "cell_type": "markdown",
   "id": "827bced5",
   "metadata": {
    "id": "nBTr3vmbfFu6"
   },
   "source": [
    "## Rules for defining a variable\n",
    "1. Start with letter or underscore\n",
    "2. Never starts with number\n",
    "3. Keywords can never be a variable\n",
    "4. variables are case sensitive"
   ]
  },
  {
   "cell_type": "code",
   "execution_count": null,
   "id": "ab95c6d1",
   "metadata": {
    "colab": {
     "base_uri": "https://localhost:8080/",
     "height": 35
    },
    "id": "CSCYvhTxevUi",
    "outputId": "942bb6c6-876f-43f9-ef3e-9364e87c8ce9"
   },
   "outputs": [
    {
     "data": {
      "application/vnd.google.colaboratory.intrinsic+json": {
       "type": "string"
      },
      "text/plain": [
       "'Prag'"
      ]
     },
     "execution_count": 25,
     "metadata": {},
     "output_type": "execute_result"
    }
   ],
   "source": [
    "name=\"Prag\"\n",
    "name"
   ]
  },
  {
   "cell_type": "code",
   "execution_count": null,
   "id": "7351d124",
   "metadata": {
    "colab": {
     "base_uri": "https://localhost:8080/",
     "height": 35
    },
    "id": "DnrigmvKg5xY",
    "outputId": "2526b8ee-3fbd-454b-d795-d85627e797ef"
   },
   "outputs": [
    {
     "data": {
      "application/vnd.google.colaboratory.intrinsic+json": {
       "type": "string"
      },
      "text/plain": [
       "'Anu'"
      ]
     },
     "execution_count": 26,
     "metadata": {},
     "output_type": "execute_result"
    }
   ],
   "source": [
    "_name=\"Anu\"\n",
    "_name"
   ]
  },
  {
   "cell_type": "markdown",
   "id": "d23e1ec0",
   "metadata": {
    "id": "lJFiCfDihFSj"
   },
   "source": [
    "## Keywords\n",
    "Predefined words that holds a special meaning and specific purpose in programming language.\n",
    "It is fixed and never changed."
   ]
  },
  {
   "cell_type": "code",
   "execution_count": null,
   "id": "2cc7ab4e",
   "metadata": {
    "colab": {
     "base_uri": "https://localhost:8080/"
    },
    "id": "TF02_kTfg8Go",
    "outputId": "ae2c300d-b622-4e75-d69f-aff71dbec327"
   },
   "outputs": [
    {
     "name": "stdout",
     "output_type": "stream",
     "text": [
      "\n",
      "Here is a list of the Python keywords.  Enter any keyword to get more help.\n",
      "\n",
      "False               class               from                or\n",
      "None                continue            global              pass\n",
      "True                def                 if                  raise\n",
      "and                 del                 import              return\n",
      "as                  elif                in                  try\n",
      "assert              else                is                  while\n",
      "async               except              lambda              with\n",
      "await               finally             nonlocal            yield\n",
      "break               for                 not                 \n",
      "\n"
     ]
    }
   ],
   "source": [
    "help('keywords')"
   ]
  },
  {
   "cell_type": "code",
   "execution_count": null,
   "id": "e4d00c0e",
   "metadata": {
    "colab": {
     "base_uri": "https://localhost:8080/"
    },
    "id": "ToTM_pwGh5xd",
    "outputId": "369eb850-8207-4ee4-8daf-78bb30985b4b"
   },
   "outputs": [
    {
     "name": "stdout",
     "output_type": "stream",
     "text": [
      "greater\n"
     ]
    }
   ],
   "source": [
    "if 3>2:\n",
    "  print(\"greater\") #indentation is the specific way to write a code."
   ]
  },
  {
   "cell_type": "markdown",
   "id": "af87316b",
   "metadata": {
    "id": "xpd0thuQj8an"
   },
   "source": [
    "## Statements\n",
    "Statements can be of many types\n",
    "1. Expression statements\n",
    "2. Assignment statements\n",
    "3. Condition statements\n",
    "4. Loop Statements"
   ]
  },
  {
   "cell_type": "code",
   "execution_count": null,
   "id": "cc2e8fed",
   "metadata": {
    "colab": {
     "base_uri": "https://localhost:8080/"
    },
    "id": "mUOef3Yhjgyy",
    "outputId": "13b657d4-eb6c-4596-9a98-c47da6421b77"
   },
   "outputs": [
    {
     "data": {
      "text/plain": [
       "13"
      ]
     },
     "execution_count": 29,
     "metadata": {},
     "output_type": "execute_result"
    }
   ],
   "source": [
    "#Assignment Statements << Assigning any value to a vaiable\n",
    "a=5\n",
    "b=8\n",
    "a+b"
   ]
  },
  {
   "cell_type": "code",
   "execution_count": null,
   "id": "087dcb93",
   "metadata": {
    "id": "AGIgA2gpkiht"
   },
   "outputs": [],
   "source": [
    "#Expression Statement << using calculation"
   ]
  },
  {
   "cell_type": "code",
   "execution_count": null,
   "id": "4a05d7e0",
   "metadata": {
    "id": "OCItRxZ4nNtI"
   },
   "outputs": [],
   "source": [
    "#Input operator << If you want some user to give value of variable"
   ]
  },
  {
   "cell_type": "code",
   "execution_count": null,
   "id": "54d60608",
   "metadata": {
    "colab": {
     "base_uri": "https://localhost:8080/"
    },
    "id": "Vqxn-ZEnnXhO",
    "outputId": "f816f6cf-07a1-4883-da91-fb31ecb8f4c9"
   },
   "outputs": [
    {
     "name": "stdout",
     "output_type": "stream",
     "text": [
      "Enter your name prag\n"
     ]
    }
   ],
   "source": [
    "name=input(\"Enter your name \")"
   ]
  },
  {
   "cell_type": "code",
   "execution_count": null,
   "id": "73f973e6",
   "metadata": {
    "colab": {
     "base_uri": "https://localhost:8080/"
    },
    "id": "OsGvSOmVncrN",
    "outputId": "a551f823-400c-47c3-e875-5266069762dd"
   },
   "outputs": [
    {
     "name": "stdout",
     "output_type": "stream",
     "text": [
      "Enter your age 21\n"
     ]
    }
   ],
   "source": [
    "age=int(input(\"Enter your age \"))"
   ]
  },
  {
   "cell_type": "markdown",
   "id": "7a31c28f",
   "metadata": {
    "id": "b-Ve5YfAn35I"
   },
   "source": [
    "##Typecasting\n",
    "to change the type of data/variable"
   ]
  },
  {
   "cell_type": "code",
   "execution_count": null,
   "id": "03b2584f",
   "metadata": {
    "colab": {
     "base_uri": "https://localhost:8080/"
    },
    "id": "ekyjRLYtnsDA",
    "outputId": "0db0bf76-6e71-4ec4-eef7-0334f6dac17c"
   },
   "outputs": [
    {
     "data": {
      "text/plain": [
       "str"
      ]
     },
     "execution_count": 34,
     "metadata": {},
     "output_type": "execute_result"
    }
   ],
   "source": [
    "a=\"3.5\"\n",
    "type(a)"
   ]
  },
  {
   "cell_type": "code",
   "execution_count": null,
   "id": "00a5fd65",
   "metadata": {
    "colab": {
     "base_uri": "https://localhost:8080/"
    },
    "id": "GXraoAECoGpO",
    "outputId": "01abf21c-9cbe-4624-e455-85c7795708f8"
   },
   "outputs": [
    {
     "data": {
      "text/plain": [
       "float"
      ]
     },
     "execution_count": 35,
     "metadata": {},
     "output_type": "execute_result"
    }
   ],
   "source": [
    "type(float(a))"
   ]
  },
  {
   "cell_type": "code",
   "execution_count": null,
   "id": "cf83f4e4",
   "metadata": {
    "colab": {
     "base_uri": "https://localhost:8080/"
    },
    "id": "pD1rjepBoLe2",
    "outputId": "b0e87123-c61d-4a52-851d-aa47fd7a4ee5"
   },
   "outputs": [
    {
     "data": {
      "text/plain": [
       "109"
      ]
     },
     "execution_count": 36,
     "metadata": {},
     "output_type": "execute_result"
    }
   ],
   "source": [
    "s=109\n",
    "s"
   ]
  },
  {
   "cell_type": "code",
   "execution_count": null,
   "id": "f0830120",
   "metadata": {
    "colab": {
     "base_uri": "https://localhost:8080/"
    },
    "id": "IA6IIlqOoPpi",
    "outputId": "c1ef9d9d-6427-44f2-9665-9e2ea544c5e8"
   },
   "outputs": [
    {
     "data": {
      "text/plain": [
       "109"
      ]
     },
     "execution_count": 37,
     "metadata": {},
     "output_type": "execute_result"
    }
   ],
   "source": [
    "int(s)"
   ]
  },
  {
   "cell_type": "code",
   "execution_count": null,
   "id": "e7d8e3d5",
   "metadata": {
    "colab": {
     "base_uri": "https://localhost:8080/"
    },
    "id": "fwfguZBdobgZ",
    "outputId": "4aadeed8-0632-41d7-e348-f79480b11be2"
   },
   "outputs": [
    {
     "data": {
      "text/plain": [
       "109.0"
      ]
     },
     "execution_count": 38,
     "metadata": {},
     "output_type": "execute_result"
    }
   ],
   "source": [
    "float(s)"
   ]
  },
  {
   "cell_type": "code",
   "execution_count": null,
   "id": "cfb50a70",
   "metadata": {
    "colab": {
     "base_uri": "https://localhost:8080/",
     "height": 35
    },
    "id": "QOub-9LBodvt",
    "outputId": "28e6c86e-bca4-4ef2-a442-827c4b06d0ce"
   },
   "outputs": [
    {
     "data": {
      "application/vnd.google.colaboratory.intrinsic+json": {
       "type": "string"
      },
      "text/plain": [
       "'109'"
      ]
     },
     "execution_count": 39,
     "metadata": {},
     "output_type": "execute_result"
    }
   ],
   "source": [
    "str(s)"
   ]
  },
  {
   "cell_type": "code",
   "execution_count": null,
   "id": "528ec83a",
   "metadata": {
    "colab": {
     "base_uri": "https://localhost:8080/",
     "height": 35
    },
    "id": "TtnsW2ruomJt",
    "outputId": "a278b5d5-8c31-42b7-efd8-cb3bbc173d68"
   },
   "outputs": [
    {
     "data": {
      "application/vnd.google.colaboratory.intrinsic+json": {
       "type": "string"
      },
      "text/plain": [
       "'Anuu'"
      ]
     },
     "execution_count": 40,
     "metadata": {},
     "output_type": "execute_result"
    }
   ],
   "source": [
    "b=\"Anuu\"\n",
    "b"
   ]
  },
  {
   "cell_type": "code",
   "execution_count": null,
   "id": "4c3504b0",
   "metadata": {
    "colab": {
     "base_uri": "https://localhost:8080/",
     "height": 35
    },
    "id": "jIW_XcJkqBrs",
    "outputId": "b7587c80-c1b7-4682-e89a-f9cbac9ddef6"
   },
   "outputs": [
    {
     "data": {
      "application/vnd.google.colaboratory.intrinsic+json": {
       "type": "string"
      },
      "text/plain": [
       "'A'"
      ]
     },
     "execution_count": 41,
     "metadata": {},
     "output_type": "execute_result"
    }
   ],
   "source": [
    "b[0] #memory block"
   ]
  },
  {
   "cell_type": "code",
   "execution_count": null,
   "id": "a241ca06",
   "metadata": {
    "colab": {
     "base_uri": "https://localhost:8080/",
     "height": 35
    },
    "id": "gcCvB1v9qKRL",
    "outputId": "9e8d719e-696a-4ff7-e949-b02eb4e450d7"
   },
   "outputs": [
    {
     "data": {
      "application/vnd.google.colaboratory.intrinsic+json": {
       "type": "string"
      },
      "text/plain": [
       "'A'"
      ]
     },
     "execution_count": 42,
     "metadata": {},
     "output_type": "execute_result"
    }
   ],
   "source": [
    "b[-4]"
   ]
  },
  {
   "cell_type": "code",
   "execution_count": null,
   "id": "88d9c40c",
   "metadata": {
    "colab": {
     "base_uri": "https://localhost:8080/",
     "height": 35
    },
    "id": "sNpivE3VqRcH",
    "outputId": "22514f13-b2b2-4f06-c2d3-421209ffd955"
   },
   "outputs": [
    {
     "data": {
      "application/vnd.google.colaboratory.intrinsic+json": {
       "type": "string"
      },
      "text/plain": [
       "'u'"
      ]
     },
     "execution_count": 43,
     "metadata": {},
     "output_type": "execute_result"
    }
   ],
   "source": [
    "b[-1]"
   ]
  },
  {
   "cell_type": "markdown",
   "id": "c20c7a78",
   "metadata": {
    "id": "6smrfO60qW4Y"
   },
   "source": [
    "##List\n",
    "It is a container which can hold all types of data"
   ]
  },
  {
   "cell_type": "code",
   "execution_count": null,
   "id": "8318e586",
   "metadata": {
    "colab": {
     "base_uri": "https://localhost:8080/"
    },
    "id": "Nyax1ND3qTT4",
    "outputId": "b171a434-2743-4a98-96f7-68dcdca1b076"
   },
   "outputs": [
    {
     "data": {
      "text/plain": [
       "[1, 2, (3+4j), True, 5.6, 'Anu']"
      ]
     },
     "execution_count": 44,
     "metadata": {},
     "output_type": "execute_result"
    }
   ],
   "source": [
    "list_cont=[1,2,3+4j,True,5.6,\"Anu\"]\n",
    "list_cont"
   ]
  },
  {
   "cell_type": "code",
   "execution_count": null,
   "id": "76d84a87",
   "metadata": {
    "colab": {
     "base_uri": "https://localhost:8080/"
    },
    "id": "hZbdi5mKqo0d",
    "outputId": "ff4a2a5a-f4d2-4193-fa3a-194ff968af6d"
   },
   "outputs": [
    {
     "data": {
      "text/plain": [
       "True"
      ]
     },
     "execution_count": 45,
     "metadata": {},
     "output_type": "execute_result"
    }
   ],
   "source": [
    "list_cont[3]"
   ]
  },
  {
   "cell_type": "code",
   "execution_count": null,
   "id": "8cfe9903",
   "metadata": {
    "colab": {
     "base_uri": "https://localhost:8080/"
    },
    "id": "sv91uCtgssPZ",
    "outputId": "817786f3-5a79-4500-9826-0a52ef9d254f"
   },
   "outputs": [
    {
     "data": {
      "text/plain": [
       "list"
      ]
     },
     "execution_count": 46,
     "metadata": {},
     "output_type": "execute_result"
    }
   ],
   "source": [
    "type(list_cont)"
   ]
  },
  {
   "cell_type": "markdown",
   "id": "681462fe",
   "metadata": {
    "id": "uoi_hRiitvMY"
   },
   "source": [
    "##Mutability\n",
    "which are editable and changeable"
   ]
  },
  {
   "cell_type": "code",
   "execution_count": null,
   "id": "ddac021f",
   "metadata": {
    "colab": {
     "base_uri": "https://localhost:8080/",
     "height": 35
    },
    "id": "OTdG2WzTsv8U",
    "outputId": "e56b670a-c25f-4921-a2d2-48f7af117168"
   },
   "outputs": [
    {
     "data": {
      "application/vnd.google.colaboratory.intrinsic+json": {
       "type": "string"
      },
      "text/plain": [
       "'Anu'"
      ]
     },
     "execution_count": 47,
     "metadata": {},
     "output_type": "execute_result"
    }
   ],
   "source": [
    "list_cont[5]"
   ]
  },
  {
   "cell_type": "code",
   "execution_count": null,
   "id": "3258941c",
   "metadata": {
    "id": "p4K6lmEvuQY7"
   },
   "outputs": [],
   "source": [
    "#Objects/ container whose states or value can be changed after they are created are called mutable objects.\n",
    "#list is a type of mutable objects.\n",
    "#Str is not mutable object"
   ]
  },
  {
   "cell_type": "code",
   "execution_count": null,
   "id": "43cbbd0e",
   "metadata": {
    "colab": {
     "base_uri": "https://localhost:8080/",
     "height": 35
    },
    "id": "SqYfWN3rvydl",
    "outputId": "86556a45-9416-462b-ef9b-985a4f36dcd6"
   },
   "outputs": [
    {
     "data": {
      "application/vnd.google.colaboratory.intrinsic+json": {
       "type": "string"
      },
      "text/plain": [
       "'pragati'"
      ]
     },
     "execution_count": 49,
     "metadata": {},
     "output_type": "execute_result"
    }
   ],
   "source": [
    "b=\"pragati\"\n",
    "b"
   ]
  },
  {
   "cell_type": "code",
   "execution_count": null,
   "id": "8a4a9251",
   "metadata": {
    "colab": {
     "base_uri": "https://localhost:8080/",
     "height": 35
    },
    "id": "RzKYQJZLv4JB",
    "outputId": "02d50c7e-87a4-49e9-a060-3df4d67719d2"
   },
   "outputs": [
    {
     "data": {
      "application/vnd.google.colaboratory.intrinsic+json": {
       "type": "string"
      },
      "text/plain": [
       "'p'"
      ]
     },
     "execution_count": 50,
     "metadata": {},
     "output_type": "execute_result"
    }
   ],
   "source": [
    "b[0]"
   ]
  },
  {
   "cell_type": "markdown",
   "id": "f53687ca",
   "metadata": {
    "id": "Cfj1zvmcwRbc"
   },
   "source": [
    "##Typecasting\n",
    "The process of changing the data type of value / object."
   ]
  },
  {
   "cell_type": "code",
   "execution_count": null,
   "id": "1fe02312",
   "metadata": {
    "colab": {
     "base_uri": "https://localhost:8080/"
    },
    "id": "Qwop5UV-v9vE",
    "outputId": "c9d39544-9c8f-46b7-95b0-3b17b014c9f3"
   },
   "outputs": [
    {
     "data": {
      "text/plain": [
       "5"
      ]
     },
     "execution_count": 51,
     "metadata": {},
     "output_type": "execute_result"
    }
   ],
   "source": [
    "a=\"2\"\n",
    "b=3\n",
    "#a+b ----> Error string value cann not be added with int value >> so we need typecasting\n",
    "int(a)+b"
   ]
  },
  {
   "cell_type": "code",
   "execution_count": null,
   "id": "5c5b5847",
   "metadata": {
    "id": "pktBiN5byY8k"
   },
   "outputs": [],
   "source": [
    "#Str to int and float\n",
    "a=\"2\"\n"
   ]
  },
  {
   "cell_type": "code",
   "execution_count": null,
   "id": "25cd91c8",
   "metadata": {
    "colab": {
     "base_uri": "https://localhost:8080/"
    },
    "id": "79wmHUsBa3Gn",
    "outputId": "c391bb30-7bdb-4c2e-e8de-785b91fac347"
   },
   "outputs": [
    {
     "name": "stdout",
     "output_type": "stream",
     "text": [
      "<class 'str'>\n",
      "<class 'int'>\n",
      "<class 'float'>\n"
     ]
    }
   ],
   "source": [
    "print(type(a))\n",
    "print(type(int(a)))\n",
    "print(type(float(a)))"
   ]
  },
  {
   "cell_type": "code",
   "execution_count": null,
   "id": "8afc179b",
   "metadata": {
    "colab": {
     "base_uri": "https://localhost:8080/"
    },
    "id": "zhxF_al5a_nI",
    "outputId": "6c18e88a-6d6b-4bd3-bc7b-106cf6a3ddb1"
   },
   "outputs": [
    {
     "data": {
      "text/plain": [
       "float"
      ]
     },
     "execution_count": 54,
     "metadata": {},
     "output_type": "execute_result"
    }
   ],
   "source": [
    "# float to int\n",
    "b=23.45\n",
    "type(b)"
   ]
  },
  {
   "cell_type": "code",
   "execution_count": null,
   "id": "c27ad2c0",
   "metadata": {
    "colab": {
     "base_uri": "https://localhost:8080/"
    },
    "id": "J8I9ozcdbFQ0",
    "outputId": "7e5ed41a-d055-40b6-f425-dacde3ccb36a"
   },
   "outputs": [
    {
     "data": {
      "text/plain": [
       "int"
      ]
     },
     "execution_count": 55,
     "metadata": {},
     "output_type": "execute_result"
    }
   ],
   "source": [
    "float_value=int(b)\n",
    "type(float_value)"
   ]
  },
  {
   "cell_type": "code",
   "execution_count": null,
   "id": "21a23c3c",
   "metadata": {
    "colab": {
     "base_uri": "https://localhost:8080/"
    },
    "id": "qAG1W-OFbKps",
    "outputId": "b8f45a80-b207-430c-d5a5-ffdbfde16352"
   },
   "outputs": [
    {
     "data": {
      "text/plain": [
       "int"
      ]
     },
     "execution_count": 56,
     "metadata": {},
     "output_type": "execute_result"
    }
   ],
   "source": [
    "# int to float and str\n",
    "a=56\n",
    "type(a)"
   ]
  },
  {
   "cell_type": "code",
   "execution_count": null,
   "id": "c4e1e1a0",
   "metadata": {
    "colab": {
     "base_uri": "https://localhost:8080/"
    },
    "id": "qPuqV-upbf0d",
    "outputId": "9171d5a7-022b-4912-8038-2ec36a70690c"
   },
   "outputs": [
    {
     "name": "stdout",
     "output_type": "stream",
     "text": [
      "56.0\n",
      "<class 'float'>\n"
     ]
    }
   ],
   "source": [
    "float_value=float(a)\n",
    "print(float_value)\n",
    "print(type(float_value))"
   ]
  },
  {
   "cell_type": "code",
   "execution_count": null,
   "id": "33730e46",
   "metadata": {
    "colab": {
     "base_uri": "https://localhost:8080/"
    },
    "id": "3XKytonEbsJj",
    "outputId": "2f4d1fb8-7d92-4174-84cb-c7e582bd3ab5"
   },
   "outputs": [
    {
     "name": "stdout",
     "output_type": "stream",
     "text": [
      "56\n",
      "<class 'str'>\n"
     ]
    }
   ],
   "source": [
    "string=str(a)\n",
    "print(string)\n",
    "print(type(string))"
   ]
  },
  {
   "cell_type": "markdown",
   "id": "ae240d83",
   "metadata": {
    "id": "eV006W6vb15X"
   },
   "source": [
    "### There are two types of Typecasting\n",
    "- Explicit typecasting\n",
    "- Implicit Typecasting"
   ]
  },
  {
   "cell_type": "markdown",
   "id": "60f087bd",
   "metadata": {
    "id": "nhDRu0PucTm9"
   },
   "source": [
    "### Explicit Typecasting\n",
    "- Datatype conversion is done by using in-built function as programmer has to do it."
   ]
  },
  {
   "cell_type": "code",
   "execution_count": null,
   "id": "685b8b70",
   "metadata": {
    "colab": {
     "base_uri": "https://localhost:8080/"
    },
    "id": "4Jjk_XP0cBNt",
    "outputId": "b0d69296-f302-4b37-d518-b5bde1ca60e8"
   },
   "outputs": [
    {
     "data": {
      "text/plain": [
       "str"
      ]
     },
     "execution_count": 59,
     "metadata": {},
     "output_type": "execute_result"
    }
   ],
   "source": [
    "a=\"23\"\n",
    "type(a)"
   ]
  },
  {
   "cell_type": "code",
   "execution_count": null,
   "id": "e6955081",
   "metadata": {
    "colab": {
     "base_uri": "https://localhost:8080/"
    },
    "id": "hApa6nsHb0Cl",
    "outputId": "37d8b964-19da-4bb0-c00c-332c83fb09f4"
   },
   "outputs": [
    {
     "data": {
      "text/plain": [
       "23"
      ]
     },
     "execution_count": 60,
     "metadata": {},
     "output_type": "execute_result"
    }
   ],
   "source": [
    "int(a)"
   ]
  },
  {
   "cell_type": "code",
   "execution_count": null,
   "id": "15a28f2a",
   "metadata": {
    "colab": {
     "base_uri": "https://localhost:8080/"
    },
    "id": "wmj0TqVOcavY",
    "outputId": "bce9a120-fd3b-4159-f2b5-06c9b578595b"
   },
   "outputs": [
    {
     "data": {
      "text/plain": [
       "23.0"
      ]
     },
     "execution_count": 61,
     "metadata": {},
     "output_type": "execute_result"
    }
   ],
   "source": [
    "float(a)"
   ]
  },
  {
   "cell_type": "code",
   "execution_count": null,
   "id": "69f947c3",
   "metadata": {
    "colab": {
     "base_uri": "https://localhost:8080/"
    },
    "id": "WsS9B246cdDM",
    "outputId": "c558133d-9b1b-4323-b5bb-a33b8fe37b3b"
   },
   "outputs": [
    {
     "name": "stdout",
     "output_type": "stream",
     "text": [
      "abcxyz\n",
      "<class 'str'>\n"
     ]
    }
   ],
   "source": [
    "x=\"abc\"\n",
    "y=\"xyz\"\n",
    "x+y\n",
    "print(x+y)\n",
    "print(type(x+y))"
   ]
  },
  {
   "cell_type": "code",
   "execution_count": null,
   "id": "eebdc5da",
   "metadata": {
    "colab": {
     "base_uri": "https://localhost:8080/",
     "height": 35
    },
    "id": "w9MYvYpccySo",
    "outputId": "dec897db-02ba-492e-e649-fd54eec55abb"
   },
   "outputs": [
    {
     "data": {
      "application/vnd.google.colaboratory.intrinsic+json": {
       "type": "string"
      },
      "text/plain": [
       "'100pd'"
      ]
     },
     "execution_count": 63,
     "metadata": {},
     "output_type": "execute_result"
    }
   ],
   "source": [
    "#Now if we take one variable as str and other as int/float, operations cannot be done\n",
    "# it will throw concatenantion error\n",
    "a=100\n",
    "b=\"pd\"\n",
    "#a+b #unsupported operand type(s) for +: 'int' and 'str'\n",
    "# but if we convert both value in str. no error occured\n",
    "str(a)+b"
   ]
  },
  {
   "cell_type": "markdown",
   "id": "9f4d6276",
   "metadata": {
    "id": "LSu0ftVbd69I"
   },
   "source": [
    "### Implicit Typecasting\n",
    "- DataType conversion is done by python itself. It i understandable to python.\n",
    "- int<float<complex"
   ]
  },
  {
   "cell_type": "code",
   "execution_count": null,
   "id": "1bd9764c",
   "metadata": {
    "colab": {
     "base_uri": "https://localhost:8080/"
    },
    "id": "6GrDZX8sdh3m",
    "outputId": "b9ed0601-10c1-4880-f5ae-49f5dee98a54"
   },
   "outputs": [
    {
     "data": {
      "text/plain": [
       "112.9"
      ]
     },
     "execution_count": 64,
     "metadata": {},
     "output_type": "execute_result"
    }
   ],
   "source": [
    "a=34 #int value\n",
    "b=78.9 #float_value\n",
    "a+b # throw the output in float"
   ]
  },
  {
   "cell_type": "code",
   "execution_count": null,
   "id": "585d256e",
   "metadata": {
    "colab": {
     "base_uri": "https://localhost:8080/"
    },
    "id": "hxuJg351eKqH",
    "outputId": "5c7a0ac5-00b6-4eb7-acf3-8b5011c90c46"
   },
   "outputs": [
    {
     "data": {
      "text/plain": [
       "(77.7+3j)"
      ]
     },
     "execution_count": 65,
     "metadata": {},
     "output_type": "execute_result"
    }
   ],
   "source": [
    "i=67.7 #Float value\n",
    "j=10+3j #complex value\n",
    "i+j # Throw output in complex value"
   ]
  },
  {
   "cell_type": "markdown",
   "id": "32e26f9e",
   "metadata": {
    "id": "y5SHBzIGevjZ"
   },
   "source": [
    "### Boolean Typecasting\n",
    "- Any value other than 0 and empty str will be treated as true"
   ]
  },
  {
   "cell_type": "code",
   "execution_count": null,
   "id": "3ddc756f",
   "metadata": {
    "colab": {
     "base_uri": "https://localhost:8080/"
    },
    "id": "QUMbD0oGeePO",
    "outputId": "22104108-0042-4b93-d209-837c082cb7c6"
   },
   "outputs": [
    {
     "name": "stdout",
     "output_type": "stream",
     "text": [
      "False\n",
      "True\n",
      "True\n",
      "True\n",
      "False\n"
     ]
    }
   ],
   "source": [
    "bool(0)\n",
    "bool(1)\n",
    "bool(-76)\n",
    "bool(\"abc\")\n",
    "bool(\"\")\n",
    "print(bool(0))\n",
    "print(bool(1))\n",
    "print(bool(-76))\n",
    "print(bool(\"abc\"))\n",
    "print(bool(\"\"))"
   ]
  }
 ],
 "metadata": {},
 "nbformat": 4,
 "nbformat_minor": 5
}
