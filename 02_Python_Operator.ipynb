{
 "cells": [
  {
   "cell_type": "markdown",
   "id": "485c634e",
   "metadata": {
    "id": "A2NFybEefe-M"
   },
   "source": [
    "# Python Operator"
   ]
  },
  {
   "cell_type": "markdown",
   "id": "a3fef2c7",
   "metadata": {
    "id": "GOu-889LMV5C"
   },
   "source": [
    "- Python operators are special keyword symbol which are used to perform operations as values or variables to manage and compute data."
   ]
  },
  {
   "cell_type": "markdown",
   "id": "99d0850d",
   "metadata": {
    "id": "On46PyO4Mq6z"
   },
   "source": [
    "## Types of Operator"
   ]
  },
  {
   "cell_type": "markdown",
   "id": "c5036010",
   "metadata": {
    "id": "3IyNDXYjMwCr"
   },
   "source": [
    "- Arithmatic Operator\n",
    "- Assignment Operator\n",
    "- Relational ( Comparison) Operator\n",
    "- Logical Operator\n",
    "- Bitwise operator\n",
    "- Membership operator\n",
    "- Identity Operator\n"
   ]
  },
  {
   "cell_type": "markdown",
   "id": "0b6b4a49",
   "metadata": {
    "id": "OxOUDGhCNu86"
   },
   "source": [
    "### Arithmatic Operator : To perform basic maths"
   ]
  },
  {
   "cell_type": "code",
   "execution_count": null,
   "id": "6149a4a4",
   "metadata": {
    "colab": {
     "base_uri": "https://localhost:8080/"
    },
    "id": "vme3yZaffLCE",
    "outputId": "8f14ef77-6a49-480e-ae48-92b843411053"
   },
   "outputs": [
    {
     "name": "stdout",
     "output_type": "stream",
     "text": [
      "Enter the number 1 : 10\n",
      "Enter the number 2 : 10\n",
      "Addition of 10.0 and 10.0 =  20.0\n",
      "Subtraction of 10.0 and 10.0 =  0.0\n",
      "Multiplication of 10.0 and 10.0 =  100.0\n",
      "Diviion of 10.0 and 10.0 =  1.0\n",
      "Remainder of 10.0 and 10.0 =  0.0\n"
     ]
    }
   ],
   "source": [
    "num1=float(input(\"Enter the number 1 : \"))\n",
    "num2=float(input(\"Enter the number 2 : \"))\n",
    "print(f\"Addition of {num1} and {num2} = \",num1+num2)\n",
    "print(f\"Subtraction of {num1} and {num2} = \",num1-num2)\n",
    "print(f\"Multiplication of {num1} and {num2} = \",num1*num2)\n",
    "print(f\"Diviion of {num1} and {num2} = \",num1/num2)\n",
    "print(f\"Remainder of {num1} and {num2} = \",num1%num2)"
   ]
  },
  {
   "cell_type": "markdown",
   "id": "ba473b42",
   "metadata": {
    "id": "LgUvo4ehPLGp"
   },
   "source": [
    "### Assignment Operator : Assigns values to variable"
   ]
  },
  {
   "cell_type": "markdown",
   "id": "5ff379fc",
   "metadata": {
    "id": "FQ9nNqemPeU5"
   },
   "source": [
    "- = Assign\n",
    "- += Add and assign\n",
    "- -= Subtract and assign\n",
    "- *= Multiply and assign\n",
    "- /= Divide and assign\n",
    "- //= Floor divide and assign\n",
    "- %= Modulus and assign\n",
    "- **= Exponent and assign\n",
    "- &= Bitwise AND and assign\n",
    "- ^= Bitwise XOR operator\n",
    "- (>>)= Right shift and assign\n",
    "- <<= Left shift and assign"
   ]
  },
  {
   "cell_type": "code",
   "execution_count": null,
   "id": "c96ab895",
   "metadata": {
    "colab": {
     "base_uri": "https://localhost:8080/"
    },
    "id": "9VXwP35vOb5x",
    "outputId": "27d05df5-2d21-4d9a-f273-c65ee6498370"
   },
   "outputs": [
    {
     "data": {
      "text/plain": [
       "100"
      ]
     },
     "execution_count": 68,
     "metadata": {},
     "output_type": "execute_result"
    }
   ],
   "source": [
    "a=100\n",
    "a"
   ]
  },
  {
   "cell_type": "code",
   "execution_count": null,
   "id": "c0d7d756",
   "metadata": {
    "colab": {
     "base_uri": "https://localhost:8080/"
    },
    "id": "CjZOHy0bRwKO",
    "outputId": "d03baa0f-baee-475b-b77e-cd191248fd42"
   },
   "outputs": [
    {
     "data": {
      "text/plain": [
       "150"
      ]
     },
     "execution_count": 69,
     "metadata": {},
     "output_type": "execute_result"
    }
   ],
   "source": [
    "a+=50\n",
    "a"
   ]
  },
  {
   "cell_type": "code",
   "execution_count": null,
   "id": "3508d8aa",
   "metadata": {
    "colab": {
     "base_uri": "https://localhost:8080/"
    },
    "id": "ReHSmnaASXNl",
    "outputId": "e7676e4c-e6ff-499b-8635-da2ee1913898"
   },
   "outputs": [
    {
     "data": {
      "text/plain": [
       "100"
      ]
     },
     "execution_count": 70,
     "metadata": {},
     "output_type": "execute_result"
    }
   ],
   "source": [
    "a-=50\n",
    "a"
   ]
  },
  {
   "cell_type": "code",
   "execution_count": null,
   "id": "487a9c82",
   "metadata": {
    "colab": {
     "base_uri": "https://localhost:8080/"
    },
    "id": "GimrN6b6SZaA",
    "outputId": "49390cb5-ebfd-4c01-eee3-34c6eef9b31e"
   },
   "outputs": [
    {
     "data": {
      "text/plain": [
       "200"
      ]
     },
     "execution_count": 71,
     "metadata": {},
     "output_type": "execute_result"
    }
   ],
   "source": [
    "a*=2\n",
    "a"
   ]
  },
  {
   "cell_type": "code",
   "execution_count": null,
   "id": "cd3fed6c",
   "metadata": {
    "colab": {
     "base_uri": "https://localhost:8080/"
    },
    "id": "lHRSN35wScuY",
    "outputId": "a0ad216f-7a93-4eea-c350-13d77682772c"
   },
   "outputs": [
    {
     "data": {
      "text/plain": [
       "100.0"
      ]
     },
     "execution_count": 72,
     "metadata": {},
     "output_type": "execute_result"
    }
   ],
   "source": [
    "a/=2\n",
    "a"
   ]
  },
  {
   "cell_type": "code",
   "execution_count": null,
   "id": "fca761b1",
   "metadata": {
    "colab": {
     "base_uri": "https://localhost:8080/"
    },
    "id": "SZ60Z8bVSgoq",
    "outputId": "029b6c1e-d4fb-458a-b5f0-0861d8602927"
   },
   "outputs": [
    {
     "data": {
      "text/plain": [
       "33.0"
      ]
     },
     "execution_count": 73,
     "metadata": {},
     "output_type": "execute_result"
    }
   ],
   "source": [
    "a//=3\n",
    "a"
   ]
  },
  {
   "cell_type": "code",
   "execution_count": null,
   "id": "95c0a483",
   "metadata": {
    "colab": {
     "base_uri": "https://localhost:8080/"
    },
    "id": "cGZwtNZkSm4F",
    "outputId": "58b1cb6e-c0ce-49c8-a2c6-0dad1d5aa4ef"
   },
   "outputs": [
    {
     "data": {
      "text/plain": [
       "6.0"
      ]
     },
     "execution_count": 74,
     "metadata": {},
     "output_type": "execute_result"
    }
   ],
   "source": [
    "a%=9\n",
    "a"
   ]
  },
  {
   "cell_type": "code",
   "execution_count": null,
   "id": "4b95b109",
   "metadata": {
    "colab": {
     "base_uri": "https://localhost:8080/"
    },
    "id": "YgIQ1AGefDR4",
    "outputId": "61c4b1a9-adfe-403a-a8a7-6c8c4a5fcc01"
   },
   "outputs": [
    {
     "data": {
      "text/plain": [
       "35"
      ]
     },
     "execution_count": 75,
     "metadata": {},
     "output_type": "execute_result"
    }
   ],
   "source": [
    "#Right shift Operator : Remove the no. of zero in binary from righth\n",
    "280>>3\n"
   ]
  },
  {
   "cell_type": "code",
   "execution_count": null,
   "id": "5b264b63",
   "metadata": {
    "colab": {
     "base_uri": "https://localhost:8080/",
     "height": 35
    },
    "id": "qM9SQVxPfc0O",
    "outputId": "cf6ba0f1-c785-4c00-c79f-867142994080"
   },
   "outputs": [
    {
     "data": {
      "application/vnd.google.colaboratory.intrinsic+json": {
       "type": "string"
      },
      "text/plain": [
       "'0b100011000'"
      ]
     },
     "execution_count": 76,
     "metadata": {},
     "output_type": "execute_result"
    }
   ],
   "source": [
    "bin(280)"
   ]
  },
  {
   "cell_type": "code",
   "execution_count": null,
   "id": "005937bc",
   "metadata": {
    "colab": {
     "base_uri": "https://localhost:8080/",
     "height": 35
    },
    "id": "tOmHlOeSffUJ",
    "outputId": "7e72a70a-1e29-4457-d740-ee12a8ac62d0"
   },
   "outputs": [
    {
     "data": {
      "application/vnd.google.colaboratory.intrinsic+json": {
       "type": "string"
      },
      "text/plain": [
       "'0b100011'"
      ]
     },
     "execution_count": 77,
     "metadata": {},
     "output_type": "execute_result"
    }
   ],
   "source": [
    "bin(35)"
   ]
  },
  {
   "cell_type": "code",
   "execution_count": null,
   "id": "7b2cc7b4",
   "metadata": {
    "colab": {
     "base_uri": "https://localhost:8080/"
    },
    "id": "irz5MW8LfiSH",
    "outputId": "6a622d6c-e332-4379-df0f-dd7a578baf3b"
   },
   "outputs": [
    {
     "data": {
      "text/plain": [
       "280"
      ]
     },
     "execution_count": 78,
     "metadata": {},
     "output_type": "execute_result"
    }
   ],
   "source": [
    "# Left Shift Operator : Shift the bit to the left by filling no of 0's on right\n",
    "35<<3"
   ]
  },
  {
   "cell_type": "code",
   "execution_count": null,
   "id": "c99398f2",
   "metadata": {
    "colab": {
     "base_uri": "https://localhost:8080/"
    },
    "id": "LG4pDp_Ffyuz",
    "outputId": "e7b78b52-8fe6-464c-b3f1-1ee7dcc61e7f"
   },
   "outputs": [
    {
     "name": "stdout",
     "output_type": "stream",
     "text": [
      "0b100011\n",
      "0b100011000\n"
     ]
    }
   ],
   "source": [
    "print(bin(35))\n",
    "print(bin(280))"
   ]
  },
  {
   "cell_type": "markdown",
   "id": "bd7a89d0",
   "metadata": {
    "id": "fWsAUt3QTPF4"
   },
   "source": [
    "### Relational / Comparison Operator : Comparison of two values"
   ]
  },
  {
   "cell_type": "markdown",
   "id": "9df72af3",
   "metadata": {
    "id": "zPBQH3xlThLX"
   },
   "source": [
    "- It is used to compare two values and returns a Boolean Output\n",
    "- used in conditional statements\n",
    "- used in filtering database\n",
    "- used in logic building\n",
    "\n"
   ]
  },
  {
   "cell_type": "markdown",
   "id": "9e83201e",
   "metadata": {
    "id": "LoGQF_6jUDwZ"
   },
   "source": [
    "- == Equal to\n",
    "- != Not Equal to\n",
    "- '>' greater than\n",
    "- '<' smaller than\n",
    "- '>=\" greater than / equal to\n",
    "- '<=' smaller than / equal to"
   ]
  },
  {
   "cell_type": "code",
   "execution_count": null,
   "id": "c3059293",
   "metadata": {
    "colab": {
     "base_uri": "https://localhost:8080/"
    },
    "id": "ewi0Bpo7TD6k",
    "outputId": "fccb2778-57ed-4035-f93b-288dfac5aed7"
   },
   "outputs": [
    {
     "name": "stdout",
     "output_type": "stream",
     "text": [
      "False\n",
      "True\n",
      "False\n",
      "True\n",
      "False\n",
      "True\n"
     ]
    }
   ],
   "source": [
    "a=10\n",
    "b=5\n",
    "print(a==b)\n",
    "print(a>b)\n",
    "print(a<b)\n",
    "print(a>=b)\n",
    "print(a<=b)\n",
    "print(a!=b)"
   ]
  },
  {
   "cell_type": "markdown",
   "id": "2f7cf3b4",
   "metadata": {
    "id": "oh5rRPItVoUQ"
   },
   "source": [
    "### Logical operator : Combine conditional statements"
   ]
  },
  {
   "cell_type": "markdown",
   "id": "369c1ace",
   "metadata": {
    "id": "G9HY9qe_V7ut"
   },
   "source": [
    "- Used to combine multiple conditions and returns boolean result"
   ]
  },
  {
   "cell_type": "markdown",
   "id": "daa38f7e",
   "metadata": {
    "id": "b3jP92d2Ykyz"
   },
   "source": [
    "![image.png](data:image/png;base64,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)"
   ]
  },
  {
   "cell_type": "markdown",
   "id": "5f9113ae",
   "metadata": {
    "id": "xtZQEwmqWDmp"
   },
   "source": [
    "- and : Return True if both condition are true\n",
    "- or : Return True if at least one condition is true\n",
    "- not : Reverse the result"
   ]
  },
  {
   "cell_type": "code",
   "execution_count": null,
   "id": "d683cb09",
   "metadata": {
    "colab": {
     "base_uri": "https://localhost:8080/"
    },
    "id": "mUDoCGhpVK9l",
    "outputId": "b52dade3-8369-47d2-d522-ea6395e55f57"
   },
   "outputs": [
    {
     "name": "stdout",
     "output_type": "stream",
     "text": [
      "Eligible\n"
     ]
    }
   ],
   "source": [
    "age=24\n",
    "marks=200\n",
    "if 25>age>20 and marks>150:\n",
    "    print(\"Eligible\")\n",
    "elif age>25 and marks>150:\n",
    "    print(\"Age limit exceed\")\n",
    "else:\n",
    "    print(\"Not eligible\")"
   ]
  },
  {
   "cell_type": "code",
   "execution_count": null,
   "id": "9d46942b",
   "metadata": {
    "colab": {
     "base_uri": "https://localhost:8080/"
    },
    "id": "XwB24KBNXDAB",
    "outputId": "c5aa7fa5-d156-4cab-93f5-12d90f9391cc"
   },
   "outputs": [
    {
     "name": "stdout",
     "output_type": "stream",
     "text": [
      "Eligible\n"
     ]
    }
   ],
   "source": [
    "age=30\n",
    "marks=200\n",
    "if 25>age>20 or marks>150:\n",
    "    print(\"Eligible\")\n",
    "elif age>25 or marks>150:\n",
    "    print(\"Age limit exceed\")\n",
    "else:\n",
    "    print(\"Not eligible\")"
   ]
  },
  {
   "cell_type": "code",
   "execution_count": null,
   "id": "873a0d23",
   "metadata": {
    "colab": {
     "base_uri": "https://localhost:8080/"
    },
    "id": "tlHpdEKiXTOX",
    "outputId": "7f4bd92b-0438-42ea-f052-98eab9f4d840"
   },
   "outputs": [
    {
     "data": {
      "text/plain": [
       "False"
      ]
     },
     "execution_count": 83,
     "metadata": {},
     "output_type": "execute_result"
    }
   ],
   "source": [
    "not(True)"
   ]
  },
  {
   "cell_type": "code",
   "execution_count": null,
   "id": "30c5788c",
   "metadata": {
    "colab": {
     "base_uri": "https://localhost:8080/"
    },
    "id": "H-gQ-m8YYU7C",
    "outputId": "bb90da67-2bf1-4b87-b2b8-eb5002681ddc"
   },
   "outputs": [
    {
     "data": {
      "text/plain": [
       "True"
      ]
     },
     "execution_count": 84,
     "metadata": {},
     "output_type": "execute_result"
    }
   ],
   "source": [
    "not(False)"
   ]
  },
  {
   "cell_type": "markdown",
   "id": "21ec7c14",
   "metadata": {
    "id": "36oQbXjgYrXI"
   },
   "source": [
    "### Bitwise Operator : Works on binary bits"
   ]
  },
  {
   "cell_type": "markdown",
   "id": "e0f6aed4",
   "metadata": {
    "id": "r7f8bPrbY2bF"
   },
   "source": [
    "- Each number is treated as series of 0's and 1's like a binary, and operation perform bit-by-bit"
   ]
  },
  {
   "cell_type": "code",
   "execution_count": null,
   "id": "c78b2b07",
   "metadata": {
    "colab": {
     "base_uri": "https://localhost:8080/"
    },
    "id": "FHv2IAb8YYsK",
    "outputId": "b2ffef28-9365-4098-ebc0-c7c9f5659241"
   },
   "outputs": [
    {
     "name": "stdout",
     "output_type": "stream",
     "text": [
      "0b101\n",
      "0b100\n",
      "4\n",
      "0b100\n"
     ]
    }
   ],
   "source": [
    "a=5\n",
    "print(bin(5))\n",
    "b=4\n",
    "print(bin(4))\n",
    "print(a&b)\n",
    "print(bin(a&b))"
   ]
  },
  {
   "cell_type": "markdown",
   "id": "f2995077",
   "metadata": {
    "id": "eB8vjpmEZjsZ"
   },
   "source": [
    "- In data compression : works on bits to shrink data sizes\n",
    "- In cryptography : XOR encryption in real things\n",
    "- In game dev : Flags / toggles manipulations"
   ]
  },
  {
   "cell_type": "markdown",
   "id": "8a50c6e7",
   "metadata": {
    "id": "Q2wEtc1QaMSK"
   },
   "source": [
    "### Membership Operator : Tests if the value is in the sequence"
   ]
  },
  {
   "cell_type": "markdown",
   "id": "ac2b3e67",
   "metadata": {
    "id": "50mNfltea2Xj"
   },
   "source": [
    "- if the value exist inside a sequence like\n",
    "- string\n",
    "- list\n",
    "- tuple\n",
    "- set\n",
    "- dict\n"
   ]
  },
  {
   "cell_type": "markdown",
   "id": "e464c88a",
   "metadata": {
    "id": "4loWL9OJbD-j"
   },
   "source": [
    "#### types of membership operator"
   ]
  },
  {
   "cell_type": "markdown",
   "id": "d533f296",
   "metadata": {
    "id": "VNgzHjyHbKsd"
   },
   "source": [
    "- in : Return True if value is present\n",
    "- not in : Return True if value is not present"
   ]
  },
  {
   "cell_type": "code",
   "execution_count": null,
   "id": "9bb1aee0",
   "metadata": {
    "colab": {
     "base_uri": "https://localhost:8080/"
    },
    "id": "lWaNtswzZbgy",
    "outputId": "2510768f-23a8-4c0c-bf41-94cdfa78e845"
   },
   "outputs": [
    {
     "name": "stdout",
     "output_type": "stream",
     "text": [
      "True\n",
      "False\n",
      "True\n",
      "False\n",
      "True\n",
      "False\n"
     ]
    }
   ],
   "source": [
    "# list\n",
    "num=[23,46,98,90]\n",
    "print(23 in num)\n",
    "print(45 in num)\n",
    "# Dict\n",
    "info={\"name\":\"XYZ\",\"city\":\"Gorakhpur\"} # name is keyword but XYZ is a value\n",
    "print(\"name\" in info) # Only check keys\n",
    "print(\"XYZ\" in info)\n",
    "# Tuple\n",
    "t=(12,23,34)\n",
    "print(12 in t)\n",
    "print(23 not in t)"
   ]
  },
  {
   "cell_type": "markdown",
   "id": "43f4236a",
   "metadata": {
    "id": "S_jAgMaucnOk"
   },
   "source": [
    "### Identity Operator : Compare memory location of Two objects"
   ]
  },
  {
   "cell_type": "markdown",
   "id": "77a29089",
   "metadata": {
    "id": "QpV3oGG5cwKb"
   },
   "source": [
    "- is : to compare two values : If they look alike\n",
    "- == : Same to same : Literally the same"
   ]
  },
  {
   "cell_type": "code",
   "execution_count": null,
   "id": "ea6e38c7",
   "metadata": {
    "colab": {
     "base_uri": "https://localhost:8080/"
    },
    "id": "Hlr1gTKCcPuB",
    "outputId": "e71299a5-32c3-430f-9914-1adf8ce8aa57"
   },
   "outputs": [
    {
     "name": "stdout",
     "output_type": "stream",
     "text": [
      "135262321911680\n",
      "135262321911680\n"
     ]
    }
   ],
   "source": [
    "x=[1,2,3]\n",
    "y=x\n",
    "print(id(x))\n",
    "print(id(y))"
   ]
  }
 ],
 "metadata": {
  "language_info": {
   "name": "python"
  }
 },
 "nbformat": 4,
 "nbformat_minor": 5
}
